{
 "cells": [
  {
   "cell_type": "markdown",
   "metadata": {},
   "source": [
    "# Johnson - Week 2: K Nearest Neighbors (KNN)\n",
    "\n",
    "**Objective:** Predict heart disease in patients.\n",
    "\n",
    "* Get to know your data, start out by data exploration. Summarized your finding.\n",
    "* Divide the data into training set and test set randomly with ratio 80:20.\n",
    "  Make prediction based on 1-nearest neighbor.\n",
    "  What is the error rate of this approach? Report your results in a confusion matrix.\n",
    "* Use different values for K, what is the optimal value of K from your experiments?\n",
    "  Report the error rate of the optimal K value and its confusion matrix.\n",
    "  Is there any improvement (by how much) over 1-nearest neighbor?\n",
    "* Is there anything else you can do to improve your model?\n",
    "  If yes, demonstrate your approach.\n",
    "  (Hint: there is always something that you can try, unless your accuracy score is 100%)\n",
    "\n",
    "---\n",
    "\n",
    "# 1 Setup\n",
    "\n",
    "## 1.A Sanity Check of Provided Data File\n",
    "\n",
    "Prior to importing any data, we perform a few checks against the file:\n",
    "* What is the approximate size of the file (will our current configuration\n",
    "  support the given quantity of data)?\n",
    "* What is the content of the file and does it use the correct line endings?\n",
    "* How many rows (lines) are in the file (can be used to double-check that\n",
    "  the full dataset is loaded by Pandas)?\n",
    "* Does the data have a header row?\n",
    "\n",
    "**NOTE:** This week, we were provided an already-cleaned set of data from Week 1"
   ]
  },
  {
   "cell_type": "code",
   "execution_count": 1,
   "metadata": {},
   "outputs": [
    {
     "name": "stdout",
     "output_type": "stream",
     "text": [
      "data/heart.disease.data.clean.csv:\n",
      "    Data file size:      12K\n",
      "    Data file type:      CSV text\n",
      "    Number of lines:     283\n",
      "    Data header row?     age,sex,cp,trestbps,chol,cigs,years,fbs,famhist,restecg,thalach,exang,thal,num\n"
     ]
    }
   ],
   "source": [
    "%%bash\n",
    "declare -a DATA_FILES=(\"data/heart.disease.data.clean.csv\")\n",
    "\n",
    "for FILE in \"${DATA_FILES[@]}\"; do\n",
    "    if [ -f \"${FILE}\" ] ; then\n",
    "        echo \"${FILE}:\"\n",
    "        echo \"    Data file size:      $(du -h ${FILE} | awk '{print $1;}')\"\n",
    "        echo \"    Data file type:      $(file --brief ${FILE})\"\n",
    "        echo \"    Number of lines:     $(wc -l ${FILE} | awk '{print $1;}')\"\n",
    "        echo \"    Data header row?     $(head -n 1 ${FILE})\"\n",
    "    else\n",
    "        echo \"${FILE}: NOT FOUND\"\n",
    "    fi\n",
    "done"
   ]
  },
  {
   "cell_type": "markdown",
   "metadata": {},
   "source": [
    "## 1.B Python/Jupyter Setup\n",
    "\n",
    "We organize the imports at the begining of the notebook, similar to a\n",
    "\"traditional\" Python file.  This is a personal preference.\n",
    "\n",
    "Furthermore, we prefer the Python `logging` module over \"raw\" print statements\n",
    "to stdout."
   ]
  },
  {
   "cell_type": "code",
   "execution_count": 2,
   "metadata": {},
   "outputs": [],
   "source": [
    "import logging\n",
    "import matplotlib.pyplot as plt\n",
    "import numpy as np\n",
    "import pandas as pd\n",
    "import seaborn as sns\n",
    "import sklearn.compose\n",
    "import sklearn.decomposition\n",
    "import sklearn.impute\n",
    "import sklearn.metrics\n",
    "import sklearn.pipeline\n",
    "import sklearn.preprocessing\n",
    "import sklearn.model_selection\n",
    "import sklearn.neighbors\n",
    "\n",
    "\n",
    "# Activate the 'inline' backend such that plots are displayed directly\n",
    "# after the cell containing the plot command\n",
    "%matplotlib inline\n",
    "\n",
    "# Display up to 100 rows\n",
    "pd.set_option('max_row', 100)\n",
    "\n",
    "# Set up logging ...\n",
    "logging.basicConfig(format='%(asctime)s - %(levelname)-6s - %(name)10s - %(message)s',\n",
    "                    datefmt='%Y-%m-%d %H:%M:%S',\n",
    "                    level=logging.INFO)\n",
    "\n",
    "LOGGER = logging.getLogger('MSDS-680')\n",
    "\n",
    "RANDOM_SEED = 42\n",
    "MAX_K       = 50\n",
    "KNN_KWARGS  = {\n",
    "    'weights':      'distance',     # 'distance', 'uniform'\n",
    "    'metric':       'minkowski',    # 'minkowski', 'euclidean', 'manhanttan', 'mahalanobis'\n",
    "    'p':            2,              # if metric == 'minkowski'\n",
    "}"
   ]
  },
  {
   "cell_type": "markdown",
   "metadata": {},
   "source": [
    "## 1.C Import the Data\n",
    "\n",
    "* Recall from **1.A** that the file has 283 lines, so we expect\n",
    "  `df_rows = 283 - 1 = 282` (because we also know the file contains a header\n",
    "  row)\n",
    "* Also from **1.A**, we know that there are `14` columns, based on the number\n",
    "  of labels in the header row (it seems that `dm` has been removed, likely\n",
    "  because it did not contain enough data to be imputed)\n"
   ]
  },
  {
   "cell_type": "code",
   "execution_count": 3,
   "metadata": {},
   "outputs": [
    {
     "name": "stderr",
     "output_type": "stream",
     "text": [
      "2022-01-23 03:33:28 - INFO   -   MSDS-680 - heart_disease_df.shape ==> 282 rows x 14 cols\n"
     ]
    },
    {
     "data": {
      "text/html": [
       "<div>\n",
       "<style scoped>\n",
       "    .dataframe tbody tr th:only-of-type {\n",
       "        vertical-align: middle;\n",
       "    }\n",
       "\n",
       "    .dataframe tbody tr th {\n",
       "        vertical-align: top;\n",
       "    }\n",
       "\n",
       "    .dataframe thead th {\n",
       "        text-align: right;\n",
       "    }\n",
       "</style>\n",
       "<table border=\"1\" class=\"dataframe\">\n",
       "  <thead>\n",
       "    <tr style=\"text-align: right;\">\n",
       "      <th></th>\n",
       "      <th>age</th>\n",
       "      <th>sex</th>\n",
       "      <th>cp</th>\n",
       "      <th>trestbps</th>\n",
       "      <th>chol</th>\n",
       "      <th>cigs</th>\n",
       "      <th>years</th>\n",
       "      <th>fbs</th>\n",
       "      <th>famhist</th>\n",
       "      <th>restecg</th>\n",
       "      <th>thalach</th>\n",
       "      <th>exang</th>\n",
       "      <th>thal</th>\n",
       "      <th>num</th>\n",
       "    </tr>\n",
       "  </thead>\n",
       "  <tbody>\n",
       "    <tr>\n",
       "      <th>0</th>\n",
       "      <td>63</td>\n",
       "      <td>1</td>\n",
       "      <td>1</td>\n",
       "      <td>145</td>\n",
       "      <td>233</td>\n",
       "      <td>50.0</td>\n",
       "      <td>20.0</td>\n",
       "      <td>1</td>\n",
       "      <td>1</td>\n",
       "      <td>2</td>\n",
       "      <td>150</td>\n",
       "      <td>0</td>\n",
       "      <td>6</td>\n",
       "      <td>0</td>\n",
       "    </tr>\n",
       "    <tr>\n",
       "      <th>1</th>\n",
       "      <td>67</td>\n",
       "      <td>1</td>\n",
       "      <td>4</td>\n",
       "      <td>160</td>\n",
       "      <td>286</td>\n",
       "      <td>40.0</td>\n",
       "      <td>40.0</td>\n",
       "      <td>0</td>\n",
       "      <td>1</td>\n",
       "      <td>2</td>\n",
       "      <td>108</td>\n",
       "      <td>1</td>\n",
       "      <td>3</td>\n",
       "      <td>2</td>\n",
       "    </tr>\n",
       "    <tr>\n",
       "      <th>2</th>\n",
       "      <td>67</td>\n",
       "      <td>1</td>\n",
       "      <td>4</td>\n",
       "      <td>120</td>\n",
       "      <td>229</td>\n",
       "      <td>20.0</td>\n",
       "      <td>35.0</td>\n",
       "      <td>0</td>\n",
       "      <td>1</td>\n",
       "      <td>2</td>\n",
       "      <td>129</td>\n",
       "      <td>1</td>\n",
       "      <td>7</td>\n",
       "      <td>1</td>\n",
       "    </tr>\n",
       "    <tr>\n",
       "      <th>3</th>\n",
       "      <td>37</td>\n",
       "      <td>1</td>\n",
       "      <td>3</td>\n",
       "      <td>130</td>\n",
       "      <td>250</td>\n",
       "      <td>0.0</td>\n",
       "      <td>0.0</td>\n",
       "      <td>0</td>\n",
       "      <td>1</td>\n",
       "      <td>0</td>\n",
       "      <td>187</td>\n",
       "      <td>0</td>\n",
       "      <td>3</td>\n",
       "      <td>0</td>\n",
       "    </tr>\n",
       "    <tr>\n",
       "      <th>4</th>\n",
       "      <td>41</td>\n",
       "      <td>0</td>\n",
       "      <td>2</td>\n",
       "      <td>130</td>\n",
       "      <td>204</td>\n",
       "      <td>0.0</td>\n",
       "      <td>0.0</td>\n",
       "      <td>0</td>\n",
       "      <td>1</td>\n",
       "      <td>2</td>\n",
       "      <td>172</td>\n",
       "      <td>0</td>\n",
       "      <td>3</td>\n",
       "      <td>0</td>\n",
       "    </tr>\n",
       "  </tbody>\n",
       "</table>\n",
       "</div>"
      ],
      "text/plain": [
       "   age  sex  cp  trestbps  chol  cigs  years  fbs  famhist  restecg  thalach  \\\n",
       "0   63    1   1       145   233  50.0   20.0    1        1        2      150   \n",
       "1   67    1   4       160   286  40.0   40.0    0        1        2      108   \n",
       "2   67    1   4       120   229  20.0   35.0    0        1        2      129   \n",
       "3   37    1   3       130   250   0.0    0.0    0        1        0      187   \n",
       "4   41    0   2       130   204   0.0    0.0    0        1        2      172   \n",
       "\n",
       "   exang  thal  num  \n",
       "0      0     6    0  \n",
       "1      1     3    2  \n",
       "2      1     7    1  \n",
       "3      0     3    0  \n",
       "4      0     3    0  "
      ]
     },
     "execution_count": 3,
     "metadata": {},
     "output_type": "execute_result"
    }
   ],
   "source": [
    "heart_disease_df = pd.read_csv('data/heart.disease.data.clean.csv')\n",
    "LOGGER.info(f'heart_disease_df.shape ==> {heart_disease_df.shape[0]} rows x {heart_disease_df.shape[1]} cols')\n",
    "heart_disease_df.head()"
   ]
  },
  {
   "cell_type": "markdown",
   "metadata": {},
   "source": [
    "## 1.D Setup Conclusion\n",
    "\n",
    "The data file is successfully imported into a Pandas data frame.  We know that\n",
    "we've loaded every line and we have the correct number of columns.\n",
    "\n",
    "Beyond that, though, we cannot assume the accuracy of the content until we\n",
    "perform EDA (which we are now ready for).\n",
    "\n",
    "# 2 Exploratory Data Analysis\n",
    "\n",
    "## 2.A Boolean Dependent Variable\n",
    "\n",
    "Per this week's assignment hints, we can categorize the dependent variable\n",
    "(`num`) into 2 classes based on heart disease condition:\n",
    "\n",
    "0. heart condition not detected\n",
    "1. heart condition detected"
   ]
  },
  {
   "cell_type": "code",
   "execution_count": 4,
   "metadata": {},
   "outputs": [
    {
     "data": {
      "text/html": [
       "<div>\n",
       "<style scoped>\n",
       "    .dataframe tbody tr th:only-of-type {\n",
       "        vertical-align: middle;\n",
       "    }\n",
       "\n",
       "    .dataframe tbody tr th {\n",
       "        vertical-align: top;\n",
       "    }\n",
       "\n",
       "    .dataframe thead th {\n",
       "        text-align: right;\n",
       "    }\n",
       "</style>\n",
       "<table border=\"1\" class=\"dataframe\">\n",
       "  <thead>\n",
       "    <tr style=\"text-align: right;\">\n",
       "      <th></th>\n",
       "      <th>age</th>\n",
       "      <th>sex</th>\n",
       "      <th>cp</th>\n",
       "      <th>trestbps</th>\n",
       "      <th>chol</th>\n",
       "      <th>cigs</th>\n",
       "      <th>years</th>\n",
       "      <th>fbs</th>\n",
       "      <th>famhist</th>\n",
       "      <th>restecg</th>\n",
       "      <th>thalach</th>\n",
       "      <th>exang</th>\n",
       "      <th>thal</th>\n",
       "      <th>num</th>\n",
       "    </tr>\n",
       "  </thead>\n",
       "  <tbody>\n",
       "    <tr>\n",
       "      <th>0</th>\n",
       "      <td>63</td>\n",
       "      <td>1</td>\n",
       "      <td>1</td>\n",
       "      <td>145</td>\n",
       "      <td>233</td>\n",
       "      <td>50.0</td>\n",
       "      <td>20.0</td>\n",
       "      <td>1</td>\n",
       "      <td>1</td>\n",
       "      <td>2</td>\n",
       "      <td>150</td>\n",
       "      <td>0</td>\n",
       "      <td>6</td>\n",
       "      <td>0</td>\n",
       "    </tr>\n",
       "    <tr>\n",
       "      <th>1</th>\n",
       "      <td>67</td>\n",
       "      <td>1</td>\n",
       "      <td>4</td>\n",
       "      <td>160</td>\n",
       "      <td>286</td>\n",
       "      <td>40.0</td>\n",
       "      <td>40.0</td>\n",
       "      <td>0</td>\n",
       "      <td>1</td>\n",
       "      <td>2</td>\n",
       "      <td>108</td>\n",
       "      <td>1</td>\n",
       "      <td>3</td>\n",
       "      <td>1</td>\n",
       "    </tr>\n",
       "    <tr>\n",
       "      <th>2</th>\n",
       "      <td>67</td>\n",
       "      <td>1</td>\n",
       "      <td>4</td>\n",
       "      <td>120</td>\n",
       "      <td>229</td>\n",
       "      <td>20.0</td>\n",
       "      <td>35.0</td>\n",
       "      <td>0</td>\n",
       "      <td>1</td>\n",
       "      <td>2</td>\n",
       "      <td>129</td>\n",
       "      <td>1</td>\n",
       "      <td>7</td>\n",
       "      <td>1</td>\n",
       "    </tr>\n",
       "    <tr>\n",
       "      <th>3</th>\n",
       "      <td>37</td>\n",
       "      <td>1</td>\n",
       "      <td>3</td>\n",
       "      <td>130</td>\n",
       "      <td>250</td>\n",
       "      <td>0.0</td>\n",
       "      <td>0.0</td>\n",
       "      <td>0</td>\n",
       "      <td>1</td>\n",
       "      <td>0</td>\n",
       "      <td>187</td>\n",
       "      <td>0</td>\n",
       "      <td>3</td>\n",
       "      <td>0</td>\n",
       "    </tr>\n",
       "    <tr>\n",
       "      <th>4</th>\n",
       "      <td>41</td>\n",
       "      <td>0</td>\n",
       "      <td>2</td>\n",
       "      <td>130</td>\n",
       "      <td>204</td>\n",
       "      <td>0.0</td>\n",
       "      <td>0.0</td>\n",
       "      <td>0</td>\n",
       "      <td>1</td>\n",
       "      <td>2</td>\n",
       "      <td>172</td>\n",
       "      <td>0</td>\n",
       "      <td>3</td>\n",
       "      <td>0</td>\n",
       "    </tr>\n",
       "  </tbody>\n",
       "</table>\n",
       "</div>"
      ],
      "text/plain": [
       "   age  sex  cp  trestbps  chol  cigs  years  fbs  famhist  restecg  thalach  \\\n",
       "0   63    1   1       145   233  50.0   20.0    1        1        2      150   \n",
       "1   67    1   4       160   286  40.0   40.0    0        1        2      108   \n",
       "2   67    1   4       120   229  20.0   35.0    0        1        2      129   \n",
       "3   37    1   3       130   250   0.0    0.0    0        1        0      187   \n",
       "4   41    0   2       130   204   0.0    0.0    0        1        2      172   \n",
       "\n",
       "   exang  thal  num  \n",
       "0      0     6    0  \n",
       "1      1     3    1  \n",
       "2      1     7    1  \n",
       "3      0     3    0  \n",
       "4      0     3    0  "
      ]
     },
     "execution_count": 4,
     "metadata": {},
     "output_type": "execute_result"
    }
   ],
   "source": [
    "heart_disease_df[\"num\"] = np.where(heart_disease_df[\"num\"] > 0, 1, 0)\n",
    "\n",
    "heart_disease_df.head()"
   ]
  },
  {
   "cell_type": "markdown",
   "metadata": {},
   "source": [
    "# 3 K Nearest Neighbors (KNN)\n",
    "\n",
    "## 3.A. Train / Test Split\n",
    "\n",
    "For this exercise, we were advised to split our data 80:20 for training vs\n",
    "test.  For this, we utilize the `sklearn.model_selection.train_test_split`\n",
    "function.  But first, we need to separate the data into `X` (inputs) and\n",
    "`y` (labels)."
   ]
  },
  {
   "cell_type": "code",
   "execution_count": 5,
   "metadata": {},
   "outputs": [
    {
     "name": "stderr",
     "output_type": "stream",
     "text": [
      "2022-01-23 03:33:28 - INFO   -   MSDS-680 - X_train.shape ==> 225 rows x 13 cols\n",
      "2022-01-23 03:33:28 - INFO   -   MSDS-680 - X_test.shape  ==> 57  rows x 13 cols\n",
      "2022-01-23 03:33:28 - INFO   -   MSDS-680 - y_train.shape ==> 225 rows\n",
      "2022-01-23 03:33:28 - INFO   -   MSDS-680 - y_test.shape  ==> 57  rows\n"
     ]
    }
   ],
   "source": [
    "# Identify the label column:\n",
    "label_column = 'num'\n",
    "\n",
    "# All other columns are inputs (features)\n",
    "feature_columns = [c for c in heart_disease_df.columns if c != label_column]\n",
    "\n",
    "# X = input, y = labels\n",
    "X = heart_disease_df[feature_columns].values\n",
    "y = heart_disease_df[label_column].values\n",
    "\n",
    "# This will randomly split the data according to the provided ratio (0.2)\n",
    "X_train, X_test, y_train, y_test = sklearn.model_selection.train_test_split(X, y, test_size=0.2, random_state=RANDOM_SEED)\n",
    "\n",
    "\n",
    "LOGGER.info(f'X_train.shape ==> {X_train.shape[0]} rows x {X_train.shape[1]} cols')\n",
    "LOGGER.info(f'X_test.shape  ==> {X_test.shape[0]}  rows x {X_test.shape[1]} cols')\n",
    "\n",
    "LOGGER.info(f'y_train.shape ==> {y_train.shape[0]} rows')\n",
    "LOGGER.info(f'y_test.shape  ==> {y_test.shape[0]}  rows')\n"
   ]
  },
  {
   "cell_type": "markdown",
   "metadata": {},
   "source": [
    "## 3.B Pipeline Preparation\n",
    "\n",
    "We use `sklearn.pipeline.Pipeline` to create repeatable processing steps.\n",
    "\n",
    "Our initial Pipeline is fairly simple:\n",
    "\n",
    "* We apply scaling for continuous values, in order to prevent large values from\n",
    "  overwhelming smaller values\n",
    "* We one-hot encode categorical values which have no ordinal relationship"
   ]
  },
  {
   "cell_type": "code",
   "execution_count": 6,
   "metadata": {},
   "outputs": [],
   "source": [
    "NUMERICAL_COLUMNS = ['age', 'trestbps', 'chol', 'cigs', 'years', 'thalach']\n",
    "CATEGORICAL_COLUMNS = ['sex', 'cp', 'fbs', 'famhist', 'restecg', 'exang', 'thal']\n",
    "\n",
    "pipeline = sklearn.pipeline.Pipeline([\n",
    "    (f'ColumnTransformer', sklearn.compose.ColumnTransformer(transformers=[\n",
    "        (f'Scaler',  sklearn.preprocessing.MinMaxScaler(),  [heart_disease_df.columns.tolist().index(c) for c in NUMERICAL_COLUMNS]),\n",
    "        (f'Encoder', sklearn.preprocessing.OneHotEncoder(), [heart_disease_df.columns.tolist().index(c) for c in CATEGORICAL_COLUMNS])\n",
    "    ], remainder='passthrough')),\n",
    "])\n",
    "\n",
    "# Fit all the transformations **using the training data**\n",
    "_ = pipeline.fit(X_train)"
   ]
  },
  {
   "cell_type": "markdown",
   "metadata": {},
   "source": [
    "## 3.C KNN with `k=1`\n",
    "\n",
    "Now that the Pipeline has been fitted, we ...\n",
    "\n",
    "1. Transform the data using the learned values for the MinMaxScaler and OneHotEncoder\n",
    "   (these values are now part of the Pipeline's internal state)\n",
    "2. Create and fit the KNN model, *using the transformed data*\n",
    "3. Use the (transformed) test data to predict labels *for previously unseen data*\n",
    "4. Print some performance metrics    \n",
    "   * Precision: positive predictive value, the ability of the classifier not to\n",
    "     label as positive a sample that is negative (Scikit-Learn.org,  n.d. b)   \n",
    "     $Precision = \\frac{True Positives}{True Positives + False Positives}$\n",
    "\n",
    "   * Recall: sensitivity, the ability of the classifier to find all the positive\n",
    "     samples (Scikit-Learn.org, n.d. c)    \n",
    "     $Recall = \\frac{True Positives}{True Positives + False Negatives}$\n",
    "\n",
    "   * F1 Score: harmonic mean of the precision and recall\n",
    "     (Scikit-Learn.org, n.d. a)    \n",
    "     $F1 Score = 2 * \\frac{Precision * Recall}{Precision + Recall}$\n",
    "\n",
    "5. Display the confusion matrix for our current model's performance"
   ]
  },
  {
   "cell_type": "code",
   "execution_count": 7,
   "metadata": {},
   "outputs": [
    {
     "name": "stderr",
     "output_type": "stream",
     "text": [
      "2022-01-23 03:33:28 - INFO   -   MSDS-680 - When k= 1 ... Precision: 82.14%.  Recall: 82.14%.  F1 Score: 82.14%\n"
     ]
    },
    {
     "data": {
      "text/plain": [
       "<sklearn.metrics._plot.confusion_matrix.ConfusionMatrixDisplay at 0x7f7a251fae80>"
      ]
     },
     "execution_count": 7,
     "metadata": {},
     "output_type": "execute_result"
    },
    {
     "data": {
      "image/png": "[encoded data removed]",
      "text/plain": [
       "<Figure size 432x288 with 2 Axes>"
      ]
     },
     "metadata": {
      "needs_background": "light"
     },
     "output_type": "display_data"
    }
   ],
   "source": [
    "# 1. Transform the input values (both train and test)\n",
    "Xt_train = pipeline.transform(X_train)\n",
    "Xt_test  = pipeline.transform(X_test)\n",
    "\n",
    "\n",
    "# 2. Create and fit the KNN model (with k=1)\n",
    "CHOSEN_K=1\n",
    "model = sklearn.neighbors.KNeighborsClassifier(n_neighbors=CHOSEN_K, **KNN_KWARGS)\n",
    "model.fit(Xt_train, y_train)\n",
    "\n",
    "\n",
    "# 3. Predict labels for previously unseen data\n",
    "y_pred = model.predict(Xt_test)\n",
    "\n",
    "\n",
    "# 4. Print performance metrics\n",
    "precision   = sklearn.metrics.precision_score(y_test, y_pred)\n",
    "recall      = sklearn.metrics.recall_score(y_test, y_pred)\n",
    "f1          = sklearn.metrics.f1_score(y_test, y_pred)\n",
    "\n",
    "LOGGER.info(f'When k={CHOSEN_K:>2d} ... Precision: {precision:.2%}.  Recall: {recall:.2%}.  F1 Score: {f1:.2%}')\n",
    "\n",
    "\n",
    "# 5. Display the confusion matrix\n",
    "sklearn.metrics.ConfusionMatrixDisplay.from_predictions(y_test, y_pred=y_pred)\n"
   ]
  },
  {
   "cell_type": "markdown",
   "metadata": {},
   "source": [
    "As seen from the score metrics and the confusion matrix, with `k=1` the\n",
    "KNeighborsClassifier achieves a precision score of `82.1%` and a recall score of\n",
    "`82.1%`, for a F1 score of `82.1%`.\n",
    "\n",
    "## 3.D Different Values for `k`\n",
    "\n",
    "Below, we test a variety of values for `k`"
   ]
  },
  {
   "cell_type": "code",
   "execution_count": 8,
   "metadata": {},
   "outputs": [
    {
     "name": "stderr",
     "output_type": "stream",
     "text": [
      "2022-01-23 03:33:29 - INFO   -   MSDS-680 - Best k= 1 ... Precision: 82.14%.  Recall: 82.14%.  F1: 82.14%.  Silhouette: 0.19\n"
     ]
    },
    {
     "data": {
      "text/plain": [
       "<matplotlib.legend.Legend at 0x7f7a23005a00>"
      ]
     },
     "execution_count": 8,
     "metadata": {},
     "output_type": "execute_result"
    },
    {
     "data": {
      "image/png": "[encoded data removed]",
      "text/plain": [
       "<Figure size 432x288 with 1 Axes>"
      ]
     },
     "metadata": {
      "needs_background": "light"
     },
     "output_type": "display_data"
    }
   ],
   "source": [
    "accuracy_df = pd.DataFrame(columns=['k', 'precision', 'recall', 'f1', 'silhouette'])\n",
    "\n",
    "for i in range(MAX_K):\n",
    "    k = i + 1\n",
    "    model = sklearn.neighbors.KNeighborsClassifier(n_neighbors=k, **KNN_KWARGS)\n",
    "    model.fit(Xt_train, y_train)\n",
    "\n",
    "    y_pred = model.predict(Xt_test)\n",
    "\n",
    "    precision   = sklearn.metrics.precision_score(y_test, y_pred)\n",
    "    recall      = sklearn.metrics.recall_score(y_test, y_pred)\n",
    "    f1          = sklearn.metrics.f1_score(y_test, y_pred)\n",
    "    silhouette  = sklearn.metrics.silhouette_score(Xt_test, y_pred, random_state=RANDOM_SEED)\n",
    "\n",
    "    accuracy_df = accuracy_df.append({\n",
    "        'k':            k,\n",
    "        'precision':    precision,\n",
    "        'recall':       recall,\n",
    "        'f1':           f1,\n",
    "        'silhouette':   silhouette\n",
    "        }, ignore_index=True)\n",
    "\n",
    "    LOGGER.debug(f'When k={k:>2d} ... Precision: {precision:.2%}.  Recall: {recall:.2%}.  F1: {f1:.2%}.  Silhouette: {silhouette:.2}')\n",
    "\n",
    "CHOSEN_K, precision, recall, f1, _ = accuracy_df[accuracy_df.f1 == accuracy_df.f1.max()].head(1).values[0]\n",
    "CHOSEN_K=int(CHOSEN_K)\n",
    "\n",
    "LOGGER.info(f'Best k={CHOSEN_K:>2d} ... Precision: {precision:.2%}.  Recall: {recall:.2%}.  F1: {f1:.2%}.  Silhouette: {silhouette:.2}')\n",
    "\n",
    "for score_type in ['precision', 'recall', 'f1']:\n",
    "    plt.plot(accuracy_df.k, accuracy_df[score_type], label=score_type.title())\n",
    "\n",
    "plt.ylim([0.5, 1])\n",
    "plt.legend()\n"
   ]
  },
  {
   "cell_type": "markdown",
   "metadata": {},
   "source": [
    "As seen from the logging output and from the graph above, a value of `k=1` (or\n",
    "up to `k=5`) achieves the best F1 score.  We don't re-display the confusion matrix\n",
    "since the selected `k` value did not change.\n",
    "\n",
    "# 4 Model Improvement\n",
    "\n",
    "## 4.A Principal Component Analysis (PCA)\n",
    "\n",
    "Let's see if we can improve the model's performance using PCA.\n",
    "\n",
    "### 4.A.1 Determine Optimal Number of Components\n",
    "\n",
    "First, we perform PCA using all components and determine the number of\n",
    "components which account for the majority of variance.\n"
   ]
  },
  {
   "cell_type": "code",
   "execution_count": 9,
   "metadata": {},
   "outputs": [
    {
     "data": {
      "image/png": "[encoded data removed]",
      "text/plain": [
       "<Figure size 432x288 with 1 Axes>"
      ]
     },
     "metadata": {
      "needs_background": "light"
     },
     "output_type": "display_data"
    }
   ],
   "source": [
    "pca = sklearn.decomposition.PCA(random_state=RANDOM_SEED)\n",
    "\n",
    "pca_X = pca.fit_transform(X_train)\n",
    "\n",
    "pca_df = pd.DataFrame(pca_X)\n",
    "\n",
    "pc_values = np.arange(pca.n_components_) + 1\n",
    "plt.plot(pc_values, pca.explained_variance_ratio_.cumsum(), 'bx-')\n",
    "plt.title('Cumulative Variance Explained')\n",
    "plt.xlabel('Principal Component')\n",
    "plt.ylabel('Proportion of Variance Explained')\n",
    "plt.show()"
   ]
  },
  {
   "cell_type": "markdown",
   "metadata": {},
   "source": [
    "### 4.A.2 Use PCA to Select New `k`\n",
    "\n",
    "Based on the analysis above, we can account for almost 100% of the variance with\n",
    "just 6 principal components (a feature reduction of ~50%).\n",
    "\n",
    "But, utilizing these new components might require selecting a new `k`.  Let's\n",
    "re-run our `k` selection process.\n",
    "\n",
    "Once we've found a new `k` (if necessary), let's also display its confusion\n",
    "matrix."
   ]
  },
  {
   "cell_type": "code",
   "execution_count": 10,
   "metadata": {},
   "outputs": [
    {
     "name": "stderr",
     "output_type": "stream",
     "text": [
      "2022-01-23 03:33:30 - INFO   -   MSDS-680 - Best k=11 ... Precision: 82.14%.  Recall: 82.14%.  F1: 82.14%.  Silhouette: 0.25\n"
     ]
    },
    {
     "data": {
      "text/plain": [
       "<sklearn.metrics._plot.confusion_matrix.ConfusionMatrixDisplay at 0x7f7a1aee0760>"
      ]
     },
     "execution_count": 10,
     "metadata": {},
     "output_type": "execute_result"
    },
    {
     "data": {
      "image/png": "[encoded data removed]",
      "text/plain": [
       "<Figure size 432x288 with 1 Axes>"
      ]
     },
     "metadata": {
      "needs_background": "light"
     },
     "output_type": "display_data"
    },
    {
     "data": {
      "image/png": "[encoded data removed]",
      "text/plain": [
       "<Figure size 432x288 with 2 Axes>"
      ]
     },
     "metadata": {
      "needs_background": "light"
     },
     "output_type": "display_data"
    }
   ],
   "source": [
    "NUM_PCA_COMPONENTS=6\n",
    "\n",
    "pipeline = sklearn.pipeline.Pipeline([\n",
    "    (f'ColumnTransformer', sklearn.compose.ColumnTransformer(transformers=[\n",
    "        (f'Scaler',  sklearn.preprocessing.MinMaxScaler(),  [heart_disease_df.columns.tolist().index(c) for c in NUMERICAL_COLUMNS]),\n",
    "        (f'Encoder', sklearn.preprocessing.OneHotEncoder(), [heart_disease_df.columns.tolist().index(c) for c in CATEGORICAL_COLUMNS])\n",
    "    ], remainder='passthrough')),\n",
    "    (f'PCA', sklearn.decomposition.PCA(n_components=NUM_PCA_COMPONENTS, random_state=RANDOM_SEED))\n",
    "])\n",
    "\n",
    "_ = pipeline.fit(X_train)\n",
    "\n",
    "Xt_train = pipeline.transform(X_train)\n",
    "Xt_test  = pipeline.transform(X_test)\n",
    "\n",
    "accuracy_df = pd.DataFrame(columns=['k', 'precision', 'recall', 'f1', 'silhouette'])\n",
    "\n",
    "best_f1_score   = -100\n",
    "best_k_y_pred   = None\n",
    "\n",
    "for i in range(MAX_K):\n",
    "    k = i + 1\n",
    "    model = sklearn.neighbors.KNeighborsClassifier(n_neighbors=k, **KNN_KWARGS)\n",
    "    model.fit(Xt_train, y_train)\n",
    "\n",
    "    y_pred = model.predict(Xt_test)\n",
    "\n",
    "    precision   = sklearn.metrics.precision_score(y_test, y_pred)\n",
    "    recall      = sklearn.metrics.recall_score(y_test, y_pred)\n",
    "    f1          = sklearn.metrics.f1_score(y_test, y_pred)\n",
    "    silhouette  = sklearn.metrics.silhouette_score(Xt_test, y_pred, random_state=RANDOM_SEED)\n",
    "\n",
    "    if f1 > best_f1_score:\n",
    "        best_f1_score   = f1\n",
    "        best_k_y_pred   = y_pred\n",
    "\n",
    "    accuracy_df = accuracy_df.append({\n",
    "        'k':            k,\n",
    "        'precision':    precision,\n",
    "        'recall':       recall,\n",
    "        'f1':           f1,\n",
    "        'silhouette':   silhouette\n",
    "        }, ignore_index=True)\n",
    "\n",
    "    LOGGER.debug(f'When k={k:>2d} ... Precision: {precision:.2%}.  Recall: {recall:.2%}.  F1: {f1:.2%}.  Silhouette: {silhouette:.2}')\n",
    "\n",
    "CHOSEN_K, precision, recall, f1, _ = accuracy_df[accuracy_df.f1 == accuracy_df.f1.max()].head(1).values[0]\n",
    "CHOSEN_K=int(CHOSEN_K)\n",
    "\n",
    "LOGGER.info(f'Best k={CHOSEN_K:>2d} ... Precision: {precision:.2%}.  Recall: {recall:.2%}.  F1: {f1:.2%}.  Silhouette: {silhouette:.2}')\n",
    "\n",
    "for score_type in ['precision', 'recall', 'f1']:\n",
    "    plt.plot(accuracy_df.k, accuracy_df[score_type], label=score_type.title())\n",
    "\n",
    "plt.ylim([0.5, 1])\n",
    "plt.legend()\n",
    "\n",
    "sklearn.metrics.ConfusionMatrixDisplay.from_predictions(y_test, y_pred=y_pred)\n"
   ]
  },
  {
   "cell_type": "markdown",
   "metadata": {},
   "source": [
    "That was a lot of work to end up with the same F1 score of `82.1%`.\n",
    "\n",
    "Addional analysis would be required to determine if the efficiency gained through\n",
    "dimensionality reduction would offset the need to now compute `11` neighbors."
   ]
  },
  {
   "cell_type": "markdown",
   "metadata": {},
   "source": [
    "## 4.B Additional Feature Engineering\n",
    "\n",
    "As part of last week's data analysis, we performed banding of `age`, `cigs`,\n",
    "and `years`.  We also calculated `delta_thalach` using a formula based on\n",
    "`thalach` and `age`.\n",
    "\n",
    "We apply those changes here as well, but we apply the changes to a\n",
    "*copy of the Data Frame* so that we can assess our changes without impacting\n",
    "the provided DataFrame"
   ]
  },
  {
   "cell_type": "code",
   "execution_count": 11,
   "metadata": {},
   "outputs": [
    {
     "data": {
      "text/html": [
       "<div>\n",
       "<style scoped>\n",
       "    .dataframe tbody tr th:only-of-type {\n",
       "        vertical-align: middle;\n",
       "    }\n",
       "\n",
       "    .dataframe tbody tr th {\n",
       "        vertical-align: top;\n",
       "    }\n",
       "\n",
       "    .dataframe thead th {\n",
       "        text-align: right;\n",
       "    }\n",
       "</style>\n",
       "<table border=\"1\" class=\"dataframe\">\n",
       "  <thead>\n",
       "    <tr style=\"text-align: right;\">\n",
       "      <th></th>\n",
       "      <th>age</th>\n",
       "      <th>sex</th>\n",
       "      <th>cp</th>\n",
       "      <th>trestbps</th>\n",
       "      <th>chol</th>\n",
       "      <th>cigs</th>\n",
       "      <th>years</th>\n",
       "      <th>fbs</th>\n",
       "      <th>famhist</th>\n",
       "      <th>restecg</th>\n",
       "      <th>exang</th>\n",
       "      <th>thal</th>\n",
       "      <th>delta_thalach</th>\n",
       "      <th>num</th>\n",
       "    </tr>\n",
       "  </thead>\n",
       "  <tbody>\n",
       "    <tr>\n",
       "      <th>0</th>\n",
       "      <td>6</td>\n",
       "      <td>1</td>\n",
       "      <td>1</td>\n",
       "      <td>145</td>\n",
       "      <td>233</td>\n",
       "      <td>3.0</td>\n",
       "      <td>2.0</td>\n",
       "      <td>1</td>\n",
       "      <td>1</td>\n",
       "      <td>2</td>\n",
       "      <td>0</td>\n",
       "      <td>6</td>\n",
       "      <td>-7</td>\n",
       "      <td>0</td>\n",
       "    </tr>\n",
       "    <tr>\n",
       "      <th>1</th>\n",
       "      <td>7</td>\n",
       "      <td>1</td>\n",
       "      <td>4</td>\n",
       "      <td>160</td>\n",
       "      <td>286</td>\n",
       "      <td>3.0</td>\n",
       "      <td>4.0</td>\n",
       "      <td>0</td>\n",
       "      <td>1</td>\n",
       "      <td>2</td>\n",
       "      <td>1</td>\n",
       "      <td>3</td>\n",
       "      <td>-45</td>\n",
       "      <td>1</td>\n",
       "    </tr>\n",
       "    <tr>\n",
       "      <th>2</th>\n",
       "      <td>7</td>\n",
       "      <td>1</td>\n",
       "      <td>4</td>\n",
       "      <td>120</td>\n",
       "      <td>229</td>\n",
       "      <td>2.0</td>\n",
       "      <td>4.0</td>\n",
       "      <td>0</td>\n",
       "      <td>1</td>\n",
       "      <td>2</td>\n",
       "      <td>1</td>\n",
       "      <td>7</td>\n",
       "      <td>-24</td>\n",
       "      <td>1</td>\n",
       "    </tr>\n",
       "    <tr>\n",
       "      <th>3</th>\n",
       "      <td>1</td>\n",
       "      <td>1</td>\n",
       "      <td>3</td>\n",
       "      <td>130</td>\n",
       "      <td>250</td>\n",
       "      <td>0.0</td>\n",
       "      <td>0.0</td>\n",
       "      <td>0</td>\n",
       "      <td>1</td>\n",
       "      <td>0</td>\n",
       "      <td>0</td>\n",
       "      <td>3</td>\n",
       "      <td>4</td>\n",
       "      <td>0</td>\n",
       "    </tr>\n",
       "    <tr>\n",
       "      <th>4</th>\n",
       "      <td>2</td>\n",
       "      <td>0</td>\n",
       "      <td>2</td>\n",
       "      <td>130</td>\n",
       "      <td>204</td>\n",
       "      <td>0.0</td>\n",
       "      <td>0.0</td>\n",
       "      <td>0</td>\n",
       "      <td>1</td>\n",
       "      <td>2</td>\n",
       "      <td>0</td>\n",
       "      <td>3</td>\n",
       "      <td>-7</td>\n",
       "      <td>0</td>\n",
       "    </tr>\n",
       "  </tbody>\n",
       "</table>\n",
       "</div>"
      ],
      "text/plain": [
       "   age  sex  cp  trestbps  chol  cigs  years  fbs  famhist  restecg  exang  \\\n",
       "0    6    1   1       145   233   3.0    2.0    1        1        2      0   \n",
       "1    7    1   4       160   286   3.0    4.0    0        1        2      1   \n",
       "2    7    1   4       120   229   2.0    4.0    0        1        2      1   \n",
       "3    1    1   3       130   250   0.0    0.0    0        1        0      0   \n",
       "4    2    0   2       130   204   0.0    0.0    0        1        2      0   \n",
       "\n",
       "   thal  delta_thalach  num  \n",
       "0     6             -7    0  \n",
       "1     3            -45    1  \n",
       "2     7            -24    1  \n",
       "3     3              4    0  \n",
       "4     3             -7    0  "
      ]
     },
     "execution_count": 11,
     "metadata": {},
     "output_type": "execute_result"
    }
   ],
   "source": [
    "modified_heart_disease_df = heart_disease_df.copy()\n",
    "\n",
    "# Calculate `delta_thalach` from the max heart rate formula based on age\n",
    "modified_heart_disease_df['delta_thalach'] = modified_heart_disease_df['thalach'] - 220 + modified_heart_disease_df['age']\n",
    "modified_heart_disease_df.drop(columns=['thalach'], inplace=True)\n",
    "\n",
    "# Convert age to bands\n",
    "modified_heart_disease_df.loc[ modified_heart_disease_df['age'] <= 34, 'age'] = 0\n",
    "modified_heart_disease_df.loc[(modified_heart_disease_df['age'] >  34) & (modified_heart_disease_df['age'] <= 39), 'age'] = 1\n",
    "modified_heart_disease_df.loc[(modified_heart_disease_df['age'] >  39) & (modified_heart_disease_df['age'] <= 43), 'age'] = 2\n",
    "modified_heart_disease_df.loc[(modified_heart_disease_df['age'] >  43) & (modified_heart_disease_df['age'] <= 48), 'age'] = 3\n",
    "modified_heart_disease_df.loc[(modified_heart_disease_df['age'] >  48) & (modified_heart_disease_df['age'] <= 53), 'age'] = 4\n",
    "modified_heart_disease_df.loc[(modified_heart_disease_df['age'] >  53) & (modified_heart_disease_df['age'] <= 58), 'age'] = 5\n",
    "modified_heart_disease_df.loc[(modified_heart_disease_df['age'] >  58) & (modified_heart_disease_df['age'] <= 63), 'age'] = 6\n",
    "modified_heart_disease_df.loc[(modified_heart_disease_df['age'] >  63) & (modified_heart_disease_df['age'] <= 67), 'age'] = 7\n",
    "modified_heart_disease_df.loc[(modified_heart_disease_df['age'] >  67) & (modified_heart_disease_df['age'] <= 72), 'age'] = 8\n",
    "modified_heart_disease_df.loc[ modified_heart_disease_df['age'] >  72, 'age'] = 9\n",
    "\n",
    "# Convert cigs to bands\n",
    "modified_heart_disease_df.loc[ modified_heart_disease_df['cigs'] ==  0, 'cigs'] = 0\n",
    "modified_heart_disease_df.loc[(modified_heart_disease_df['cigs'] >   0) & (modified_heart_disease_df['cigs'] <= 10), 'cigs'] = 1\n",
    "modified_heart_disease_df.loc[(modified_heart_disease_df['cigs'] >  10) & (modified_heart_disease_df['cigs'] <= 20), 'cigs'] = 2\n",
    "modified_heart_disease_df.loc[ modified_heart_disease_df['cigs'] >  20, 'cigs'] = 3\n",
    "\n",
    "# Convert years to bands\n",
    "modified_heart_disease_df.loc[ modified_heart_disease_df['years'] ==  0, 'years'] = 0\n",
    "modified_heart_disease_df.loc[(modified_heart_disease_df['years'] >   0) & (modified_heart_disease_df['years'] <= 10), 'years'] = 1\n",
    "modified_heart_disease_df.loc[(modified_heart_disease_df['years'] >  10) & (modified_heart_disease_df['years'] <= 20), 'years'] = 2\n",
    "modified_heart_disease_df.loc[(modified_heart_disease_df['years'] >  20) & (modified_heart_disease_df['years'] <= 30), 'years'] = 3\n",
    "modified_heart_disease_df.loc[(modified_heart_disease_df['years'] >  30) & (modified_heart_disease_df['years'] <= 40), 'years'] = 4\n",
    "modified_heart_disease_df.loc[ modified_heart_disease_df['years'] >  40, 'years'] = 5\n",
    "\n",
    "cols_at_end = ['num']\n",
    "modified_heart_disease_df = modified_heart_disease_df[[c for c in modified_heart_disease_df if c not in cols_at_end] \n",
    "        + [c for c in cols_at_end if c in modified_heart_disease_df]]\n",
    "\n",
    "modified_heart_disease_df.head()"
   ]
  },
  {
   "cell_type": "code",
   "execution_count": 12,
   "metadata": {},
   "outputs": [
    {
     "name": "stderr",
     "output_type": "stream",
     "text": [
      "2022-01-23 03:33:30 - INFO   -   MSDS-680 - Xm_train.shape ==> 225 rows x 13 cols\n",
      "2022-01-23 03:33:30 - INFO   -   MSDS-680 - Xm_test.shape  ==> 57  rows x 13 cols\n",
      "2022-01-23 03:33:30 - INFO   -   MSDS-680 - ym_train.shape ==> 225 rows\n",
      "2022-01-23 03:33:30 - INFO   -   MSDS-680 - ym_test.shape  ==> 57  rows\n"
     ]
    }
   ],
   "source": [
    "# Identify the label column:\n",
    "label_column = 'num'\n",
    "\n",
    "# All other columns are inputs (features)\n",
    "feature_columns = [c for c in modified_heart_disease_df.columns if c != label_column]\n",
    "\n",
    "# Xm = input from modified DF, ym = labels from modified DF\n",
    "Xm = modified_heart_disease_df[feature_columns].values\n",
    "ym = modified_heart_disease_df[label_column].values\n",
    "\n",
    "# This will randomly split the data according to the provided ratio (0.2)\n",
    "Xm_train, Xm_test, ym_train, ym_test = sklearn.model_selection.train_test_split(Xm, ym, test_size=0.2, random_state=RANDOM_SEED)\n",
    "\n",
    "\n",
    "LOGGER.info(f'Xm_train.shape ==> {Xm_train.shape[0]} rows x {Xm_train.shape[1]} cols')\n",
    "LOGGER.info(f'Xm_test.shape  ==> {Xm_test.shape[0]}  rows x {Xm_test.shape[1]} cols')\n",
    "\n",
    "LOGGER.info(f'ym_train.shape ==> {ym_train.shape[0]} rows')\n",
    "LOGGER.info(f'ym_test.shape  ==> {ym_test.shape[0]}  rows')\n"
   ]
  },
  {
   "cell_type": "code",
   "execution_count": 13,
   "metadata": {},
   "outputs": [
    {
     "name": "stderr",
     "output_type": "stream",
     "text": [
      "2022-01-23 03:33:31 - INFO   -   MSDS-680 - Best k= 4 ... Precision: 85.19%.  Recall: 82.14%.  F1: 83.64%.  Silhouette: 0.18\n"
     ]
    },
    {
     "data": {
      "text/plain": [
       "<sklearn.metrics._plot.confusion_matrix.ConfusionMatrixDisplay at 0x7f7a1ade77f0>"
      ]
     },
     "execution_count": 13,
     "metadata": {},
     "output_type": "execute_result"
    },
    {
     "data": {
      "image/png": "[encoded data removed]",
      "text/plain": [
       "<Figure size 432x288 with 1 Axes>"
      ]
     },
     "metadata": {
      "needs_background": "light"
     },
     "output_type": "display_data"
    },
    {
     "data": {
      "image/png": "[encoded data removed]",
      "text/plain": [
       "<Figure size 432x288 with 2 Axes>"
      ]
     },
     "metadata": {
      "needs_background": "light"
     },
     "output_type": "display_data"
    }
   ],
   "source": [
    "# Even though age, cigs, and years are banded, they are still ordinal\n",
    "NUMERICAL_COLUMNS   = ['age', 'trestbps', 'chol', 'cigs', 'years', 'delta_thalach']\n",
    "CATEGORICAL_COLUMNS = ['sex', 'cp', 'fbs', 'famhist', 'restecg', 'exang', 'thal']\n",
    "\n",
    "pipeline = sklearn.pipeline.Pipeline([\n",
    "    (f'ColumnTransformer', sklearn.compose.ColumnTransformer(transformers=[\n",
    "        (f'Scaler',  sklearn.preprocessing.MinMaxScaler(),  [modified_heart_disease_df.columns.tolist().index(c) for c in NUMERICAL_COLUMNS]),\n",
    "        (f'Encoder', sklearn.preprocessing.OneHotEncoder(), [modified_heart_disease_df.columns.tolist().index(c) for c in CATEGORICAL_COLUMNS])\n",
    "    ], remainder='passthrough')),\n",
    "])\n",
    "\n",
    "# Fit all the transformations **using the training data**\n",
    "_ = pipeline.fit(Xm_train)\n",
    "\n",
    "Xmt_train = pipeline.transform(Xm_train)\n",
    "Xmt_test  = pipeline.transform(Xm_test)\n",
    "accuracy_df = pd.DataFrame(columns=['k', 'precision', 'recall', 'f1', 'silhouette'])\n",
    "\n",
    "best_f1_score = -100\n",
    "best_k_ym_pred = None\n",
    "\n",
    "for i in range(MAX_K):\n",
    "    k = i + 1\n",
    "    model = sklearn.neighbors.KNeighborsClassifier(n_neighbors=k, **KNN_KWARGS)\n",
    "    model.fit(Xmt_train, ym_train)\n",
    "\n",
    "    ym_pred = model.predict(Xmt_test)\n",
    "\n",
    "    precision   = sklearn.metrics.precision_score(ym_test, ym_pred)\n",
    "    recall      = sklearn.metrics.recall_score(ym_test, ym_pred)\n",
    "    f1          = sklearn.metrics.f1_score(ym_test, ym_pred)\n",
    "    silhouette  = sklearn.metrics.silhouette_score(Xmt_test, ym_pred, random_state=RANDOM_SEED)\n",
    "\n",
    "    if f1 > best_f1_score:\n",
    "        best_f1_score   = f1\n",
    "        best_k_ym_pred  = ym_pred\n",
    "\n",
    "    accuracy_df = accuracy_df.append({\n",
    "        'k':            k,\n",
    "        'precision':    precision,\n",
    "        'recall':       recall,\n",
    "        'f1':           f1,\n",
    "        'silhouette':   silhouette\n",
    "        }, ignore_index=True)\n",
    "\n",
    "    LOGGER.debug(f'When k={k:>2d} ... Precision: {precision:.2%}.  Recall: {recall:.2%}.  F1: {f1:.2%}.  Silhouette: {silhouette:.2}')\n",
    "\n",
    "CHOSEN_K, precision, recall, f1, _ = accuracy_df[accuracy_df.f1 == accuracy_df.f1.max()].head(1).values[0]\n",
    "CHOSEN_K=int(CHOSEN_K)\n",
    "\n",
    "LOGGER.info(f'Best k={CHOSEN_K:>2d} ... Precision: {precision:.2%}.  Recall: {recall:.2%}.  F1: {f1:.2%}.  Silhouette: {silhouette:.2}')\n",
    "\n",
    "for score_type in ['precision', 'recall', 'f1']:\n",
    "    plt.plot(accuracy_df.k, accuracy_df[score_type], label=score_type.title())\n",
    "\n",
    "plt.ylim([0.5, 1])\n",
    "plt.legend()\n",
    "\n",
    "sklearn.metrics.ConfusionMatrixDisplay.from_predictions(y_test, y_pred=best_k_ym_pred)\n"
   ]
  },
  {
   "cell_type": "markdown",
   "metadata": {},
   "source": [
    "# 5 Summary\n",
    "\n",
    "Through aggressive feature engineering, we achieved a slight improvement\n",
    "in `F1` score from `82.1%` to `83.6%`.  Further analysis would be required\n",
    "to pinpoint the true source of the improvement, but my guess would be the\n",
    "`delta_thalach` column.  My reasoning is that the banding simplifies the\n",
    "features but does not provide new information, whereas the `delta_thalach`\n",
    "combines two features using a formula that has independently been proven to\n",
    "provide the target heart rate for a specific age."
   ]
  },
  {
   "cell_type": "markdown",
   "metadata": {},
   "source": [
    "# References\n",
    "\n",
    "Scikit-Learn.org (n.d. a).  sklearn.metrics.f1_score.  Retrieved from https://scikit-learn.org/stable/modules/generated/sklearn.metrics.f1_score.html\n",
    "\n",
    "Scikit-Learn.org (n.d. b).  sklearn.metrics.precision_score.  Retrieved from https://scikit-learn.org/stable/modules/generated/sklearn.metrics.precision_score.html?highlight=precision_score#sklearn.metrics.precision_score\n",
    "\n",
    "Scikit-Learn.org (n.d. c).  sklearn.metrics.recall_score.  Retrieved from https://scikit-learn.org/stable/modules/generated/sklearn.metrics.recall_score.html?highlight=recall_score#sklearn.metrics.recall_score\n",
    "\n"
   ]
  }
 ],
 "metadata": {
  "kernelspec": {
   "display_name": "Python 3 (ipykernel)",
   "language": "python",
   "name": "python3"
  },
  "orig_nbformat": 4
 },
 "nbformat": 4,
 "nbformat_minor": 2
}
