{
 "cells": [
  {
   "cell_type": "markdown",
   "metadata": {},
   "source": [
    "## Assignment for Week 5 - Neural Network\n",
    "\n",
    "### Project:\n",
    "#### Neural Networks\n",
    "Credit Card Fraud data: https://www.kaggle.com/mlg-ulb/creditcardfraud/\n",
    "\n",
    "- Make at least 2 EDA plots – histograms, correlation plots (df.corr() in python/pandas, and seaborn’s heatmap can plot it), scatter/line plots, etc.\n",
    "- Use a neural net to predict if a transaction is fraud or not (you will have to change the loss function from mse/mae to something for binary classification)\n",
    "- Plot the training and validation loss\n",
    "- Report the performance on the training and test set with accuracy and confusion matrices\n",
    "- Write some interpretation of all your results/plots\n",
    "\n",
    "\n",
    "---\n",
    "\n",
    "# 1 Setup\n",
    "\n",
    "## 1.A Sanity Check of Provided Data File\n",
    "\n",
    "Prior to importing any data, we perform a few checks against the file:\n",
    "* What is the approximate size of the file (will our current configuration\n",
    "  support the given quantity of data)?\n",
    "* What is the content of the file and does it use the correct line endings?\n",
    "* How many rows (lines) are in the file (can be used to double-check that\n",
    "  the full dataset is loaded by Pandas)?\n",
    "* Does the data have a header row?\n"
   ]
  },
  {
   "cell_type": "code",
   "execution_count": 1,
   "metadata": {},
   "outputs": [
    {
     "name": "stdout",
     "output_type": "stream",
     "text": [
      "data/creditcard.csv:\n",
      "    Data file size:      144M\n",
      "    Data file type:      CSV text\n",
      "    Number of lines:     284808\n",
      "    Data header row?     \"Time\",\"V1\",\"V2\",\"V3\",\"V4\",\"V5\",\"V6\",\"V7\",\"V8\",\"V9\",\"V10\",\"V11\",\"V12\",\"V13\",\"V14\",\"V15\",\"V16\",\"V17\",\"V18\",\"V19\",\"V20\",\"V21\",\"V22\",\"V23\",\"V24\",\"V25\",\"V26\",\"V27\",\"V28\",\"Amount\",\"Class\"\n"
     ]
    }
   ],
   "source": [
    "%%bash\n",
    "declare -a DATA_FILES=(\"data/creditcard.csv\")\n",
    "\n",
    "for FILE in \"${DATA_FILES[@]}\"; do\n",
    "    if [ -f \"${FILE}\" ] ; then\n",
    "        echo \"${FILE}:\"\n",
    "        echo \"    Data file size:      $(du -h ${FILE} | awk '{print $1;}')\"\n",
    "        echo \"    Data file type:      $(file --brief ${FILE})\"\n",
    "        echo \"    Number of lines:     $(wc -l ${FILE} | awk '{print $1;}')\"\n",
    "        echo \"    Data header row?     $(head -n 1 ${FILE})\"\n",
    "    else\n",
    "        echo \"${FILE}: NOT FOUND\"\n",
    "    fi\n",
    "done"
   ]
  },
  {
   "cell_type": "markdown",
   "metadata": {},
   "source": [
    "## 1.B Python/Jupyter Setup\n",
    "\n",
    "We organize the imports at the begining of the notebook, similar to a\n",
    "\"traditional\" Python file.  This is a personal preference.\n",
    "\n",
    "Furthermore, we prefer the Python `logging` module over \"raw\" print statements\n",
    "to stdout."
   ]
  },
  {
   "cell_type": "code",
   "execution_count": 2,
   "metadata": {},
   "outputs": [],
   "source": [
    "import logging\n",
    "import matplotlib.pyplot as plt\n",
    "import matplotlib.cm as cm\n",
    "import numpy as np\n",
    "import os.path\n",
    "import pandas as pd\n",
    "import shutil\n",
    "\n",
    "import keras\n",
    "import keras.callbacks\n",
    "import keras.layers\n",
    "import keras.models\n",
    "import keras.optimizers\n",
    "import keras.regularizers\n",
    "import keras_tuner as kt\n",
    "\n",
    "import seaborn as sns\n",
    "import sklearn.compose\n",
    "import sklearn.manifold\n",
    "import sklearn.metrics\n",
    "import sklearn.neural_network\n",
    "import sklearn.preprocessing\n",
    "import sklearn.utils\n",
    "\n",
    "# Activate the 'inline' backend such that plots are displayed directly\n",
    "# after the cell containing the plot command\n",
    "%matplotlib inline\n",
    "\n",
    "# Display up to 100 rows\n",
    "pd.options.display.max_rows = 100\n",
    "\n",
    "# Set up logging ...\n",
    "logging.basicConfig(format='%(asctime)s - %(levelname)-6s - %(name)10s - %(message)s',\n",
    "                    datefmt='%Y-%m-%d %H:%M:%S',\n",
    "                    level=logging.DEBUG)\n",
    "logging.getLogger('matplotlib').setLevel(logging.ERROR)\n",
    "\n",
    "LOGGER = logging.getLogger('MSDS-680')\n",
    "\n",
    "RANDOM_SEED = 42\n",
    "LEGITIMATE  = 0\n",
    "FRAUD       = 1\n",
    "MAX_EPOCHS  = 50\n",
    "KERAS_PROJECT_PATH  = './keras/credit-card-fraud'\n",
    "KERAS_BATCH_SIZE    = 150"
   ]
  },
  {
   "cell_type": "markdown",
   "metadata": {},
   "source": [
    "## 1.C Import the Data\n"
   ]
  },
  {
   "cell_type": "code",
   "execution_count": 3,
   "metadata": {},
   "outputs": [
    {
     "name": "stderr",
     "output_type": "stream",
     "text": [
      "2022-02-14 00:19:25 - INFO   -   MSDS-680 - credit_df.shape ==> 284807 rows x 31 cols\n"
     ]
    },
    {
     "data": {
      "text/html": [
       "<div>\n",
       "<style scoped>\n",
       "    .dataframe tbody tr th:only-of-type {\n",
       "        vertical-align: middle;\n",
       "    }\n",
       "\n",
       "    .dataframe tbody tr th {\n",
       "        vertical-align: top;\n",
       "    }\n",
       "\n",
       "    .dataframe thead th {\n",
       "        text-align: right;\n",
       "    }\n",
       "</style>\n",
       "<table border=\"1\" class=\"dataframe\">\n",
       "  <thead>\n",
       "    <tr style=\"text-align: right;\">\n",
       "      <th></th>\n",
       "      <th>Time</th>\n",
       "      <th>V1</th>\n",
       "      <th>V2</th>\n",
       "      <th>V3</th>\n",
       "      <th>V4</th>\n",
       "      <th>V5</th>\n",
       "      <th>V6</th>\n",
       "      <th>V7</th>\n",
       "      <th>V8</th>\n",
       "      <th>V9</th>\n",
       "      <th>...</th>\n",
       "      <th>V21</th>\n",
       "      <th>V22</th>\n",
       "      <th>V23</th>\n",
       "      <th>V24</th>\n",
       "      <th>V25</th>\n",
       "      <th>V26</th>\n",
       "      <th>V27</th>\n",
       "      <th>V28</th>\n",
       "      <th>Amount</th>\n",
       "      <th>Class</th>\n",
       "    </tr>\n",
       "  </thead>\n",
       "  <tbody>\n",
       "    <tr>\n",
       "      <th>0</th>\n",
       "      <td>0.0</td>\n",
       "      <td>-1.359807</td>\n",
       "      <td>-0.072781</td>\n",
       "      <td>2.536347</td>\n",
       "      <td>1.378155</td>\n",
       "      <td>-0.338321</td>\n",
       "      <td>0.462388</td>\n",
       "      <td>0.239599</td>\n",
       "      <td>0.098698</td>\n",
       "      <td>0.363787</td>\n",
       "      <td>...</td>\n",
       "      <td>-0.018307</td>\n",
       "      <td>0.277838</td>\n",
       "      <td>-0.110474</td>\n",
       "      <td>0.066928</td>\n",
       "      <td>0.128539</td>\n",
       "      <td>-0.189115</td>\n",
       "      <td>0.133558</td>\n",
       "      <td>-0.021053</td>\n",
       "      <td>149.62</td>\n",
       "      <td>0</td>\n",
       "    </tr>\n",
       "    <tr>\n",
       "      <th>1</th>\n",
       "      <td>0.0</td>\n",
       "      <td>1.191857</td>\n",
       "      <td>0.266151</td>\n",
       "      <td>0.166480</td>\n",
       "      <td>0.448154</td>\n",
       "      <td>0.060018</td>\n",
       "      <td>-0.082361</td>\n",
       "      <td>-0.078803</td>\n",
       "      <td>0.085102</td>\n",
       "      <td>-0.255425</td>\n",
       "      <td>...</td>\n",
       "      <td>-0.225775</td>\n",
       "      <td>-0.638672</td>\n",
       "      <td>0.101288</td>\n",
       "      <td>-0.339846</td>\n",
       "      <td>0.167170</td>\n",
       "      <td>0.125895</td>\n",
       "      <td>-0.008983</td>\n",
       "      <td>0.014724</td>\n",
       "      <td>2.69</td>\n",
       "      <td>0</td>\n",
       "    </tr>\n",
       "    <tr>\n",
       "      <th>2</th>\n",
       "      <td>1.0</td>\n",
       "      <td>-1.358354</td>\n",
       "      <td>-1.340163</td>\n",
       "      <td>1.773209</td>\n",
       "      <td>0.379780</td>\n",
       "      <td>-0.503198</td>\n",
       "      <td>1.800499</td>\n",
       "      <td>0.791461</td>\n",
       "      <td>0.247676</td>\n",
       "      <td>-1.514654</td>\n",
       "      <td>...</td>\n",
       "      <td>0.247998</td>\n",
       "      <td>0.771679</td>\n",
       "      <td>0.909412</td>\n",
       "      <td>-0.689281</td>\n",
       "      <td>-0.327642</td>\n",
       "      <td>-0.139097</td>\n",
       "      <td>-0.055353</td>\n",
       "      <td>-0.059752</td>\n",
       "      <td>378.66</td>\n",
       "      <td>0</td>\n",
       "    </tr>\n",
       "    <tr>\n",
       "      <th>3</th>\n",
       "      <td>1.0</td>\n",
       "      <td>-0.966272</td>\n",
       "      <td>-0.185226</td>\n",
       "      <td>1.792993</td>\n",
       "      <td>-0.863291</td>\n",
       "      <td>-0.010309</td>\n",
       "      <td>1.247203</td>\n",
       "      <td>0.237609</td>\n",
       "      <td>0.377436</td>\n",
       "      <td>-1.387024</td>\n",
       "      <td>...</td>\n",
       "      <td>-0.108300</td>\n",
       "      <td>0.005274</td>\n",
       "      <td>-0.190321</td>\n",
       "      <td>-1.175575</td>\n",
       "      <td>0.647376</td>\n",
       "      <td>-0.221929</td>\n",
       "      <td>0.062723</td>\n",
       "      <td>0.061458</td>\n",
       "      <td>123.50</td>\n",
       "      <td>0</td>\n",
       "    </tr>\n",
       "    <tr>\n",
       "      <th>4</th>\n",
       "      <td>2.0</td>\n",
       "      <td>-1.158233</td>\n",
       "      <td>0.877737</td>\n",
       "      <td>1.548718</td>\n",
       "      <td>0.403034</td>\n",
       "      <td>-0.407193</td>\n",
       "      <td>0.095921</td>\n",
       "      <td>0.592941</td>\n",
       "      <td>-0.270533</td>\n",
       "      <td>0.817739</td>\n",
       "      <td>...</td>\n",
       "      <td>-0.009431</td>\n",
       "      <td>0.798278</td>\n",
       "      <td>-0.137458</td>\n",
       "      <td>0.141267</td>\n",
       "      <td>-0.206010</td>\n",
       "      <td>0.502292</td>\n",
       "      <td>0.219422</td>\n",
       "      <td>0.215153</td>\n",
       "      <td>69.99</td>\n",
       "      <td>0</td>\n",
       "    </tr>\n",
       "  </tbody>\n",
       "</table>\n",
       "<p>5 rows × 31 columns</p>\n",
       "</div>"
      ],
      "text/plain": [
       "   Time        V1        V2        V3        V4        V5        V6        V7  \\\n",
       "0   0.0 -1.359807 -0.072781  2.536347  1.378155 -0.338321  0.462388  0.239599   \n",
       "1   0.0  1.191857  0.266151  0.166480  0.448154  0.060018 -0.082361 -0.078803   \n",
       "2   1.0 -1.358354 -1.340163  1.773209  0.379780 -0.503198  1.800499  0.791461   \n",
       "3   1.0 -0.966272 -0.185226  1.792993 -0.863291 -0.010309  1.247203  0.237609   \n",
       "4   2.0 -1.158233  0.877737  1.548718  0.403034 -0.407193  0.095921  0.592941   \n",
       "\n",
       "         V8        V9  ...       V21       V22       V23       V24       V25  \\\n",
       "0  0.098698  0.363787  ... -0.018307  0.277838 -0.110474  0.066928  0.128539   \n",
       "1  0.085102 -0.255425  ... -0.225775 -0.638672  0.101288 -0.339846  0.167170   \n",
       "2  0.247676 -1.514654  ...  0.247998  0.771679  0.909412 -0.689281 -0.327642   \n",
       "3  0.377436 -1.387024  ... -0.108300  0.005274 -0.190321 -1.175575  0.647376   \n",
       "4 -0.270533  0.817739  ... -0.009431  0.798278 -0.137458  0.141267 -0.206010   \n",
       "\n",
       "        V26       V27       V28  Amount  Class  \n",
       "0 -0.189115  0.133558 -0.021053  149.62      0  \n",
       "1  0.125895 -0.008983  0.014724    2.69      0  \n",
       "2 -0.139097 -0.055353 -0.059752  378.66      0  \n",
       "3 -0.221929  0.062723  0.061458  123.50      0  \n",
       "4  0.502292  0.219422  0.215153   69.99      0  \n",
       "\n",
       "[5 rows x 31 columns]"
      ]
     },
     "execution_count": 3,
     "metadata": {},
     "output_type": "execute_result"
    }
   ],
   "source": [
    "credit_df = pd.read_csv('data/creditcard.csv')\n",
    "LOGGER.info(f'credit_df.shape ==> {credit_df.shape[0]} rows x {credit_df.shape[1]} cols')\n",
    "credit_df.head()"
   ]
  },
  {
   "cell_type": "code",
   "execution_count": 4,
   "metadata": {},
   "outputs": [
    {
     "name": "stdout",
     "output_type": "stream",
     "text": [
      "<class 'pandas.core.frame.DataFrame'>\n",
      "RangeIndex: 284807 entries, 0 to 284806\n",
      "Data columns (total 31 columns):\n",
      " #   Column  Non-Null Count   Dtype  \n",
      "---  ------  --------------   -----  \n",
      " 0   Time    284807 non-null  float64\n",
      " 1   V1      284807 non-null  float64\n",
      " 2   V2      284807 non-null  float64\n",
      " 3   V3      284807 non-null  float64\n",
      " 4   V4      284807 non-null  float64\n",
      " 5   V5      284807 non-null  float64\n",
      " 6   V6      284807 non-null  float64\n",
      " 7   V7      284807 non-null  float64\n",
      " 8   V8      284807 non-null  float64\n",
      " 9   V9      284807 non-null  float64\n",
      " 10  V10     284807 non-null  float64\n",
      " 11  V11     284807 non-null  float64\n",
      " 12  V12     284807 non-null  float64\n",
      " 13  V13     284807 non-null  float64\n",
      " 14  V14     284807 non-null  float64\n",
      " 15  V15     284807 non-null  float64\n",
      " 16  V16     284807 non-null  float64\n",
      " 17  V17     284807 non-null  float64\n",
      " 18  V18     284807 non-null  float64\n",
      " 19  V19     284807 non-null  float64\n",
      " 20  V20     284807 non-null  float64\n",
      " 21  V21     284807 non-null  float64\n",
      " 22  V22     284807 non-null  float64\n",
      " 23  V23     284807 non-null  float64\n",
      " 24  V24     284807 non-null  float64\n",
      " 25  V25     284807 non-null  float64\n",
      " 26  V26     284807 non-null  float64\n",
      " 27  V27     284807 non-null  float64\n",
      " 28  V28     284807 non-null  float64\n",
      " 29  Amount  284807 non-null  float64\n",
      " 30  Class   284807 non-null  int64  \n",
      "dtypes: float64(30), int64(1)\n",
      "memory usage: 67.4 MB\n"
     ]
    }
   ],
   "source": [
    "credit_df.info()"
   ]
  },
  {
   "cell_type": "markdown",
   "metadata": {},
   "source": [
    "# 2 Exploratory Data Analysis\n",
    "\n",
    "## 2.A Data Overview\n",
    "\n",
    "From Kaggle.com (n.d.):\n",
    "\n",
    "    [the data set] contains only numerical input variables which are the result of a PCA transformation. Unfortunately, due to confidentiality issues, we cannot provide the original features and more background information about the data. Features V1, V2, … V28 are the principal components obtained with PCA, the only features which have not been transformed with PCA are 'Time' and 'Amount'. Feature 'Time' contains the seconds elapsed between each transaction and the first transaction in the dataset. The feature 'Amount' is the transaction Amount, this feature can be used for example-dependant cost-sensitive learning. Feature 'Class' is the response variable and it takes value 1 in case of fraud and 0 otherwise.\n",
    "\n",
    "    Given the class imbalance ratio, we recommend measuring the accuracy using the Area Under the Precision-Recall Curve (AUPRC). Confusion matrix accuracy is not meaningful for unbalanced classification.\n",
    "\n",
    "The original features have been obscured along new axes corresponding to the\n",
    "principle components V1 - V28.\n"
   ]
  },
  {
   "cell_type": "code",
   "execution_count": 5,
   "metadata": {},
   "outputs": [
    {
     "data": {
      "text/html": [
       "<div>\n",
       "<style scoped>\n",
       "    .dataframe tbody tr th:only-of-type {\n",
       "        vertical-align: middle;\n",
       "    }\n",
       "\n",
       "    .dataframe tbody tr th {\n",
       "        vertical-align: top;\n",
       "    }\n",
       "\n",
       "    .dataframe thead th {\n",
       "        text-align: right;\n",
       "    }\n",
       "</style>\n",
       "<table border=\"1\" class=\"dataframe\">\n",
       "  <thead>\n",
       "    <tr style=\"text-align: right;\">\n",
       "      <th></th>\n",
       "      <th>Time</th>\n",
       "      <th>V1</th>\n",
       "      <th>V2</th>\n",
       "      <th>V3</th>\n",
       "      <th>V4</th>\n",
       "      <th>V5</th>\n",
       "      <th>V6</th>\n",
       "      <th>V7</th>\n",
       "      <th>V8</th>\n",
       "      <th>V9</th>\n",
       "      <th>...</th>\n",
       "      <th>V21</th>\n",
       "      <th>V22</th>\n",
       "      <th>V23</th>\n",
       "      <th>V24</th>\n",
       "      <th>V25</th>\n",
       "      <th>V26</th>\n",
       "      <th>V27</th>\n",
       "      <th>V28</th>\n",
       "      <th>Amount</th>\n",
       "      <th>Class</th>\n",
       "    </tr>\n",
       "  </thead>\n",
       "  <tbody>\n",
       "    <tr>\n",
       "      <th>count</th>\n",
       "      <td>284807.000000</td>\n",
       "      <td>2.848070e+05</td>\n",
       "      <td>2.848070e+05</td>\n",
       "      <td>2.848070e+05</td>\n",
       "      <td>2.848070e+05</td>\n",
       "      <td>2.848070e+05</td>\n",
       "      <td>2.848070e+05</td>\n",
       "      <td>2.848070e+05</td>\n",
       "      <td>2.848070e+05</td>\n",
       "      <td>2.848070e+05</td>\n",
       "      <td>...</td>\n",
       "      <td>2.848070e+05</td>\n",
       "      <td>2.848070e+05</td>\n",
       "      <td>2.848070e+05</td>\n",
       "      <td>2.848070e+05</td>\n",
       "      <td>2.848070e+05</td>\n",
       "      <td>2.848070e+05</td>\n",
       "      <td>2.848070e+05</td>\n",
       "      <td>2.848070e+05</td>\n",
       "      <td>284807.000000</td>\n",
       "      <td>284807.000000</td>\n",
       "    </tr>\n",
       "    <tr>\n",
       "      <th>mean</th>\n",
       "      <td>94813.859575</td>\n",
       "      <td>3.918649e-15</td>\n",
       "      <td>5.682686e-16</td>\n",
       "      <td>-8.761736e-15</td>\n",
       "      <td>2.811118e-15</td>\n",
       "      <td>-1.552103e-15</td>\n",
       "      <td>2.040130e-15</td>\n",
       "      <td>-1.698953e-15</td>\n",
       "      <td>-1.893285e-16</td>\n",
       "      <td>-3.147640e-15</td>\n",
       "      <td>...</td>\n",
       "      <td>1.473120e-16</td>\n",
       "      <td>8.042109e-16</td>\n",
       "      <td>5.282512e-16</td>\n",
       "      <td>4.456271e-15</td>\n",
       "      <td>1.426896e-15</td>\n",
       "      <td>1.701640e-15</td>\n",
       "      <td>-3.662252e-16</td>\n",
       "      <td>-1.217809e-16</td>\n",
       "      <td>88.349619</td>\n",
       "      <td>0.001727</td>\n",
       "    </tr>\n",
       "    <tr>\n",
       "      <th>std</th>\n",
       "      <td>47488.145955</td>\n",
       "      <td>1.958696e+00</td>\n",
       "      <td>1.651309e+00</td>\n",
       "      <td>1.516255e+00</td>\n",
       "      <td>1.415869e+00</td>\n",
       "      <td>1.380247e+00</td>\n",
       "      <td>1.332271e+00</td>\n",
       "      <td>1.237094e+00</td>\n",
       "      <td>1.194353e+00</td>\n",
       "      <td>1.098632e+00</td>\n",
       "      <td>...</td>\n",
       "      <td>7.345240e-01</td>\n",
       "      <td>7.257016e-01</td>\n",
       "      <td>6.244603e-01</td>\n",
       "      <td>6.056471e-01</td>\n",
       "      <td>5.212781e-01</td>\n",
       "      <td>4.822270e-01</td>\n",
       "      <td>4.036325e-01</td>\n",
       "      <td>3.300833e-01</td>\n",
       "      <td>250.120109</td>\n",
       "      <td>0.041527</td>\n",
       "    </tr>\n",
       "    <tr>\n",
       "      <th>min</th>\n",
       "      <td>0.000000</td>\n",
       "      <td>-5.640751e+01</td>\n",
       "      <td>-7.271573e+01</td>\n",
       "      <td>-4.832559e+01</td>\n",
       "      <td>-5.683171e+00</td>\n",
       "      <td>-1.137433e+02</td>\n",
       "      <td>-2.616051e+01</td>\n",
       "      <td>-4.355724e+01</td>\n",
       "      <td>-7.321672e+01</td>\n",
       "      <td>-1.343407e+01</td>\n",
       "      <td>...</td>\n",
       "      <td>-3.483038e+01</td>\n",
       "      <td>-1.093314e+01</td>\n",
       "      <td>-4.480774e+01</td>\n",
       "      <td>-2.836627e+00</td>\n",
       "      <td>-1.029540e+01</td>\n",
       "      <td>-2.604551e+00</td>\n",
       "      <td>-2.256568e+01</td>\n",
       "      <td>-1.543008e+01</td>\n",
       "      <td>0.000000</td>\n",
       "      <td>0.000000</td>\n",
       "    </tr>\n",
       "    <tr>\n",
       "      <th>25%</th>\n",
       "      <td>54201.500000</td>\n",
       "      <td>-9.203734e-01</td>\n",
       "      <td>-5.985499e-01</td>\n",
       "      <td>-8.903648e-01</td>\n",
       "      <td>-8.486401e-01</td>\n",
       "      <td>-6.915971e-01</td>\n",
       "      <td>-7.682956e-01</td>\n",
       "      <td>-5.540759e-01</td>\n",
       "      <td>-2.086297e-01</td>\n",
       "      <td>-6.430976e-01</td>\n",
       "      <td>...</td>\n",
       "      <td>-2.283949e-01</td>\n",
       "      <td>-5.423504e-01</td>\n",
       "      <td>-1.618463e-01</td>\n",
       "      <td>-3.545861e-01</td>\n",
       "      <td>-3.171451e-01</td>\n",
       "      <td>-3.269839e-01</td>\n",
       "      <td>-7.083953e-02</td>\n",
       "      <td>-5.295979e-02</td>\n",
       "      <td>5.600000</td>\n",
       "      <td>0.000000</td>\n",
       "    </tr>\n",
       "    <tr>\n",
       "      <th>50%</th>\n",
       "      <td>84692.000000</td>\n",
       "      <td>1.810880e-02</td>\n",
       "      <td>6.548556e-02</td>\n",
       "      <td>1.798463e-01</td>\n",
       "      <td>-1.984653e-02</td>\n",
       "      <td>-5.433583e-02</td>\n",
       "      <td>-2.741871e-01</td>\n",
       "      <td>4.010308e-02</td>\n",
       "      <td>2.235804e-02</td>\n",
       "      <td>-5.142873e-02</td>\n",
       "      <td>...</td>\n",
       "      <td>-2.945017e-02</td>\n",
       "      <td>6.781943e-03</td>\n",
       "      <td>-1.119293e-02</td>\n",
       "      <td>4.097606e-02</td>\n",
       "      <td>1.659350e-02</td>\n",
       "      <td>-5.213911e-02</td>\n",
       "      <td>1.342146e-03</td>\n",
       "      <td>1.124383e-02</td>\n",
       "      <td>22.000000</td>\n",
       "      <td>0.000000</td>\n",
       "    </tr>\n",
       "    <tr>\n",
       "      <th>75%</th>\n",
       "      <td>139320.500000</td>\n",
       "      <td>1.315642e+00</td>\n",
       "      <td>8.037239e-01</td>\n",
       "      <td>1.027196e+00</td>\n",
       "      <td>7.433413e-01</td>\n",
       "      <td>6.119264e-01</td>\n",
       "      <td>3.985649e-01</td>\n",
       "      <td>5.704361e-01</td>\n",
       "      <td>3.273459e-01</td>\n",
       "      <td>5.971390e-01</td>\n",
       "      <td>...</td>\n",
       "      <td>1.863772e-01</td>\n",
       "      <td>5.285536e-01</td>\n",
       "      <td>1.476421e-01</td>\n",
       "      <td>4.395266e-01</td>\n",
       "      <td>3.507156e-01</td>\n",
       "      <td>2.409522e-01</td>\n",
       "      <td>9.104512e-02</td>\n",
       "      <td>7.827995e-02</td>\n",
       "      <td>77.165000</td>\n",
       "      <td>0.000000</td>\n",
       "    </tr>\n",
       "    <tr>\n",
       "      <th>max</th>\n",
       "      <td>172792.000000</td>\n",
       "      <td>2.454930e+00</td>\n",
       "      <td>2.205773e+01</td>\n",
       "      <td>9.382558e+00</td>\n",
       "      <td>1.687534e+01</td>\n",
       "      <td>3.480167e+01</td>\n",
       "      <td>7.330163e+01</td>\n",
       "      <td>1.205895e+02</td>\n",
       "      <td>2.000721e+01</td>\n",
       "      <td>1.559499e+01</td>\n",
       "      <td>...</td>\n",
       "      <td>2.720284e+01</td>\n",
       "      <td>1.050309e+01</td>\n",
       "      <td>2.252841e+01</td>\n",
       "      <td>4.584549e+00</td>\n",
       "      <td>7.519589e+00</td>\n",
       "      <td>3.517346e+00</td>\n",
       "      <td>3.161220e+01</td>\n",
       "      <td>3.384781e+01</td>\n",
       "      <td>25691.160000</td>\n",
       "      <td>1.000000</td>\n",
       "    </tr>\n",
       "  </tbody>\n",
       "</table>\n",
       "<p>8 rows × 31 columns</p>\n",
       "</div>"
      ],
      "text/plain": [
       "                Time            V1            V2            V3            V4  \\\n",
       "count  284807.000000  2.848070e+05  2.848070e+05  2.848070e+05  2.848070e+05   \n",
       "mean    94813.859575  3.918649e-15  5.682686e-16 -8.761736e-15  2.811118e-15   \n",
       "std     47488.145955  1.958696e+00  1.651309e+00  1.516255e+00  1.415869e+00   \n",
       "min         0.000000 -5.640751e+01 -7.271573e+01 -4.832559e+01 -5.683171e+00   \n",
       "25%     54201.500000 -9.203734e-01 -5.985499e-01 -8.903648e-01 -8.486401e-01   \n",
       "50%     84692.000000  1.810880e-02  6.548556e-02  1.798463e-01 -1.984653e-02   \n",
       "75%    139320.500000  1.315642e+00  8.037239e-01  1.027196e+00  7.433413e-01   \n",
       "max    172792.000000  2.454930e+00  2.205773e+01  9.382558e+00  1.687534e+01   \n",
       "\n",
       "                 V5            V6            V7            V8            V9  \\\n",
       "count  2.848070e+05  2.848070e+05  2.848070e+05  2.848070e+05  2.848070e+05   \n",
       "mean  -1.552103e-15  2.040130e-15 -1.698953e-15 -1.893285e-16 -3.147640e-15   \n",
       "std    1.380247e+00  1.332271e+00  1.237094e+00  1.194353e+00  1.098632e+00   \n",
       "min   -1.137433e+02 -2.616051e+01 -4.355724e+01 -7.321672e+01 -1.343407e+01   \n",
       "25%   -6.915971e-01 -7.682956e-01 -5.540759e-01 -2.086297e-01 -6.430976e-01   \n",
       "50%   -5.433583e-02 -2.741871e-01  4.010308e-02  2.235804e-02 -5.142873e-02   \n",
       "75%    6.119264e-01  3.985649e-01  5.704361e-01  3.273459e-01  5.971390e-01   \n",
       "max    3.480167e+01  7.330163e+01  1.205895e+02  2.000721e+01  1.559499e+01   \n",
       "\n",
       "       ...           V21           V22           V23           V24  \\\n",
       "count  ...  2.848070e+05  2.848070e+05  2.848070e+05  2.848070e+05   \n",
       "mean   ...  1.473120e-16  8.042109e-16  5.282512e-16  4.456271e-15   \n",
       "std    ...  7.345240e-01  7.257016e-01  6.244603e-01  6.056471e-01   \n",
       "min    ... -3.483038e+01 -1.093314e+01 -4.480774e+01 -2.836627e+00   \n",
       "25%    ... -2.283949e-01 -5.423504e-01 -1.618463e-01 -3.545861e-01   \n",
       "50%    ... -2.945017e-02  6.781943e-03 -1.119293e-02  4.097606e-02   \n",
       "75%    ...  1.863772e-01  5.285536e-01  1.476421e-01  4.395266e-01   \n",
       "max    ...  2.720284e+01  1.050309e+01  2.252841e+01  4.584549e+00   \n",
       "\n",
       "                V25           V26           V27           V28         Amount  \\\n",
       "count  2.848070e+05  2.848070e+05  2.848070e+05  2.848070e+05  284807.000000   \n",
       "mean   1.426896e-15  1.701640e-15 -3.662252e-16 -1.217809e-16      88.349619   \n",
       "std    5.212781e-01  4.822270e-01  4.036325e-01  3.300833e-01     250.120109   \n",
       "min   -1.029540e+01 -2.604551e+00 -2.256568e+01 -1.543008e+01       0.000000   \n",
       "25%   -3.171451e-01 -3.269839e-01 -7.083953e-02 -5.295979e-02       5.600000   \n",
       "50%    1.659350e-02 -5.213911e-02  1.342146e-03  1.124383e-02      22.000000   \n",
       "75%    3.507156e-01  2.409522e-01  9.104512e-02  7.827995e-02      77.165000   \n",
       "max    7.519589e+00  3.517346e+00  3.161220e+01  3.384781e+01   25691.160000   \n",
       "\n",
       "               Class  \n",
       "count  284807.000000  \n",
       "mean        0.001727  \n",
       "std         0.041527  \n",
       "min         0.000000  \n",
       "25%         0.000000  \n",
       "50%         0.000000  \n",
       "75%         0.000000  \n",
       "max         1.000000  \n",
       "\n",
       "[8 rows x 31 columns]"
      ]
     },
     "execution_count": 5,
     "metadata": {},
     "output_type": "execute_result"
    }
   ],
   "source": [
    "credit_df.describe()"
   ]
  },
  {
   "cell_type": "markdown",
   "metadata": {},
   "source": [
    "## 2.B Class Distribution\n",
    "\n",
    "The histogram below clearly shows a significant imbalance between the\n",
    "*Legitimate* class and the *Fraud* class."
   ]
  },
  {
   "cell_type": "code",
   "execution_count": 6,
   "metadata": {},
   "outputs": [
    {
     "name": "stderr",
     "output_type": "stream",
     "text": [
      "2022-02-14 00:19:26 - INFO   -   MSDS-680 - Size of data: 284807 ... 99.83% legitimate, 0.17% fraud\n"
     ]
    },
    {
     "data": {
      "image/png": "[encoded data removed]",
      "text/plain": [
       "<Figure size 432x288 with 1 Axes>"
      ]
     },
     "metadata": {
      "needs_background": "light"
     },
     "output_type": "display_data"
    }
   ],
   "source": [
    "class_pcts = credit_df['Class'].value_counts(normalize=True).values\n",
    "LOGGER.info(f'Size of data: {credit_df.shape[0]} ... {class_pcts[LEGITIMATE]:.2%} legitimate, {class_pcts[FRAUD]:.2%} fraud')\n",
    "credit_df['Class'].hist(bins=2)\n",
    "_ = plt.xticks(ticks=(0.25, 0.75), labels=['Legitimate', 'Fraud'])\n"
   ]
  },
  {
   "cell_type": "markdown",
   "metadata": {},
   "source": [
    "## 2.C Feature-to-Class Correlation\n",
    "\n",
    "With the imbalanced data, we don't see intra-axis correlation."
   ]
  },
  {
   "cell_type": "code",
   "execution_count": 7,
   "metadata": {},
   "outputs": [
    {
     "data": {
      "image/png": "[encoded data removed]",
      "text/plain": [
       "<Figure size 432x288 with 2 Axes>"
      ]
     },
     "metadata": {
      "needs_background": "light"
     },
     "output_type": "display_data"
    }
   ],
   "source": [
    "_ =sns.heatmap(credit_df.drop(['Time', 'Amount'], axis='columns').corr())"
   ]
  },
  {
   "cell_type": "markdown",
   "metadata": {},
   "source": [
    "## 2.D Analysis of Amount and Time\n",
    "\n",
    "Inspired by Valkov (2017), we overlay a histogram of Fraud amounts with\n",
    "Legitimate transaction amounts.  It appears that Fraud amounts tend to remain\n",
    "in the `1 - 2500` range while Legitimate transactions range from `1 - 20,000`.\n",
    "Since the ranges overlap, it does not appear that we can use `Amount` as a \n",
    "descriminator."
   ]
  },
  {
   "cell_type": "code",
   "execution_count": 8,
   "metadata": {},
   "outputs": [
    {
     "data": {
      "image/png": "[encoded data removed]",
      "text/plain": [
       "<Figure size 432x288 with 1 Axes>"
      ]
     },
     "metadata": {
      "needs_background": "light"
     },
     "output_type": "display_data"
    }
   ],
   "source": [
    "fig, ax = plt.subplots()\n",
    "ax.set_title('Amount per transaction by class')\n",
    "\n",
    "ax.hist(credit_df[credit_df['Class'] == LEGITIMATE].Amount, bins = 50, label='Legitimate')\n",
    "ax.hist(credit_df[credit_df['Class'] == FRAUD].Amount, bins = 50, label='Fraud')\n",
    "ax.legend()\n",
    "\n",
    "plt.xlabel('Amount (Euro?)')\n",
    "plt.ylabel('Number of Transactions')\n",
    "plt.xlim((0, 20000))\n",
    "plt.yscale('log')\n",
    "plt.show()"
   ]
  },
  {
   "cell_type": "markdown",
   "metadata": {},
   "source": [
    "Likewise, it appears that `Time` does not appear to play a role in determining\n",
    "Fraud vs Legitimate transaction."
   ]
  },
  {
   "cell_type": "code",
   "execution_count": 9,
   "metadata": {},
   "outputs": [
    {
     "data": {
      "image/png": "[encoded data removed]",
      "text/plain": [
       "<Figure size 432x288 with 1 Axes>"
      ]
     },
     "metadata": {
      "needs_background": "light"
     },
     "output_type": "display_data"
    }
   ],
   "source": [
    "f, ax = plt.subplots()\n",
    "ax.set_title('Time of transaction vs Amount by class')\n",
    "\n",
    "ax.scatter(credit_df[credit_df['Class'] == LEGITIMATE].Time,\n",
    "           credit_df[credit_df['Class'] == LEGITIMATE].Amount,\n",
    "           label='Legitimate')\n",
    "ax.scatter(credit_df[credit_df['Class'] == FRAUD].Time,\n",
    "           credit_df[credit_df['Class'] == FRAUD].Amount,\n",
    "           label='Fraud')\n",
    "ax.legend()\n",
    "\n",
    "plt.xlabel('Time (in Seconds)')\n",
    "plt.ylabel('Amount')\n",
    "plt.show()"
   ]
  },
  {
   "cell_type": "markdown",
   "metadata": {},
   "source": [
    "# 3 Artificial Neural Network (ANN)\n",
    "\n",
    "## 3.A Data Preparation\n",
    "\n",
    "## 3.A.1 Feature Transformation(s)\n",
    "\n",
    "Below, we identify columns that will become features and which column will be\n",
    "used as labels."
   ]
  },
  {
   "cell_type": "code",
   "execution_count": 10,
   "metadata": {},
   "outputs": [],
   "source": [
    "# Identify the label column:\n",
    "label_column = 'Class'\n",
    "\n",
    "not_feature_columns = [label_column, 'Time', 'Amount']\n",
    "\n",
    "# All other columns are inputs (features)\n",
    "feature_columns = [c for c in credit_df.columns if c not in not_feature_columns]\n",
    "\n",
    "transformer = sklearn.preprocessing.MinMaxScaler()\n"
   ]
  },
  {
   "cell_type": "markdown",
   "metadata": {},
   "source": [
    "\n",
    "## 3.B Train / Test Split\n",
    "\n",
    "### 3.B.1 Train / Test Split - Unbalanced Data\n",
    "\n",
    "The data is imbalanced, but `sklearn.model_selection.train_test_split` correctly\n",
    "splits the data to produce training and test data that represents both cases\n",
    "proportionately."
   ]
  },
  {
   "cell_type": "code",
   "execution_count": 11,
   "metadata": {},
   "outputs": [
    {
     "name": "stderr",
     "output_type": "stream",
     "text": [
      "2022-02-14 00:19:33 - INFO   -   MSDS-680 - X_train.shape ==> 227845 rows x 28 cols\n",
      "2022-02-14 00:19:33 - INFO   -   MSDS-680 - X_test.shape  ==> 56962  rows x 28 cols\n",
      "2022-02-14 00:19:33 - INFO   -   MSDS-680 - y_train.shape ==> 227845 rows\n",
      "2022-02-14 00:19:33 - INFO   -   MSDS-680 - y_test.shape  ==> 56962  rows\n",
      "2022-02-14 00:19:33 - INFO   -   MSDS-680 - Size of training data: 227845 ... 99.83% legitimate, 0.17% fraud\n",
      "2022-02-14 00:19:33 - INFO   -   MSDS-680 - Size of test data: 56962 ... 99.83% legitimate, 0.17% fraud\n"
     ]
    }
   ],
   "source": [
    "\n",
    "# X = input, y = labels\n",
    "X = credit_df[feature_columns].values\n",
    "y = credit_df[label_column].values\n",
    "\n",
    "# This will randomly split the data according to the provided ratio (0.2)\n",
    "X_train, X_test, y_train, y_test = sklearn.model_selection.train_test_split(X, y, test_size=0.2, random_state=RANDOM_SEED)\n",
    "\n",
    "\n",
    "LOGGER.info(f'X_train.shape ==> {X_train.shape[0]} rows x {X_train.shape[1]} cols')\n",
    "LOGGER.info(f'X_test.shape  ==> {X_test.shape[0]}  rows x {X_test.shape[1]} cols')\n",
    "\n",
    "LOGGER.info(f'y_train.shape ==> {y_train.shape[0]} rows')\n",
    "LOGGER.info(f'y_test.shape  ==> {y_test.shape[0]}  rows')\n",
    "\n",
    "def log_data_proportion(data, data_name='data'):\n",
    "    fraud_count = np.count_nonzero(data)\n",
    "    legit_count = len(data) - fraud_count\n",
    "\n",
    "    fraud_pct   = fraud_count / len(data)\n",
    "    legit_pct   = legit_count / len(data)\n",
    "\n",
    "    LOGGER.info(f'Size of {data_name}: {len(data)} ... {legit_pct:.2%} legitimate, {fraud_pct:.2%} fraud')\n",
    "\n",
    "log_data_proportion(y_train, 'training data')\n",
    "log_data_proportion(y_test, 'test data')\n",
    "\n",
    "# Transformed X_train data\n",
    "Xt_train = transformer.fit_transform(X_train)\n",
    "Xt_test  = transformer.transform(X_test)\n"
   ]
  },
  {
   "cell_type": "markdown",
   "metadata": {},
   "source": [
    "### 3.B.2 Train / Test Split - Balanced Data\n",
    "\n",
    "Under-sample the majority (legitimate) case"
   ]
  },
  {
   "cell_type": "code",
   "execution_count": 12,
   "metadata": {},
   "outputs": [
    {
     "name": "stderr",
     "output_type": "stream",
     "text": [
      "2022-02-14 00:19:33 - INFO   -   MSDS-680 - X_balanced_train.shape ==> 787 rows x 28 cols\n",
      "2022-02-14 00:19:33 - INFO   -   MSDS-680 - X_balanced_test.shape  ==> 197  rows x 28 cols\n",
      "2022-02-14 00:19:33 - INFO   -   MSDS-680 - y_balanced_train.shape ==> 787 rows\n",
      "2022-02-14 00:19:33 - INFO   -   MSDS-680 - y_balanced_test.shape  ==> 197  rows\n",
      "2022-02-14 00:19:33 - INFO   -   MSDS-680 - Size of balanced training data: 787 ... 49.81% legitimate, 50.19% fraud\n",
      "2022-02-14 00:19:33 - INFO   -   MSDS-680 - Size of balanced test data: 197 ... 50.76% legitimate, 49.24% fraud\n"
     ]
    }
   ],
   "source": [
    "num_fraud = credit_df[credit_df['Class'] == FRAUD].shape[0]\n",
    "\n",
    "balanced_df = pd.concat((credit_df[credit_df['Class'] == LEGITIMATE].sample(n=num_fraud,\n",
    "                                                                            axis='index',\n",
    "                                                                            random_state=RANDOM_SEED),\n",
    "                         credit_df[credit_df['Class'] == FRAUD]))\n",
    "\n",
    "# At this point, balanced_df contains all LEGITIMATE in a contiguous block\n",
    "# followed by FRAUD in a contiguous block ... randomly shuffle the DataFrame\n",
    "balanced_df = balanced_df.sample(frac=1).reset_index(drop=True)\n",
    "\n",
    "\n",
    "# X = input, y = labels\n",
    "X_balanced = balanced_df[feature_columns].values\n",
    "y_balanced = balanced_df[label_column].values\n",
    "\n",
    "# This will randomly split the data according to the provided ratio (0.2)\n",
    "X_balanced_train, X_balanced_test, y_balanced_train, y_balanced_test = sklearn.model_selection.train_test_split(X_balanced, y_balanced, test_size=0.2, random_state=RANDOM_SEED)\n",
    "\n",
    "LOGGER.info(f'X_balanced_train.shape ==> {X_balanced_train.shape[0]} rows x {X_balanced_train.shape[1]} cols')\n",
    "LOGGER.info(f'X_balanced_test.shape  ==> {X_balanced_test.shape[0]}  rows x {X_balanced_test.shape[1]} cols')\n",
    "\n",
    "LOGGER.info(f'y_balanced_train.shape ==> {y_balanced_train.shape[0]} rows')\n",
    "LOGGER.info(f'y_balanced_test.shape  ==> {y_balanced_test.shape[0]}  rows')\n",
    "\n",
    "log_data_proportion(y_balanced_train, 'balanced training data')\n",
    "log_data_proportion(y_balanced_test, 'balanced test data')\n",
    "\n",
    "# Transformed X_train data\n",
    "Xt_balanced_train = transformer.fit_transform(X_balanced_train)\n",
    "Xt_balanced_test  = transformer.transform(X_balanced_test)\n"
   ]
  },
  {
   "cell_type": "markdown",
   "metadata": {},
   "source": [
    "Now that we've balanced the data set, we can see more nuances in the correlation\n",
    "between features!"
   ]
  },
  {
   "cell_type": "code",
   "execution_count": 13,
   "metadata": {},
   "outputs": [
    {
     "data": {
      "text/plain": [
       "<AxesSubplot:>"
      ]
     },
     "execution_count": 13,
     "metadata": {},
     "output_type": "execute_result"
    },
    {
     "data": {
      "image/png": "[encoded data removed]",
      "text/plain": [
       "<Figure size 432x288 with 2 Axes>"
      ]
     },
     "metadata": {
      "needs_background": "light"
     },
     "output_type": "display_data"
    }
   ],
   "source": [
    "sns.heatmap(balanced_df.drop(['Time', 'Amount'], axis='columns').corr())"
   ]
  },
  {
   "cell_type": "markdown",
   "metadata": {},
   "source": [
    "## 3.C Multi-layer Perceptron (MLP) Classifier\n",
    "\n",
    "According to Scikit-Learn.org (n.d. a), MLPClassifier can automatically set\n",
    "aside a portion of training data as validation set for early stopping (see\n",
    "documentation for `early_stopping` and `validation_fraction` parameters).\n",
    "Below, we enable `early_stopping` and set the `validation_fraction` to 0.2.\n",
    "\n",
    "Per the assignment hint: change the loss function from mse/mae to something for\n",
    "binary classification.  However, Scikit-Learn.org (n.d. b) describes the\n",
    "mathematical formulation for binary classification as utilizing the logistic\n",
    "function to obtain output values between zero and one.  Outputs greater than\n",
    "or equal to 0.5 are assigned to the positive class, and the rest to the\n",
    "negative class.\n",
    "\n",
    "$$\n",
    "g(z) = \\frac{1}{1 + e^{-z}}\n",
    "$$\n",
    "\n",
    "We also know the following about the default MLPClassifier:\n",
    "\n",
    "| Attribute             | Default                               |\n",
    ":-----------------------|:--------------------------------------|\n",
    "| `hidden_layer_sizes`  | `(100,)`                              |\n",
    "| `activation`          | `relu`                                |\n",
    "| `solver`              | `adam` (adaptive momentum estimation) |\n",
    "| `learning_rate_init`  | `0.001` (constant)                    |\n",
    "\n",
    "### 3.C.1 MLP Using Imbalanced Data\n",
    "\n",
    "Utilizing imbalanced data, the MLPClassifier is able to achieve an accuracy\n",
    "score of 99.9%.  However, the false negative case (incorrectly labeling\n",
    "fraud as legitimate) is particularly damaging to both consumers and financial\n",
    "institutions.  Using *recall* seems more appropriate, but a recall score of\n",
    "only 68.4% is not great.\n"
   ]
  },
  {
   "cell_type": "code",
   "execution_count": 14,
   "metadata": {},
   "outputs": [],
   "source": [
    "model = sklearn.neural_network.MLPClassifier(hidden_layer_sizes=(200, 100),\n",
    "                                             early_stopping=True,\n",
    "                                             random_state=RANDOM_SEED,\n",
    "                                             validation_fraction=0.2)  \n",
    "\n",
    "_ = model.fit(Xt_train, y_train)"
   ]
  },
  {
   "cell_type": "code",
   "execution_count": 15,
   "metadata": {},
   "outputs": [
    {
     "data": {
      "image/png": "[encoded data removed]",
      "text/plain": [
       "<Figure size 432x288 with 1 Axes>"
      ]
     },
     "metadata": {
      "needs_background": "light"
     },
     "output_type": "display_data"
    }
   ],
   "source": [
    "# summarize history for loss\n",
    "plt.plot(model.loss_curve_)\n",
    "plt.title('model loss (imbalanced data)')\n",
    "plt.ylabel('loss')\n",
    "plt.xlabel('epoch')\n",
    "plt.legend(['train'], loc='center right')\n",
    "plt.show()"
   ]
  },
  {
   "cell_type": "code",
   "execution_count": 16,
   "metadata": {},
   "outputs": [
    {
     "name": "stderr",
     "output_type": "stream",
     "text": [
      "2022-02-14 00:20:36 - INFO   -   MSDS-680 - Accuracy: 99.93%.  Precision: 87.01%.  Recall: 68.37%.  F1 Score: 76.57%\n"
     ]
    },
    {
     "data": {
      "image/png": "[encoded data removed]",
      "text/plain": [
       "<Figure size 432x288 with 1 Axes>"
      ]
     },
     "metadata": {
      "needs_background": "light"
     },
     "output_type": "display_data"
    }
   ],
   "source": [
    "y_pred = model.predict(Xt_test)\n",
    "\n",
    "# Print performance metrics\n",
    "accuracy    = sklearn.metrics.accuracy_score(y_test, y_pred)\n",
    "precision   = sklearn.metrics.precision_score(y_test, y_pred)\n",
    "recall      = sklearn.metrics.recall_score(y_test, y_pred)\n",
    "f1          = sklearn.metrics.f1_score(y_test, y_pred)\n",
    "\n",
    "LOGGER.info(f'Accuracy: {accuracy:.2%}.  Precision: {precision:.2%}.  Recall: {recall:.2%}.  F1 Score: {f1:.2%}')\n",
    "\n",
    "# Display the confusion matrix\n",
    "cmat = sklearn.metrics.ConfusionMatrixDisplay.from_predictions(y_test,\n",
    "                                                               y_pred=y_pred,\n",
    "                                                               colorbar=False,\n",
    "                                                               display_labels=['Legit', 'Fraud'])\n",
    "_ = cmat.ax_.set_title('confusion matrix (imbalanced data)')\n"
   ]
  },
  {
   "cell_type": "markdown",
   "metadata": {},
   "source": [
    "### 3.C.2 MLP Using Balanced Data\n",
    "\n",
    "The effect of balanced vs imbalanced data wasn't clear to me prior to this\n",
    "experiment.  I incorrectly assumed that the result would be the same as long as\n",
    "the ratios were maintained between balanaced and imbalanced data.\n",
    "\n",
    "However, utilizing balanced data, the MLPClassifier achieves the same accuracy\n",
    "score of 99.9% but a greatly improved recall score of 91.8%!\n",
    "\n",
    "This illustrates that, when using the imbalanced data, the model was able to\n",
    "achieve a seemingly good accuracy score by guessing the majority case.\n"
   ]
  },
  {
   "cell_type": "code",
   "execution_count": 17,
   "metadata": {},
   "outputs": [
    {
     "data": {
      "image/png": "[encoded data removed]",
      "text/plain": [
       "<Figure size 432x288 with 1 Axes>"
      ]
     },
     "metadata": {
      "needs_background": "light"
     },
     "output_type": "display_data"
    }
   ],
   "source": [
    "model = sklearn.neural_network.MLPClassifier(hidden_layer_sizes=(200, 100),\n",
    "                                             early_stopping=True,\n",
    "                                             random_state=RANDOM_SEED,\n",
    "                                             validation_fraction=0.2)  \n",
    "\n",
    "model.fit(Xt_balanced_train, y_balanced_train)\n",
    "\n",
    "# summarize history for loss\n",
    "plt.plot(model.loss_curve_)\n",
    "plt.title('model loss (balanced data)')\n",
    "plt.ylabel('loss')\n",
    "plt.xlabel('epoch')\n",
    "plt.legend(['train'], loc='center right')\n",
    "plt.show()"
   ]
  },
  {
   "cell_type": "code",
   "execution_count": 18,
   "metadata": {},
   "outputs": [
    {
     "name": "stderr",
     "output_type": "stream",
     "text": [
      "2022-02-14 00:20:38 - INFO   -   MSDS-680 - Accuracy: 99.93%.  Precision: 98.89%.  Recall: 91.75%.  F1 Score: 95.19%\n"
     ]
    },
    {
     "data": {
      "image/png": "[encoded data removed]",
      "text/plain": [
       "<Figure size 432x288 with 1 Axes>"
      ]
     },
     "metadata": {
      "needs_background": "light"
     },
     "output_type": "display_data"
    }
   ],
   "source": [
    "y_balanced_pred = model.predict(Xt_balanced_test)\n",
    "\n",
    "# Print performance metrics\n",
    "accuracy    = sklearn.metrics.accuracy_score(y_test, y_pred)\n",
    "precision   = sklearn.metrics.precision_score(y_balanced_test, y_balanced_pred)\n",
    "recall      = sklearn.metrics.recall_score(y_balanced_test, y_balanced_pred)\n",
    "f1          = sklearn.metrics.f1_score(y_balanced_test, y_balanced_pred)\n",
    "\n",
    "LOGGER.info(f'Accuracy: {accuracy:.2%}.  Precision: {precision:.2%}.  Recall: {recall:.2%}.  F1 Score: {f1:.2%}')\n",
    "\n",
    "# Display the confusion matrix\n",
    "cmat = sklearn.metrics.ConfusionMatrixDisplay.from_predictions(y_balanced_test,\n",
    "                                                               y_pred=y_balanced_pred,\n",
    "                                                               colorbar=False,\n",
    "                                                               display_labels=['Legit', 'Fraud'])\n",
    "\n",
    "_ = cmat.ax_.set_title('confusion matrix (balanced data)')\n"
   ]
  },
  {
   "cell_type": "markdown",
   "metadata": {},
   "source": [
    "## 3.D Keras Neural Net\n",
    "\n",
    "### 3.D.1 Hypermodel Construction\n",
    "\n",
    "Now that we are using a Keras neural network, we heed the assignment hint:\n",
    "change the loss function from mse/mae to something for binary classification\n",
    "(`binary_crossentropy`).\n",
    "\n",
    "Below, we use KerasTuner to perform a search for the best combination of\n",
    "hyper-parameters for the sequential neural network.\n",
    "\n",
    "* Layer 1 is a Dense (fully connected) \n",
    "    * `input_dim` implicitly creates an `InputLayer` for the correct number of\n",
    "       features\n",
    "    * The output dimension (`units`) and activation function (`activation`)\n",
    "      are tuned hyper-parameters\n",
    "* Layer 2 is a Dropout layer, which randomly sets inputs to 0 in\n",
    "  order to avoid over-fitting\n",
    "* Layer 3 is a Dense layer with output dimension (`units`) and activation\n",
    "  function (`activation`) automatically\n",
    "* Layer 4 is another Dropout layer\n",
    "* Layer 5 is a Dense layer\n",
    "    * `units` is set to `1` to establish binary output\n",
    "    * The activation function (`activation`) is `sigmoid` (vice being a tuned\n",
    "      parameter) such that the output will range from `0` to `1`\n"
   ]
  },
  {
   "cell_type": "code",
   "execution_count": 19,
   "metadata": {},
   "outputs": [
    {
     "name": "stderr",
     "output_type": "stream",
     "text": [
      "2022-02-14 00:20:39.013738: W tensorflow/stream_executor/platform/default/dso_loader.cc:64] Could not load dynamic library 'libcuda.so.1'; dlerror: libcuda.so.1: cannot open shared object file: No such file or directory\n",
      "2022-02-14 00:20:39.013835: W tensorflow/stream_executor/cuda/cuda_driver.cc:269] failed call to cuInit: UNKNOWN ERROR (303)\n",
      "2022-02-14 00:20:39.013870: I tensorflow/stream_executor/cuda/cuda_diagnostics.cc:156] kernel driver does not appear to be running on this host (jupyter-dev): /proc/driver/nvidia/version does not exist\n",
      "2022-02-14 00:20:39.014391: I tensorflow/core/platform/cpu_feature_guard.cc:142] This TensorFlow binary is optimized with oneAPI Deep Neural Network Library (oneDNN) to use the following CPU instructions in performance-critical operations:  SSE4.1 SSE4.2 AVX AVX2 FMA\n",
      "To enable them in other operations, rebuild TensorFlow with the appropriate compiler flags.\n"
     ]
    }
   ],
   "source": [
    "def create_model(hp):\n",
    "    ''' Creates a model utilizing the hyper-parameters specified by \"hp\" '''\n",
    "    activation_1    = hp.get('hparam/activation_1')\n",
    "    activation_2    = hp.get('hparam/activation_2')\n",
    "    units_1         = hp.get('hparam/units_1')\n",
    "    units_2         = hp.get('hparam/units_2')\n",
    "\n",
    "    model = keras.models.Sequential()\n",
    "    model.add(keras.layers.Dense(units = units_1, activation = activation_1, input_dim = 28))\n",
    "    model.add(keras.layers.Dropout(0.05, seed=RANDOM_SEED))\n",
    "    model.add(keras.layers.Dense(units = units_2, activation = activation_2))\n",
    "    model.add(keras.layers.Dropout(0.05, seed=RANDOM_SEED))\n",
    "    model.add(keras.layers.Dense(units = 1, activation = 'sigmoid'))\n",
    "\n",
    "    model.compile(optimizer = 'adam',\n",
    "                  loss = 'binary_crossentropy',\n",
    "                  metrics = ['accuracy'])\n",
    "    \n",
    "    return model\n",
    "\n",
    "# Perform a search for the best combination of model hyper-parameters as\n",
    "# specified by the following constraints:\n",
    "hp = kt.HyperParameters()\n",
    "hp.Choice('hparam/activation_1', values=['relu', 'sigmoid', 'tanh'])\n",
    "hp.Choice('hparam/activation_2', values=['relu', 'sigmoid', 'tanh'])\n",
    "hp.Choice('hparam/units_1', values=[8**n for n in range(1, 5)])\n",
    "hp.Choice('hparam/units_2', values=[8**n for n in range(1, 5)])\n",
    "\n",
    "tuner = kt.Hyperband(create_model,\n",
    "                     objective='val_accuracy',\n",
    "                     max_epochs=MAX_EPOCHS,\n",
    "                     factor=3,\n",
    "                     hyperparameters=hp,\n",
    "                     hyperband_iterations=3,\n",
    "                     allow_new_entries=False,\n",
    "                     seed=RANDOM_SEED,\n",
    "                     directory=os.path.dirname(KERAS_PROJECT_PATH),\n",
    "                     project_name=os.path.basename(KERAS_PROJECT_PATH),\n",
    "                     overwrite=True)"
   ]
  },
  {
   "cell_type": "markdown",
   "metadata": {},
   "source": [
    "### 3.D.2 Hyper-parameter Search\n",
    "\n",
    "Keras models allow validation data to be passed to the fit function to\n",
    "calculate the accuracy.  According to the Keras API documentation, the\n",
    "`validation_data` parameter is\n",
    "\n",
    "        Data on which to evaluate the loss and any model metrics at the end of\n",
    "        each epoch. The model will not be trained on this data\n",
    "\n",
    "We use this mechanism below. "
   ]
  },
  {
   "cell_type": "code",
   "execution_count": 20,
   "metadata": {},
   "outputs": [
    {
     "name": "stderr",
     "output_type": "stream",
     "text": [
      "2022-02-14 00:20:39.632559: I tensorflow/compiler/mlir/mlir_graph_optimization_pass.cc:185] None of the MLIR Optimization Passes are enabled (registered 2)\n"
     ]
    },
    {
     "name": "stdout",
     "output_type": "stream",
     "text": [
      "INFO:tensorflow:Oracle triggered exit\n"
     ]
    },
    {
     "name": "stderr",
     "output_type": "stream",
     "text": [
      "2022-02-14 00:25:52 - INFO   - tensorflow - Oracle triggered exit\n"
     ]
    }
   ],
   "source": [
    "stop_early = keras.callbacks.EarlyStopping(monitor='val_accuracy',\n",
    "                                           patience=10)\n",
    "\n",
    "tuner.search(Xt_balanced_train, y_balanced_train,\n",
    "             validation_data=(Xt_balanced_test, y_balanced_test),\n",
    "             epochs=MAX_EPOCHS,\n",
    "             callbacks=[stop_early],\n",
    "             batch_size=KERAS_BATCH_SIZE,\n",
    "             verbose=0)"
   ]
  },
  {
   "cell_type": "code",
   "execution_count": 21,
   "metadata": {},
   "outputs": [
    {
     "name": "stderr",
     "output_type": "stream",
     "text": [
      "2022-02-14 00:25:52 - INFO   -   MSDS-680 - Best value for hparam/activation_1...... tanh\n",
      "2022-02-14 00:25:52 - INFO   -   MSDS-680 - Best value for hparam/activation_2...... relu\n",
      "2022-02-14 00:25:52 - INFO   -   MSDS-680 - Best value for hparam/units_1........... 64\n",
      "2022-02-14 00:25:52 - INFO   -   MSDS-680 - Best value for hparam/units_2........... 4096\n"
     ]
    }
   ],
   "source": [
    "best_hps = tuner.get_best_hyperparameters()[0]\n",
    "\n",
    "for hparam in best_hps.values:\n",
    "    if hparam.startswith('hparam/'):\n",
    "        LOGGER.info(f'Best value for {hparam:.<25} {best_hps.get(hparam)}')\n"
   ]
  },
  {
   "cell_type": "markdown",
   "metadata": {},
   "source": [
    "### 3.D.3 Epoch Optimization"
   ]
  },
  {
   "cell_type": "code",
   "execution_count": 22,
   "metadata": {},
   "outputs": [
    {
     "name": "stderr",
     "output_type": "stream",
     "text": [
      "2022-02-14 00:25:57 - INFO   -   MSDS-680 - Best epoch:20 (97.97%)\n"
     ]
    }
   ],
   "source": [
    "# Build the model with the optimal hyperparameters and train it for MAX_EPOCHS\n",
    "# to determine the optimal number of epochs to avoid over-fitting\n",
    "model   = tuner.hypermodel.build(best_hps)\n",
    "history = model.fit(Xt_balanced_train, y_balanced_train,\n",
    "                    epochs=MAX_EPOCHS,\n",
    "                    validation_data=(Xt_balanced_test, y_balanced_test),\n",
    "                    batch_size=KERAS_BATCH_SIZE,\n",
    "                    verbose=0)\n",
    "\n",
    "best_validation_accuracy    = max(history.history['val_accuracy'])\n",
    "best_num_epochs             = history.history['val_accuracy'].index(best_validation_accuracy) + 1\n",
    "\n",
    "LOGGER.info(f'Best epoch:{best_num_epochs} ({best_validation_accuracy:.2%})')\n"
   ]
  },
  {
   "cell_type": "markdown",
   "metadata": {},
   "source": [
    "### 3.D.4 Best Model, Best Epoch\n",
    "\n",
    "The plots below demostrate that the validation accuracy closely tracks the\n",
    "training accuracy.\n",
    "\n",
    "While experimenting with Keras and the KerasTuner, it was observed that the\n",
    "batch size influenced the smoothness of the curve (higher batch sizes yielded\n",
    "smoother curves).  However, a batch size over ~200 greatly impacted the\n",
    "run-time performance of the model and produced TensorFlow warnings.  Therefore,\n",
    "the default batch size is set to 150 (above)."
   ]
  },
  {
   "cell_type": "code",
   "execution_count": 23,
   "metadata": {},
   "outputs": [
    {
     "data": {
      "image/png": "[encoded data removed]",
      "text/plain": [
       "<Figure size 432x288 with 1 Axes>"
      ]
     },
     "metadata": {
      "needs_background": "light"
     },
     "output_type": "display_data"
    },
    {
     "data": {
      "image/png": "[encoded data removed]",
      "text/plain": [
       "<Figure size 432x288 with 1 Axes>"
      ]
     },
     "metadata": {
      "needs_background": "light"
     },
     "output_type": "display_data"
    }
   ],
   "source": [
    "hypermodel = tuner.hypermodel.build(best_hps)\n",
    "\n",
    "history = hypermodel.fit(Xt_balanced_train, y_balanced_train,\n",
    "                         epochs=best_num_epochs,\n",
    "                         validation_data=(Xt_balanced_test, y_balanced_test),\n",
    "                         batch_size=KERAS_BATCH_SIZE,\n",
    "                         verbose=0)\n",
    "                         \n",
    "# summarize history for accuracy\n",
    "plt.plot(history.history['accuracy'])\n",
    "plt.plot(history.history['val_accuracy'])\n",
    "plt.title('model accuracy')\n",
    "plt.ylabel('accuracy')\n",
    "plt.xlabel('epoch')\n",
    "plt.legend(['train accuracy', 'val accuracy'], loc='center left')\n",
    "plt.show()\n",
    "\n",
    "# summarize history for loss\n",
    "plt.plot(history.history['loss'])\n",
    "plt.plot(history.history['val_loss'])\n",
    "plt.title('model loss')\n",
    "plt.ylabel('loss')\n",
    "plt.xlabel('epoch')\n",
    "plt.legend(['train loss', 'val loss'], loc='center left')\n",
    "plt.show()\n"
   ]
  },
  {
   "cell_type": "code",
   "execution_count": 24,
   "metadata": {},
   "outputs": [
    {
     "name": "stderr",
     "output_type": "stream",
     "text": [
      "2022-02-14 00:26:00 - INFO   -   MSDS-680 - Accuracy: 96.95%.  Precision: 97.89%.  Recall: 95.88%.  F1 Score: 96.88%\n"
     ]
    },
    {
     "data": {
      "text/plain": [
       "<sklearn.metrics._plot.confusion_matrix.ConfusionMatrixDisplay at 0x7f585436f040>"
      ]
     },
     "execution_count": 24,
     "metadata": {},
     "output_type": "execute_result"
    },
    {
     "data": {
      "image/png": "[encoded data removed]",
      "text/plain": [
       "<Figure size 432x288 with 1 Axes>"
      ]
     },
     "metadata": {
      "needs_background": "light"
     },
     "output_type": "display_data"
    }
   ],
   "source": [
    "hypery_balanced_pred = hypermodel.predict(Xt_balanced_test).flatten()\n",
    "hypery_balanced_pred = np.where(hypery_balanced_pred >= 0.5, 1, 0)\n",
    "\n",
    "# Print performance metrics\n",
    "accuracy    = sklearn.metrics.accuracy_score(y_balanced_test, hypery_balanced_pred)\n",
    "precision   = sklearn.metrics.precision_score(y_balanced_test, hypery_balanced_pred)\n",
    "recall      = sklearn.metrics.recall_score(y_balanced_test, hypery_balanced_pred)\n",
    "f1          = sklearn.metrics.f1_score(y_balanced_test, hypery_balanced_pred)\n",
    "\n",
    "\n",
    "LOGGER.info(f'Accuracy: {accuracy:.2%}.  Precision: {precision:.2%}.  Recall: {recall:.2%}.  F1 Score: {f1:.2%}')\n",
    "\n",
    "# Display the confusion matrix\n",
    "sklearn.metrics.ConfusionMatrixDisplay.from_predictions(y_balanced_test, y_pred=hypery_balanced_pred, colorbar=False, display_labels=['Legit', 'Fraud'])\n"
   ]
  },
  {
   "cell_type": "markdown",
   "metadata": {},
   "source": [
    "# 4 Conclusion\n",
    "\n",
    "On this particular run, the Keras neural network recall score exceeded the\n",
    "MLPClassifier.  However, results have differed from run to run, indicating\n",
    "that there are one or more places where RANDOM_SEED should be used in\n",
    "order to produce consistent results.\n",
    "\n",
    "# References\n",
    "\n",
    "Kaggle.com (n.d.).  Credit card fraud detection.  Retrieved from https://www.kaggle.com/mlg-ulb/creditcardfraud/\n",
    "\n",
    "Scikit-Learn.org (n.d. a)  MLPClassifier.  Retrieved from https://scikit-learn.org/stable/modules/generated/sklearn.neural_network.MLPClassifier.html?highlight=mlpclassifier#sklearn.neural_network.MLPClassifier\n",
    "\n",
    "Scikit-Learn.org (n.d. b)  Neural network models (supervised).  Retrieved from https://scikit-learn.org/stable/modules/neural_networks_supervised.html\n",
    "\n",
    "Valkov, V. (2017, June).  Credit Card Fraud Detection using Autoencoders in Keras — TensorFlow for Hackers (Part VII)  Retrieved from https://medium.com/@curiousily/credit-card-fraud-detection-using-autoencoders-in-keras-tensorflow-for-hackers-part-vii-20e0c85301bd"
   ]
  }
 ],
 "metadata": {
  "kernelspec": {
   "display_name": "Python 3 (ipykernel)",
   "language": "python",
   "name": "python3"
  }
 },
 "nbformat": 4,
 "nbformat_minor": 4
}
