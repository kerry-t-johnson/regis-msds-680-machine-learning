{
 "cells": [
  {
   "cell_type": "code",
   "execution_count": 1,
   "metadata": {},
   "outputs": [],
   "source": [
    "import pandas as pd\n",
    "import numpy as np\n",
    "\n",
    "import matplotlib.pyplot as plt\n",
    "%matplotlib inline\n",
    "import seaborn as sns\n",
    "\n",
    "from sklearn.model_selection import train_test_split\n",
    "\n",
    "import warnings\n",
    "warnings.filterwarnings(\"ignore\")"
   ]
  },
  {
   "cell_type": "code",
   "execution_count": 3,
   "metadata": {},
   "outputs": [],
   "source": [
    "# Assign colum names to the dataset\n",
    "names = ['sample', 'thickness', 'uc_size', 'uc_shape', 'adhesion', 'epithelial', 'bare_nuclei',\n",
    "         'chromatin', 'norm_nucleoli','mitoses','outcome']\n",
    "\n",
    "# Read dataset to pandas dataframe\n",
    "cancer = pd.read_csv('data/breast-cancer-wisconsin.data', names=names) "
   ]
  },
  {
   "cell_type": "code",
   "execution_count": 4,
   "metadata": {},
   "outputs": [],
   "source": [
    "cancer.drop('sample', axis=1, inplace=True)\n"
   ]
  },
  {
   "cell_type": "code",
   "execution_count": 5,
   "metadata": {},
   "outputs": [],
   "source": [
    "cancer.bare_nuclei.replace('?',1,inplace=True)\n"
   ]
  },
  {
   "cell_type": "code",
   "execution_count": 6,
   "metadata": {},
   "outputs": [],
   "source": [
    "cancer.bare_nuclei = cancer.bare_nuclei.astype(int)\n"
   ]
  },
  {
   "cell_type": "code",
   "execution_count": 7,
   "metadata": {},
   "outputs": [],
   "source": [
    "# replace 2 -> 0 (meaning benign), 4 -> 1 (meaning maligant)\n",
    "cancer.outcome.replace(2,0,inplace=True)\n",
    "cancer.outcome.replace(4,1,inplace=True)"
   ]
  },
  {
   "cell_type": "code",
   "execution_count": 8,
   "metadata": {},
   "outputs": [],
   "source": [
    "#gather up names of all the columns\n",
    "cols = cancer.columns\n",
    "\n",
    "#set the prediction column and the feature columns for KNN\n",
    "prediction_col = 'outcome'\n",
    "feature_cols = [c for c in cols if c != prediction_col]\n",
    "\n",
    "x = cancer[feature_cols].values\n",
    "y = cancer[prediction_col].values\n",
    "\n",
    "#split the dataset into the train and test data\n",
    "x_train, x_test, y_train, y_test = train_test_split(x, y, test_size=0.3, random_state=41)"
   ]
  },
  {
   "cell_type": "code",
   "execution_count": 9,
   "metadata": {},
   "outputs": [],
   "source": [
    "from sklearn.linear_model import LogisticRegression\n",
    "\n",
    "model = LogisticRegression()\n",
    "model.fit(x_train, y_train)\n",
    "\n",
    "#gathering the predictions\n",
    "preds = model.predict(x_test)"
   ]
  },
  {
   "cell_type": "code",
   "execution_count": 10,
   "metadata": {},
   "outputs": [
    {
     "name": "stdout",
     "output_type": "stream",
     "text": [
      "0.970183738585103\n"
     ]
    }
   ],
   "source": [
    "from sklearn.metrics import roc_auc_score\n",
    "\n",
    "print(roc_auc_score(y_test, preds))"
   ]
  },
  {
   "cell_type": "code",
   "execution_count": 19,
   "metadata": {},
   "outputs": [
    {
     "name": "stdout",
     "output_type": "stream",
     "text": [
      "Logistic regration prediction shape: (489, 2)\n",
      "Logistic regration score shape: (489,)\n",
      "0.9991246816950732\n",
      "0.9945717027321445\n",
      "0.003597263343754587\n",
      "0.9999629764241311\n",
      "0.9999922456067712\n"
     ]
    }
   ],
   "source": [
    "from sklearn.model_selection import cross_val_score, cross_val_predict\n",
    "\n",
    "lr_proba = cross_val_predict(model, x_train, y_train, cv=3, method='predict_proba')\n",
    "lr_scores = lr_proba[:, 1]\n",
    "print(f'Logistic regration prediction shape: {lr_proba.shape}')\n",
    "print(f'Logistic regration score shape: {lr_scores.shape}')\n",
    "\n",
    "for i in range(5):\n",
    "    print(lr_scores[i])"
   ]
  },
  {
   "cell_type": "code",
   "execution_count": 21,
   "metadata": {},
   "outputs": [],
   "source": [
    "def ROC_Curve(title, y_train, scores, label=None):\n",
    "    from sklearn.metrics import roc_curve\n",
    "    \n",
    "    \n",
    "    # calculate the ROC score\n",
    "    fpr, tpr, thresholds = roc_curve(y_train, scores)\n",
    "    print('AUC Score ({}): {:.2f} '.format(title, roc_auc_score(y_train, scores)))\n",
    "    \n",
    "    # plot the ROC curve\n",
    "    plt.figure(figsize=(8,6))\n",
    "    plt.plot(fpr, tpr, linewidth=2, label=label, color='b')\n",
    "    plt.xlabel('False Positive Rate', fontsize=16)\n",
    "    plt.ylabel('True Positive Rate', fontsize=16)\n",
    "    plt.title('ROC Curve: {}'.format(title), fontsize=16)\n",
    "    plt.show()\n",
    "    print(thresholds)"
   ]
  },
  {
   "cell_type": "code",
   "execution_count": 22,
   "metadata": {},
   "outputs": [
    {
     "name": "stdout",
     "output_type": "stream",
     "text": [
      "AUC Score (Wisconsin Breat Cancer Demo): 0.99 \n"
     ]
    },
    {
     "data": {
      "image/png": "[encoded data removed]",
      "text/plain": [
       "<Figure size 576x432 with 1 Axes>"
      ]
     },
     "metadata": {
      "needs_background": "light"
     },
     "output_type": "display_data"
    },
    {
     "name": "stdout",
     "output_type": "stream",
     "text": [
      "[1.99999995e+00 9.99999954e-01 9.98027743e-01 9.97964815e-01\n",
      " 9.97936566e-01 9.97870867e-01 9.89539462e-01 9.87522400e-01\n",
      " 9.00003722e-01 8.98304225e-01 8.97136500e-01 8.92766894e-01\n",
      " 7.74567658e-01 6.56496474e-01 5.65718913e-01 5.59053765e-01\n",
      " 4.48247012e-01 4.14974863e-01 2.51000001e-01 2.46825051e-01\n",
      " 2.22363679e-01 9.44475172e-02 8.88819795e-02 8.41044781e-02\n",
      " 8.27430620e-02 7.31069884e-02 5.63979662e-02 2.03221724e-02\n",
      " 1.96198524e-02 1.60085832e-02 1.58299052e-02 1.46665826e-02\n",
      " 1.38605192e-02 1.32853198e-02 1.30553078e-02 1.04072044e-02\n",
      " 1.03058466e-02 1.00978396e-02 9.91007861e-03 9.67030658e-03\n",
      " 9.32547563e-03 8.18141164e-03 8.16447509e-03 7.71559157e-03\n",
      " 7.51681357e-03 7.31896729e-03 7.30713635e-03 6.95716794e-03\n",
      " 6.92015350e-03 6.84350468e-03 6.79960047e-03 6.79902110e-03\n",
      " 6.47936008e-03 6.19013433e-03 6.11898933e-03 5.79581143e-03\n",
      " 5.59879160e-03 5.34825284e-03 5.17640244e-03 5.09640484e-03\n",
      " 4.98690277e-03 4.95361023e-03 4.91049788e-03 4.90170517e-03\n",
      " 4.75938231e-03 4.64151731e-03 4.54731043e-03 4.22153740e-03\n",
      " 4.05199821e-03 3.86109938e-03 3.68794126e-03 3.59726334e-03\n",
      " 3.33221579e-03 3.23737114e-03 3.23412286e-03 3.17756930e-03\n",
      " 3.11082960e-03 3.07355001e-03 3.04759531e-03 2.89063740e-03\n",
      " 2.88554023e-03 2.72411095e-03 2.66128985e-03 2.64240631e-03\n",
      " 2.61859203e-03 2.60849878e-03 2.54555386e-03 2.51326551e-03\n",
      " 2.40624095e-03 2.37298184e-03 2.32471092e-03 2.26645069e-03\n",
      " 2.23082788e-03 2.20101016e-03 2.10331332e-03 2.08387793e-03\n",
      " 1.90566877e-03 1.82180391e-03 1.64465822e-03 1.62330330e-03\n",
      " 1.22186572e-03 1.19657463e-03 1.18103093e-03 9.80839844e-04\n",
      " 8.70464010e-04 8.12881964e-04]\n"
     ]
    }
   ],
   "source": [
    "ROC_Curve('Wisconsin Breat Cancer Demo',y_train,lr_scores)\n"
   ]
  },
  {
   "cell_type": "code",
   "execution_count": null,
   "metadata": {},
   "outputs": [],
   "source": []
  }
 ],
 "metadata": {
  "kernelspec": {
   "display_name": "Python 3 (ipykernel)",
   "language": "python",
   "name": "python3"
  },
  "language_info": {
   "codemirror_mode": {
    "name": "ipython",
    "version": 3
   },
   "file_extension": ".py",
   "mimetype": "text/x-python",
   "name": "python",
   "nbconvert_exporter": "python",
   "pygments_lexer": "ipython3",
   "version": "3.9.7"
  },
  "orig_nbformat": 4
 },
 "nbformat": 4,
 "nbformat_minor": 2
}
