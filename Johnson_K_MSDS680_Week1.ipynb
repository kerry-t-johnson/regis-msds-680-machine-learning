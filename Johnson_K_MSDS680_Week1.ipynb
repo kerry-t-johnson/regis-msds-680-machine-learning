{
 "cells": [
  {
   "cell_type": "markdown",
   "metadata": {},
   "source": [
    "# Johnson - Week 1: Introduction to Machine Learning\n",
    "\n",
    "**Objectives:**\n",
    "* Impute missing data (don’t just throw it away)\n",
    "* Look at the data with EDA\n",
    "* Drop unnecessary columns, if needed, and defend your decision to do so.\n",
    "* Deal with outliers (maybe make a boxplot)\n",
    "* Provide a brief summary of how you prepared your data for future analysis.\n",
    "\n",
    "---\n",
    "\n",
    "# 1 Setup\n",
    "\n",
    "## 1.A Sanity Check of Provided Data File\n",
    "\n",
    "Prior to importing any data, we perform a few checks against the file:\n",
    "* What is the approximate size of the file (will our current configuration\n",
    "  support the given quantity of data)?\n",
    "* What is the content of the file and does it use the correct line endings?\n",
    "* How many rows (lines) are in the file (can be used to double-check that\n",
    "  the full dataset is loaded by Pandas)?\n",
    "* Does the data have a header row?\n"
   ]
  },
  {
   "cell_type": "code",
   "execution_count": 1,
   "metadata": {},
   "outputs": [
    {
     "name": "stdout",
     "output_type": "stream",
     "text": [
      "assign_wk1/heart.disease.data:\n",
      "    Data file size:      12K\n",
      "    Data file type:      CSV text\n",
      "    Number of lines:     283\n",
      "    Data header row?     age,sex,cp,trestbps,chol,cigs,years,fbs,dm,famhist,restecg,thalach,exang,thal,num\n"
     ]
    }
   ],
   "source": [
    "%%bash\n",
    "declare -a DATA_FILES=(\"assign_wk1/heart.disease.data\")\n",
    "\n",
    "for FILE in \"${DATA_FILES[@]}\"; do\n",
    "    if [ -f \"${FILE}\" ] ; then\n",
    "        echo \"${FILE}:\"\n",
    "        echo \"    Data file size:      $(du -h ${FILE} | awk '{print $1;}')\"\n",
    "        echo \"    Data file type:      $(file --brief ${FILE})\"\n",
    "        echo \"    Number of lines:     $(wc -l ${FILE} | awk '{print $1;}')\"\n",
    "        echo \"    Data header row?     $(head -n 1 ${FILE})\"\n",
    "    else\n",
    "        echo \"${FILE}: NOT FOUND\"\n",
    "    fi\n",
    "done"
   ]
  },
  {
   "cell_type": "markdown",
   "metadata": {},
   "source": [
    "## 1.B Python/Jupyter Setup\n",
    "\n",
    "We organize the imports at the begining of the notebook, similar to a\n",
    "\"traditional\" Python file.  This is a personal preference.\n",
    "\n",
    "Furthermore, we prefer the Python `logging` module over \"raw\" print statements\n",
    "to stdout."
   ]
  },
  {
   "cell_type": "code",
   "execution_count": 2,
   "metadata": {},
   "outputs": [],
   "source": [
    "import logging\n",
    "import matplotlib.pyplot as plt\n",
    "import numpy as np\n",
    "import pandas as pd\n",
    "import seaborn as sns\n",
    "import sklearn.impute\n",
    "\n",
    "# Activate the 'inline' backend such that plots are displayed directly\n",
    "# after the cell containing the plot command\n",
    "%matplotlib inline\n",
    "\n",
    "# Display up to 100 rows\n",
    "pd.set_option('max_row', 100)\n",
    "\n",
    "# Set up logging ... INFO or DEBUG for my code, WARNING for libraries\n",
    "logging.basicConfig(format='%(asctime)s - %(levelname)-6s - %(name)10s - %(message)s',\n",
    "                    datefmt='%Y-%m-%d %H:%M:%S',\n",
    "                    level=logging.INFO)\n",
    "\n",
    "LOGGER = logging.getLogger('MSDS-680')\n"
   ]
  },
  {
   "cell_type": "markdown",
   "metadata": {},
   "source": [
    "## 1.C Import the Data\n",
    "\n",
    "* Recall from **1.A** that the file has 283 lines, so we expect\n",
    "  `df_rows = 283 - 1 = 282` (because we also know the file contains a header\n",
    "  row)\n",
    "* Also from **1.A**, we know that there are `15` columns, based on the number\n",
    "  of labels in the header row\n"
   ]
  },
  {
   "cell_type": "code",
   "execution_count": 3,
   "metadata": {},
   "outputs": [
    {
     "name": "stderr",
     "output_type": "stream",
     "text": [
      "2022-01-19 00:08:53 - INFO   -   MSDS-680 - heart_disease_df.shape ==> 282 x 15 (rows x cols)\n",
      "2022-01-19 00:08:53 - INFO   -   MSDS-680 - First 5 rows of heart_disease_df:\n"
     ]
    },
    {
     "data": {
      "text/html": [
       "<div>\n",
       "<style scoped>\n",
       "    .dataframe tbody tr th:only-of-type {\n",
       "        vertical-align: middle;\n",
       "    }\n",
       "\n",
       "    .dataframe tbody tr th {\n",
       "        vertical-align: top;\n",
       "    }\n",
       "\n",
       "    .dataframe thead th {\n",
       "        text-align: right;\n",
       "    }\n",
       "</style>\n",
       "<table border=\"1\" class=\"dataframe\">\n",
       "  <thead>\n",
       "    <tr style=\"text-align: right;\">\n",
       "      <th></th>\n",
       "      <th>age</th>\n",
       "      <th>sex</th>\n",
       "      <th>cp</th>\n",
       "      <th>trestbps</th>\n",
       "      <th>chol</th>\n",
       "      <th>cigs</th>\n",
       "      <th>years</th>\n",
       "      <th>fbs</th>\n",
       "      <th>dm</th>\n",
       "      <th>famhist</th>\n",
       "      <th>restecg</th>\n",
       "      <th>thalach</th>\n",
       "      <th>exang</th>\n",
       "      <th>thal</th>\n",
       "      <th>num</th>\n",
       "    </tr>\n",
       "  </thead>\n",
       "  <tbody>\n",
       "    <tr>\n",
       "      <th>0</th>\n",
       "      <td>63</td>\n",
       "      <td>1</td>\n",
       "      <td>1</td>\n",
       "      <td>145</td>\n",
       "      <td>233</td>\n",
       "      <td>50</td>\n",
       "      <td>20</td>\n",
       "      <td>1</td>\n",
       "      <td>-9</td>\n",
       "      <td>1</td>\n",
       "      <td>2</td>\n",
       "      <td>150</td>\n",
       "      <td>0</td>\n",
       "      <td>6</td>\n",
       "      <td>0</td>\n",
       "    </tr>\n",
       "    <tr>\n",
       "      <th>1</th>\n",
       "      <td>67</td>\n",
       "      <td>1</td>\n",
       "      <td>4</td>\n",
       "      <td>160</td>\n",
       "      <td>286</td>\n",
       "      <td>40</td>\n",
       "      <td>40</td>\n",
       "      <td>0</td>\n",
       "      <td>-9</td>\n",
       "      <td>1</td>\n",
       "      <td>2</td>\n",
       "      <td>108</td>\n",
       "      <td>1</td>\n",
       "      <td>3</td>\n",
       "      <td>2</td>\n",
       "    </tr>\n",
       "    <tr>\n",
       "      <th>2</th>\n",
       "      <td>67</td>\n",
       "      <td>1</td>\n",
       "      <td>4</td>\n",
       "      <td>120</td>\n",
       "      <td>229</td>\n",
       "      <td>20</td>\n",
       "      <td>35</td>\n",
       "      <td>0</td>\n",
       "      <td>-9</td>\n",
       "      <td>1</td>\n",
       "      <td>2</td>\n",
       "      <td>129</td>\n",
       "      <td>1</td>\n",
       "      <td>7</td>\n",
       "      <td>1</td>\n",
       "    </tr>\n",
       "    <tr>\n",
       "      <th>3</th>\n",
       "      <td>37</td>\n",
       "      <td>1</td>\n",
       "      <td>3</td>\n",
       "      <td>130</td>\n",
       "      <td>250</td>\n",
       "      <td>0</td>\n",
       "      <td>0</td>\n",
       "      <td>0</td>\n",
       "      <td>-9</td>\n",
       "      <td>1</td>\n",
       "      <td>0</td>\n",
       "      <td>187</td>\n",
       "      <td>0</td>\n",
       "      <td>3</td>\n",
       "      <td>0</td>\n",
       "    </tr>\n",
       "    <tr>\n",
       "      <th>4</th>\n",
       "      <td>41</td>\n",
       "      <td>0</td>\n",
       "      <td>2</td>\n",
       "      <td>130</td>\n",
       "      <td>204</td>\n",
       "      <td>0</td>\n",
       "      <td>0</td>\n",
       "      <td>0</td>\n",
       "      <td>-9</td>\n",
       "      <td>1</td>\n",
       "      <td>2</td>\n",
       "      <td>172</td>\n",
       "      <td>0</td>\n",
       "      <td>3</td>\n",
       "      <td>0</td>\n",
       "    </tr>\n",
       "  </tbody>\n",
       "</table>\n",
       "</div>"
      ],
      "text/plain": [
       "   age  sex  cp  trestbps  chol  cigs  years  fbs  dm  famhist  restecg  \\\n",
       "0   63    1   1       145   233    50     20    1  -9        1        2   \n",
       "1   67    1   4       160   286    40     40    0  -9        1        2   \n",
       "2   67    1   4       120   229    20     35    0  -9        1        2   \n",
       "3   37    1   3       130   250     0      0    0  -9        1        0   \n",
       "4   41    0   2       130   204     0      0    0  -9        1        2   \n",
       "\n",
       "   thalach  exang  thal  num  \n",
       "0      150      0     6    0  \n",
       "1      108      1     3    2  \n",
       "2      129      1     7    1  \n",
       "3      187      0     3    0  \n",
       "4      172      0     3    0  "
      ]
     },
     "execution_count": 3,
     "metadata": {},
     "output_type": "execute_result"
    }
   ],
   "source": [
    "# Load the file into a Pandas data frame (df)\n",
    "heart_disease_df = pd.read_csv('assign_wk1/heart.disease.data')\n",
    "\n",
    "# Verify the loaded file\n",
    "df_rows, df_cols = heart_disease_df.shape\n",
    "LOGGER.info(f'heart_disease_df.shape ==> {df_rows} x {df_cols} (rows x cols)')\n",
    "\n",
    "LOGGER.info(f'First 5 rows of heart_disease_df:')\n",
    "heart_disease_df.head()"
   ]
  },
  {
   "cell_type": "markdown",
   "metadata": {},
   "source": [
    "## 1.D Setup Conclusion\n",
    "\n",
    "The data file is successfully imported into a Pandas data frame.  We know that\n",
    "we've loaded every line and we have the correct number of columns.\n",
    "\n",
    "Beyond that, though, we cannot assume the accuracy of the content until we\n",
    "perform EDA (which we are now ready for).\n",
    "\n",
    "# 2 Exploratory Data Analysis\n",
    "\n",
    "## 2.A Dataset Documentation\n",
    "\n",
    "(UC Irvine Machine Learning Repository, 1988)\n",
    "\n",
    "**Features**:\n",
    "\n",
    "| Column name   | Description                                               | Type              |\n",
    "|---------------|-----------------------------------------------------------|-------------------|\n",
    "| *age*         | age in years                                              | continuous        |\n",
    "| *sex*         |                                                           | categorical $^1$  |\n",
    "| *cp*          | chest pain type                                           | categorical $^2$  |\n",
    "| *trestbps*    | resting blood pressure (in mm Hg)                         | continuous        |\n",
    "| *chol*        | serum cholestoral in mg/dl                                | continuous        |\n",
    "| *cigs*        | cigarettes per day                                        | continuous        |\n",
    "| *years*       | number of years as a smoker                               | continuous        |\n",
    "| *fbs*         | fasting blood sugar > 120 mg/dl                           | categorical $^3$  |\n",
    "| *dm*          | history of diabetes                                       | categorical $^3$  |\n",
    "| *famhist*     | family history of coronary artery disease                 | categorical $^3$  |\n",
    "| *restecg*     | resting electrocardiographic results                      | categorical $^4$  |\n",
    "| *thalach*     | maximum heart rate achieved                               | continuous        |\n",
    "| *exang*       | exercise induced angina                                   | categorical $^3$  |\n",
    "| *thal*        | Thalium Stress Test $^5$                                  | categorical $^6$  |\n",
    "| ***num***     | diagnosis of heart disease (angiographic disease status)  | categorical $^7$  |\n",
    "\n",
    "NOTES:\n",
    "1. *sex* values:\n",
    "   * `0`: female\n",
    "   * `1`: male\n",
    "2. *cp* values:\n",
    "   * `1`: typical angina\n",
    "   * `2`: atypical angina\n",
    "   * `3`: non-anginal pain\n",
    "   * `4`: asymptomatic\n",
    "3. Boolean values (*fbs*, *dm*, *famhist*, *exang*)\n",
    "   * `1` = yes/true\n",
    "   * `0` = no/false\n",
    "4. *restecg* values\n",
    "   * `0`: normal\n",
    "   * `1`: having ST-T wave abnormality (T wave inversions and/or ST elevation or depression of > 0.05 mV)\n",
    "   * `2`: showing probable or definite left ventricular hypertrophy by Estes' criteria\n",
    "5. Assumed, based on a Google search :)\n",
    "6. *thal* values\n",
    "   * `3` = normal\n",
    "   * `6` = fixed defect\n",
    "   * `7` = reversable defect\n",
    "7. *num* values\n",
    "   * `0 - 4`\n",
    "\n",
    "**NOTE**:  There is a discrepancy in the documentation (UC Irvine Machine\n",
    "           Learning Repository, 1988) where one section describes *num* as\n",
    "           having two possible values and another section describes it as an\n",
    "           integer valued from 0 (no presence) to 4.  Clearly, the loaded data\n",
    "           ranges from `0 - 4`.\n",
    "\n",
    "## 2.B Data Frame Overview\n",
    "\n",
    "### 2.B.1 Data Frame Overview - Information\n",
    "\n",
    "Based on the above column descriptions, we expect numeric content only (no\n",
    "objects/strings).  `info()` will also tell us if there are any null values:"
   ]
  },
  {
   "cell_type": "code",
   "execution_count": 4,
   "metadata": {},
   "outputs": [
    {
     "name": "stdout",
     "output_type": "stream",
     "text": [
      "<class 'pandas.core.frame.DataFrame'>\n",
      "RangeIndex: 282 entries, 0 to 281\n",
      "Data columns (total 15 columns):\n",
      " #   Column    Non-Null Count  Dtype\n",
      "---  ------    --------------  -----\n",
      " 0   age       282 non-null    int64\n",
      " 1   sex       282 non-null    int64\n",
      " 2   cp        282 non-null    int64\n",
      " 3   trestbps  282 non-null    int64\n",
      " 4   chol      282 non-null    int64\n",
      " 5   cigs      282 non-null    int64\n",
      " 6   years     282 non-null    int64\n",
      " 7   fbs       282 non-null    int64\n",
      " 8   dm        282 non-null    int64\n",
      " 9   famhist   282 non-null    int64\n",
      " 10  restecg   282 non-null    int64\n",
      " 11  thalach   282 non-null    int64\n",
      " 12  exang     282 non-null    int64\n",
      " 13  thal      282 non-null    int64\n",
      " 14  num       282 non-null    int64\n",
      "dtypes: int64(15)\n",
      "memory usage: 33.2 KB\n"
     ]
    }
   ],
   "source": [
    "heart_disease_df.info()"
   ]
  },
  {
   "cell_type": "markdown",
   "metadata": {},
   "source": [
    "### 2.B.2 Data Frame Overview - Statistical Description\n",
    "\n",
    "In the assignment, we were given a hint that a value of `-9` indicates a missing\n",
    "measurement.  Let's see if we can prove this without the benefit of the hint..."
   ]
  },
  {
   "cell_type": "code",
   "execution_count": 5,
   "metadata": {},
   "outputs": [
    {
     "data": {
      "text/html": [
       "<div>\n",
       "<style scoped>\n",
       "    .dataframe tbody tr th:only-of-type {\n",
       "        vertical-align: middle;\n",
       "    }\n",
       "\n",
       "    .dataframe tbody tr th {\n",
       "        vertical-align: top;\n",
       "    }\n",
       "\n",
       "    .dataframe thead th {\n",
       "        text-align: right;\n",
       "    }\n",
       "</style>\n",
       "<table border=\"1\" class=\"dataframe\">\n",
       "  <thead>\n",
       "    <tr style=\"text-align: right;\">\n",
       "      <th></th>\n",
       "      <th>age</th>\n",
       "      <th>sex</th>\n",
       "      <th>cp</th>\n",
       "      <th>trestbps</th>\n",
       "      <th>chol</th>\n",
       "      <th>cigs</th>\n",
       "      <th>years</th>\n",
       "      <th>fbs</th>\n",
       "      <th>dm</th>\n",
       "      <th>famhist</th>\n",
       "      <th>restecg</th>\n",
       "      <th>thalach</th>\n",
       "      <th>exang</th>\n",
       "      <th>thal</th>\n",
       "      <th>num</th>\n",
       "    </tr>\n",
       "  </thead>\n",
       "  <tbody>\n",
       "    <tr>\n",
       "      <th>count</th>\n",
       "      <td>282.000000</td>\n",
       "      <td>282.000000</td>\n",
       "      <td>282.000000</td>\n",
       "      <td>282.000000</td>\n",
       "      <td>282.000000</td>\n",
       "      <td>282.000000</td>\n",
       "      <td>282.000000</td>\n",
       "      <td>282.000000</td>\n",
       "      <td>282.000000</td>\n",
       "      <td>282.000000</td>\n",
       "      <td>282.000000</td>\n",
       "      <td>282.000000</td>\n",
       "      <td>282.000000</td>\n",
       "      <td>282.000000</td>\n",
       "      <td>282.000000</td>\n",
       "    </tr>\n",
       "    <tr>\n",
       "      <th>mean</th>\n",
       "      <td>54.411348</td>\n",
       "      <td>0.677305</td>\n",
       "      <td>3.163121</td>\n",
       "      <td>131.563830</td>\n",
       "      <td>249.092199</td>\n",
       "      <td>16.460993</td>\n",
       "      <td>14.829787</td>\n",
       "      <td>0.148936</td>\n",
       "      <td>-8.184397</td>\n",
       "      <td>0.620567</td>\n",
       "      <td>1.014184</td>\n",
       "      <td>149.765957</td>\n",
       "      <td>0.326241</td>\n",
       "      <td>4.581560</td>\n",
       "      <td>0.907801</td>\n",
       "    </tr>\n",
       "    <tr>\n",
       "      <th>std</th>\n",
       "      <td>9.053083</td>\n",
       "      <td>0.468338</td>\n",
       "      <td>0.955405</td>\n",
       "      <td>17.757496</td>\n",
       "      <td>51.217546</td>\n",
       "      <td>19.580300</td>\n",
       "      <td>15.564563</td>\n",
       "      <td>0.356658</td>\n",
       "      <td>2.741802</td>\n",
       "      <td>0.486108</td>\n",
       "      <td>0.998118</td>\n",
       "      <td>22.923869</td>\n",
       "      <td>0.469670</td>\n",
       "      <td>2.248467</td>\n",
       "      <td>1.224894</td>\n",
       "    </tr>\n",
       "    <tr>\n",
       "      <th>min</th>\n",
       "      <td>29.000000</td>\n",
       "      <td>0.000000</td>\n",
       "      <td>1.000000</td>\n",
       "      <td>94.000000</td>\n",
       "      <td>126.000000</td>\n",
       "      <td>-9.000000</td>\n",
       "      <td>-9.000000</td>\n",
       "      <td>0.000000</td>\n",
       "      <td>-9.000000</td>\n",
       "      <td>0.000000</td>\n",
       "      <td>0.000000</td>\n",
       "      <td>71.000000</td>\n",
       "      <td>0.000000</td>\n",
       "      <td>-9.000000</td>\n",
       "      <td>0.000000</td>\n",
       "    </tr>\n",
       "    <tr>\n",
       "      <th>25%</th>\n",
       "      <td>48.000000</td>\n",
       "      <td>0.000000</td>\n",
       "      <td>3.000000</td>\n",
       "      <td>120.000000</td>\n",
       "      <td>213.000000</td>\n",
       "      <td>0.000000</td>\n",
       "      <td>0.000000</td>\n",
       "      <td>0.000000</td>\n",
       "      <td>-9.000000</td>\n",
       "      <td>0.000000</td>\n",
       "      <td>0.000000</td>\n",
       "      <td>133.250000</td>\n",
       "      <td>0.000000</td>\n",
       "      <td>3.000000</td>\n",
       "      <td>0.000000</td>\n",
       "    </tr>\n",
       "    <tr>\n",
       "      <th>50%</th>\n",
       "      <td>55.000000</td>\n",
       "      <td>1.000000</td>\n",
       "      <td>3.000000</td>\n",
       "      <td>130.000000</td>\n",
       "      <td>244.000000</td>\n",
       "      <td>10.000000</td>\n",
       "      <td>15.000000</td>\n",
       "      <td>0.000000</td>\n",
       "      <td>-9.000000</td>\n",
       "      <td>1.000000</td>\n",
       "      <td>2.000000</td>\n",
       "      <td>153.500000</td>\n",
       "      <td>0.000000</td>\n",
       "      <td>3.000000</td>\n",
       "      <td>0.000000</td>\n",
       "    </tr>\n",
       "    <tr>\n",
       "      <th>75%</th>\n",
       "      <td>61.000000</td>\n",
       "      <td>1.000000</td>\n",
       "      <td>4.000000</td>\n",
       "      <td>140.000000</td>\n",
       "      <td>277.000000</td>\n",
       "      <td>30.000000</td>\n",
       "      <td>30.000000</td>\n",
       "      <td>0.000000</td>\n",
       "      <td>-9.000000</td>\n",
       "      <td>1.000000</td>\n",
       "      <td>2.000000</td>\n",
       "      <td>165.750000</td>\n",
       "      <td>1.000000</td>\n",
       "      <td>7.000000</td>\n",
       "      <td>2.000000</td>\n",
       "    </tr>\n",
       "    <tr>\n",
       "      <th>max</th>\n",
       "      <td>77.000000</td>\n",
       "      <td>1.000000</td>\n",
       "      <td>4.000000</td>\n",
       "      <td>200.000000</td>\n",
       "      <td>564.000000</td>\n",
       "      <td>99.000000</td>\n",
       "      <td>54.000000</td>\n",
       "      <td>1.000000</td>\n",
       "      <td>1.000000</td>\n",
       "      <td>1.000000</td>\n",
       "      <td>2.000000</td>\n",
       "      <td>202.000000</td>\n",
       "      <td>1.000000</td>\n",
       "      <td>7.000000</td>\n",
       "      <td>4.000000</td>\n",
       "    </tr>\n",
       "  </tbody>\n",
       "</table>\n",
       "</div>"
      ],
      "text/plain": [
       "              age         sex          cp    trestbps        chol        cigs  \\\n",
       "count  282.000000  282.000000  282.000000  282.000000  282.000000  282.000000   \n",
       "mean    54.411348    0.677305    3.163121  131.563830  249.092199   16.460993   \n",
       "std      9.053083    0.468338    0.955405   17.757496   51.217546   19.580300   \n",
       "min     29.000000    0.000000    1.000000   94.000000  126.000000   -9.000000   \n",
       "25%     48.000000    0.000000    3.000000  120.000000  213.000000    0.000000   \n",
       "50%     55.000000    1.000000    3.000000  130.000000  244.000000   10.000000   \n",
       "75%     61.000000    1.000000    4.000000  140.000000  277.000000   30.000000   \n",
       "max     77.000000    1.000000    4.000000  200.000000  564.000000   99.000000   \n",
       "\n",
       "            years         fbs          dm     famhist     restecg     thalach  \\\n",
       "count  282.000000  282.000000  282.000000  282.000000  282.000000  282.000000   \n",
       "mean    14.829787    0.148936   -8.184397    0.620567    1.014184  149.765957   \n",
       "std     15.564563    0.356658    2.741802    0.486108    0.998118   22.923869   \n",
       "min     -9.000000    0.000000   -9.000000    0.000000    0.000000   71.000000   \n",
       "25%      0.000000    0.000000   -9.000000    0.000000    0.000000  133.250000   \n",
       "50%     15.000000    0.000000   -9.000000    1.000000    2.000000  153.500000   \n",
       "75%     30.000000    0.000000   -9.000000    1.000000    2.000000  165.750000   \n",
       "max     54.000000    1.000000    1.000000    1.000000    2.000000  202.000000   \n",
       "\n",
       "            exang        thal         num  \n",
       "count  282.000000  282.000000  282.000000  \n",
       "mean     0.326241    4.581560    0.907801  \n",
       "std      0.469670    2.248467    1.224894  \n",
       "min      0.000000   -9.000000    0.000000  \n",
       "25%      0.000000    3.000000    0.000000  \n",
       "50%      0.000000    3.000000    0.000000  \n",
       "75%      1.000000    7.000000    2.000000  \n",
       "max      1.000000    7.000000    4.000000  "
      ]
     },
     "execution_count": 5,
     "metadata": {},
     "output_type": "execute_result"
    }
   ],
   "source": [
    "heart_disease_df.describe()"
   ]
  },
  {
   "cell_type": "markdown",
   "metadata": {},
   "source": [
    "We see the minimum value for several columns are negative: *cigs*, *years*,\n",
    "*dm*, and *thal*.  Based on the column descriptions, we don't expect any\n",
    "negatives (e.g., it's meaningless to have smoked cigarrettes for `-9` years!).\n",
    "Therefore, `-9` is clearly an error.  But, is it deliberately used as a\n",
    "'marker' for missing values?  Let's see if there are other negative values,\n",
    "which *might* indicate a different kind of data entry error:"
   ]
  },
  {
   "cell_type": "code",
   "execution_count": 6,
   "metadata": {},
   "outputs": [
    {
     "name": "stdout",
     "output_type": "stream",
     "text": [
      "Column: cigs\n",
      "-9    5\n",
      "Column: years\n",
      "-9    5\n",
      "Column: dm\n",
      "-9    259\n",
      "Column: thal\n",
      "-9    2\n"
     ]
    }
   ],
   "source": [
    "for col in ['cigs', 'years', 'dm', 'thal']:\n",
    "    print(f'Column: {col}')\n",
    "    print(heart_disease_df[col][heart_disease_df[col] < 0].value_counts().to_string())"
   ]
  },
  {
   "cell_type": "markdown",
   "metadata": {},
   "source": [
    "There are no additional negative values other than `-9`, which increases our\n",
    "confidence in the marker.\n",
    "\n",
    "Further investigation of the UCI website revealed a \"Data Set Description\"\n",
    "file which, when downloaded, contained this snippet $^{1}$:\n",
    "\n",
    "   Missing Attribute Values: Several.  Distinguished with value -9.0.\n",
    "\n",
    "1. Had I seen this earlier, I might not have done as thorough an investigation,\n",
    "   honestly :)"
   ]
  },
  {
   "cell_type": "code",
   "execution_count": 7,
   "metadata": {},
   "outputs": [
    {
     "data": {
      "text/html": [
       "<div>\n",
       "<style scoped>\n",
       "    .dataframe tbody tr th:only-of-type {\n",
       "        vertical-align: middle;\n",
       "    }\n",
       "\n",
       "    .dataframe tbody tr th {\n",
       "        vertical-align: top;\n",
       "    }\n",
       "\n",
       "    .dataframe thead th {\n",
       "        text-align: right;\n",
       "    }\n",
       "</style>\n",
       "<table border=\"1\" class=\"dataframe\">\n",
       "  <thead>\n",
       "    <tr style=\"text-align: right;\">\n",
       "      <th></th>\n",
       "      <th>age</th>\n",
       "      <th>sex</th>\n",
       "      <th>cp</th>\n",
       "      <th>trestbps</th>\n",
       "      <th>chol</th>\n",
       "      <th>cigs</th>\n",
       "      <th>years</th>\n",
       "      <th>fbs</th>\n",
       "      <th>dm</th>\n",
       "      <th>famhist</th>\n",
       "      <th>restecg</th>\n",
       "      <th>thalach</th>\n",
       "      <th>exang</th>\n",
       "      <th>thal</th>\n",
       "      <th>num</th>\n",
       "    </tr>\n",
       "  </thead>\n",
       "  <tbody>\n",
       "    <tr>\n",
       "      <th>count</th>\n",
       "      <td>282.000000</td>\n",
       "      <td>282.000000</td>\n",
       "      <td>282.000000</td>\n",
       "      <td>282.000000</td>\n",
       "      <td>282.000000</td>\n",
       "      <td>277.000000</td>\n",
       "      <td>277.000000</td>\n",
       "      <td>282.000000</td>\n",
       "      <td>23.0</td>\n",
       "      <td>282.000000</td>\n",
       "      <td>282.000000</td>\n",
       "      <td>282.000000</td>\n",
       "      <td>282.000000</td>\n",
       "      <td>280.000000</td>\n",
       "      <td>282.000000</td>\n",
       "    </tr>\n",
       "    <tr>\n",
       "      <th>mean</th>\n",
       "      <td>54.411348</td>\n",
       "      <td>0.677305</td>\n",
       "      <td>3.163121</td>\n",
       "      <td>131.563830</td>\n",
       "      <td>249.092199</td>\n",
       "      <td>16.920578</td>\n",
       "      <td>15.259928</td>\n",
       "      <td>0.148936</td>\n",
       "      <td>1.0</td>\n",
       "      <td>0.620567</td>\n",
       "      <td>1.014184</td>\n",
       "      <td>149.765957</td>\n",
       "      <td>0.326241</td>\n",
       "      <td>4.678571</td>\n",
       "      <td>0.907801</td>\n",
       "    </tr>\n",
       "    <tr>\n",
       "      <th>std</th>\n",
       "      <td>9.053083</td>\n",
       "      <td>0.468338</td>\n",
       "      <td>0.955405</td>\n",
       "      <td>17.757496</td>\n",
       "      <td>51.217546</td>\n",
       "      <td>19.451934</td>\n",
       "      <td>15.367867</td>\n",
       "      <td>0.356658</td>\n",
       "      <td>0.0</td>\n",
       "      <td>0.486108</td>\n",
       "      <td>0.998118</td>\n",
       "      <td>22.923869</td>\n",
       "      <td>0.469670</td>\n",
       "      <td>1.939101</td>\n",
       "      <td>1.224894</td>\n",
       "    </tr>\n",
       "    <tr>\n",
       "      <th>min</th>\n",
       "      <td>29.000000</td>\n",
       "      <td>0.000000</td>\n",
       "      <td>1.000000</td>\n",
       "      <td>94.000000</td>\n",
       "      <td>126.000000</td>\n",
       "      <td>0.000000</td>\n",
       "      <td>0.000000</td>\n",
       "      <td>0.000000</td>\n",
       "      <td>1.0</td>\n",
       "      <td>0.000000</td>\n",
       "      <td>0.000000</td>\n",
       "      <td>71.000000</td>\n",
       "      <td>0.000000</td>\n",
       "      <td>3.000000</td>\n",
       "      <td>0.000000</td>\n",
       "    </tr>\n",
       "    <tr>\n",
       "      <th>25%</th>\n",
       "      <td>48.000000</td>\n",
       "      <td>0.000000</td>\n",
       "      <td>3.000000</td>\n",
       "      <td>120.000000</td>\n",
       "      <td>213.000000</td>\n",
       "      <td>0.000000</td>\n",
       "      <td>0.000000</td>\n",
       "      <td>0.000000</td>\n",
       "      <td>1.0</td>\n",
       "      <td>0.000000</td>\n",
       "      <td>0.000000</td>\n",
       "      <td>133.250000</td>\n",
       "      <td>0.000000</td>\n",
       "      <td>3.000000</td>\n",
       "      <td>0.000000</td>\n",
       "    </tr>\n",
       "    <tr>\n",
       "      <th>50%</th>\n",
       "      <td>55.000000</td>\n",
       "      <td>1.000000</td>\n",
       "      <td>3.000000</td>\n",
       "      <td>130.000000</td>\n",
       "      <td>244.000000</td>\n",
       "      <td>10.000000</td>\n",
       "      <td>15.000000</td>\n",
       "      <td>0.000000</td>\n",
       "      <td>1.0</td>\n",
       "      <td>1.000000</td>\n",
       "      <td>2.000000</td>\n",
       "      <td>153.500000</td>\n",
       "      <td>0.000000</td>\n",
       "      <td>3.000000</td>\n",
       "      <td>0.000000</td>\n",
       "    </tr>\n",
       "    <tr>\n",
       "      <th>75%</th>\n",
       "      <td>61.000000</td>\n",
       "      <td>1.000000</td>\n",
       "      <td>4.000000</td>\n",
       "      <td>140.000000</td>\n",
       "      <td>277.000000</td>\n",
       "      <td>30.000000</td>\n",
       "      <td>30.000000</td>\n",
       "      <td>0.000000</td>\n",
       "      <td>1.0</td>\n",
       "      <td>1.000000</td>\n",
       "      <td>2.000000</td>\n",
       "      <td>165.750000</td>\n",
       "      <td>1.000000</td>\n",
       "      <td>7.000000</td>\n",
       "      <td>2.000000</td>\n",
       "    </tr>\n",
       "    <tr>\n",
       "      <th>max</th>\n",
       "      <td>77.000000</td>\n",
       "      <td>1.000000</td>\n",
       "      <td>4.000000</td>\n",
       "      <td>200.000000</td>\n",
       "      <td>564.000000</td>\n",
       "      <td>99.000000</td>\n",
       "      <td>54.000000</td>\n",
       "      <td>1.000000</td>\n",
       "      <td>1.0</td>\n",
       "      <td>1.000000</td>\n",
       "      <td>2.000000</td>\n",
       "      <td>202.000000</td>\n",
       "      <td>1.000000</td>\n",
       "      <td>7.000000</td>\n",
       "      <td>4.000000</td>\n",
       "    </tr>\n",
       "  </tbody>\n",
       "</table>\n",
       "</div>"
      ],
      "text/plain": [
       "              age         sex          cp    trestbps        chol        cigs  \\\n",
       "count  282.000000  282.000000  282.000000  282.000000  282.000000  277.000000   \n",
       "mean    54.411348    0.677305    3.163121  131.563830  249.092199   16.920578   \n",
       "std      9.053083    0.468338    0.955405   17.757496   51.217546   19.451934   \n",
       "min     29.000000    0.000000    1.000000   94.000000  126.000000    0.000000   \n",
       "25%     48.000000    0.000000    3.000000  120.000000  213.000000    0.000000   \n",
       "50%     55.000000    1.000000    3.000000  130.000000  244.000000   10.000000   \n",
       "75%     61.000000    1.000000    4.000000  140.000000  277.000000   30.000000   \n",
       "max     77.000000    1.000000    4.000000  200.000000  564.000000   99.000000   \n",
       "\n",
       "            years         fbs    dm     famhist     restecg     thalach  \\\n",
       "count  277.000000  282.000000  23.0  282.000000  282.000000  282.000000   \n",
       "mean    15.259928    0.148936   1.0    0.620567    1.014184  149.765957   \n",
       "std     15.367867    0.356658   0.0    0.486108    0.998118   22.923869   \n",
       "min      0.000000    0.000000   1.0    0.000000    0.000000   71.000000   \n",
       "25%      0.000000    0.000000   1.0    0.000000    0.000000  133.250000   \n",
       "50%     15.000000    0.000000   1.0    1.000000    2.000000  153.500000   \n",
       "75%     30.000000    0.000000   1.0    1.000000    2.000000  165.750000   \n",
       "max     54.000000    1.000000   1.0    1.000000    2.000000  202.000000   \n",
       "\n",
       "            exang        thal         num  \n",
       "count  282.000000  280.000000  282.000000  \n",
       "mean     0.326241    4.678571    0.907801  \n",
       "std      0.469670    1.939101    1.224894  \n",
       "min      0.000000    3.000000    0.000000  \n",
       "25%      0.000000    3.000000    0.000000  \n",
       "50%      0.000000    3.000000    0.000000  \n",
       "75%      1.000000    7.000000    2.000000  \n",
       "max      1.000000    7.000000    4.000000  "
      ]
     },
     "execution_count": 7,
     "metadata": {},
     "output_type": "execute_result"
    }
   ],
   "source": [
    "heart_disease_df.replace(-9, np.nan, inplace=True)\n",
    "heart_disease_df.describe()"
   ]
  },
  {
   "cell_type": "markdown",
   "metadata": {},
   "source": [
    "# 3 Data Analysis\n",
    "\n",
    "## 3.A Correlation\n",
    "\n",
    "How well does each feature correlate with the outcome\n",
    "(column *num*, diagnosis of heart disease)\n",
    "\n",
    "### 3.A.1 Continuous Numerical Feature: Age vs Outcome\n",
    "\n",
    "As seen below, an outcome of 1-4 tends to occur amongst older subjects.\n",
    "Note that each histogram is depicted with `density=True` so that each bin will\n",
    "display the bin's raw count divided by the total number of counts and the bin\n",
    "width (Matplotlib.org, n.d.).\n",
    "\n",
    "**Decision**: Keep `age`.  As per this week's lecture: we may want to create new\n",
    "              feature for age bands.\n"
   ]
  },
  {
   "cell_type": "code",
   "execution_count": 8,
   "metadata": {},
   "outputs": [
    {
     "data": {
      "text/plain": [
       "<seaborn.axisgrid.FacetGrid at 0x7f1a14b69a60>"
      ]
     },
     "execution_count": 8,
     "metadata": {},
     "output_type": "execute_result"
    },
    {
     "data": {
      "image/png": "[encoded data removed]",
      "text/plain": [
       "<Figure size 1080x216 with 5 Axes>"
      ]
     },
     "metadata": {
      "needs_background": "light"
     },
     "output_type": "display_data"
    }
   ],
   "source": [
    "g = sns.FacetGrid(heart_disease_df, col='num')\n",
    "g.map(plt.hist, 'age', bins=20, density=True)"
   ]
  },
  {
   "cell_type": "markdown",
   "metadata": {},
   "source": [
    "### 3.A.2 Continuous Numerical Feature: Resting Blood Pressure vs Outcome\n",
    "\n",
    "As seen below, an outcome of 1-4 seems to be related to resting blood pressure\n",
    "in the higher range.\n",
    "\n",
    "**Decision**: Keep `trestbps`.  Frankly, I don't have enough domain knowledge\n",
    "              to determine if it's worthwhile to create blood pressure bands,\n",
    "              nor would I know how to calculate correct ones.  This might be\n",
    "              worth future investigation, though."
   ]
  },
  {
   "cell_type": "code",
   "execution_count": 9,
   "metadata": {},
   "outputs": [
    {
     "data": {
      "text/plain": [
       "<seaborn.axisgrid.FacetGrid at 0x7f1a12855d30>"
      ]
     },
     "execution_count": 9,
     "metadata": {},
     "output_type": "execute_result"
    },
    {
     "data": {
      "image/png": "[encoded data removed]",
      "text/plain": [
       "<Figure size 1080x216 with 5 Axes>"
      ]
     },
     "metadata": {
      "needs_background": "light"
     },
     "output_type": "display_data"
    }
   ],
   "source": [
    "g = sns.FacetGrid(heart_disease_df, col='num')\n",
    "g.map(plt.hist, 'trestbps', bins=20, density=True)"
   ]
  },
  {
   "cell_type": "code",
   "execution_count": 10,
   "metadata": {},
   "outputs": [
    {
     "data": {
      "text/html": [
       "<div>\n",
       "<style scoped>\n",
       "    .dataframe tbody tr th:only-of-type {\n",
       "        vertical-align: middle;\n",
       "    }\n",
       "\n",
       "    .dataframe tbody tr th {\n",
       "        vertical-align: top;\n",
       "    }\n",
       "\n",
       "    .dataframe thead th {\n",
       "        text-align: right;\n",
       "    }\n",
       "</style>\n",
       "<table border=\"1\" class=\"dataframe\">\n",
       "  <thead>\n",
       "    <tr style=\"text-align: right;\">\n",
       "      <th></th>\n",
       "      <th>num</th>\n",
       "      <th>trestbps</th>\n",
       "    </tr>\n",
       "  </thead>\n",
       "  <tbody>\n",
       "    <tr>\n",
       "      <th>4</th>\n",
       "      <td>4</td>\n",
       "      <td>140.833333</td>\n",
       "    </tr>\n",
       "    <tr>\n",
       "      <th>3</th>\n",
       "      <td>3</td>\n",
       "      <td>134.968750</td>\n",
       "    </tr>\n",
       "    <tr>\n",
       "      <th>2</th>\n",
       "      <td>2</td>\n",
       "      <td>132.548387</td>\n",
       "    </tr>\n",
       "    <tr>\n",
       "      <th>1</th>\n",
       "      <td>1</td>\n",
       "      <td>133.460000</td>\n",
       "    </tr>\n",
       "    <tr>\n",
       "      <th>0</th>\n",
       "      <td>0</td>\n",
       "      <td>129.363057</td>\n",
       "    </tr>\n",
       "  </tbody>\n",
       "</table>\n",
       "</div>"
      ],
      "text/plain": [
       "   num    trestbps\n",
       "4    4  140.833333\n",
       "3    3  134.968750\n",
       "2    2  132.548387\n",
       "1    1  133.460000\n",
       "0    0  129.363057"
      ]
     },
     "execution_count": 10,
     "metadata": {},
     "output_type": "execute_result"
    }
   ],
   "source": [
    "heart_disease_df[['num', 'trestbps']].groupby(['num'], as_index=False).mean().sort_values(by='num', ascending=False)\n"
   ]
  },
  {
   "cell_type": "markdown",
   "metadata": {},
   "source": [
    "### 3.A.3 Continuous Numerical Feature: Cholesterol vs Outcome\n",
    "\n",
    "The relationship between cholesterol and outcome is not immediately visible\n",
    "from the histograms below.  In general, though, the average cholesterol score\n",
    "associated with adverse outcomes is ~250 or higher, compared to ~240 for the\n",
    "positive outcome (cholesterol averaged by outcome, below).\n",
    "\n",
    "**Decision**: Keep `chol`"
   ]
  },
  {
   "cell_type": "code",
   "execution_count": 11,
   "metadata": {},
   "outputs": [
    {
     "data": {
      "text/plain": [
       "<seaborn.axisgrid.FacetGrid at 0x7f1a125a1640>"
      ]
     },
     "execution_count": 11,
     "metadata": {},
     "output_type": "execute_result"
    },
    {
     "data": {
      "image/png": "[encoded data removed]",
      "text/plain": [
       "<Figure size 1080x216 with 5 Axes>"
      ]
     },
     "metadata": {
      "needs_background": "light"
     },
     "output_type": "display_data"
    }
   ],
   "source": [
    "g = sns.FacetGrid(heart_disease_df, col='num')\n",
    "g.map(plt.hist, 'chol', bins=20, density=True)"
   ]
  },
  {
   "cell_type": "code",
   "execution_count": 12,
   "metadata": {},
   "outputs": [
    {
     "data": {
      "text/html": [
       "<div>\n",
       "<style scoped>\n",
       "    .dataframe tbody tr th:only-of-type {\n",
       "        vertical-align: middle;\n",
       "    }\n",
       "\n",
       "    .dataframe tbody tr th {\n",
       "        vertical-align: top;\n",
       "    }\n",
       "\n",
       "    .dataframe thead th {\n",
       "        text-align: right;\n",
       "    }\n",
       "</style>\n",
       "<table border=\"1\" class=\"dataframe\">\n",
       "  <thead>\n",
       "    <tr style=\"text-align: right;\">\n",
       "      <th></th>\n",
       "      <th>num</th>\n",
       "      <th>chol</th>\n",
       "    </tr>\n",
       "  </thead>\n",
       "  <tbody>\n",
       "    <tr>\n",
       "      <th>4</th>\n",
       "      <td>4</td>\n",
       "      <td>248.000000</td>\n",
       "    </tr>\n",
       "    <tr>\n",
       "      <th>3</th>\n",
       "      <td>3</td>\n",
       "      <td>253.562500</td>\n",
       "    </tr>\n",
       "    <tr>\n",
       "      <th>2</th>\n",
       "      <td>2</td>\n",
       "      <td>269.580645</td>\n",
       "    </tr>\n",
       "    <tr>\n",
       "      <th>1</th>\n",
       "      <td>1</td>\n",
       "      <td>251.020000</td>\n",
       "    </tr>\n",
       "    <tr>\n",
       "      <th>0</th>\n",
       "      <td>0</td>\n",
       "      <td>243.605096</td>\n",
       "    </tr>\n",
       "  </tbody>\n",
       "</table>\n",
       "</div>"
      ],
      "text/plain": [
       "   num        chol\n",
       "4    4  248.000000\n",
       "3    3  253.562500\n",
       "2    2  269.580645\n",
       "1    1  251.020000\n",
       "0    0  243.605096"
      ]
     },
     "execution_count": 12,
     "metadata": {},
     "output_type": "execute_result"
    }
   ],
   "source": [
    "heart_disease_df[['num', 'chol']].groupby(['num'], as_index=False).mean().sort_values(by='num', ascending=False)\n"
   ]
  },
  {
   "cell_type": "markdown",
   "metadata": {},
   "source": [
    "### 3.A.4 Continuous Numerical Feature: Cigarettes per Day vs Outcome\n",
    "\n",
    "**Decision**: Keep, complete `cigs`"
   ]
  },
  {
   "cell_type": "code",
   "execution_count": 13,
   "metadata": {},
   "outputs": [
    {
     "data": {
      "text/plain": [
       "<seaborn.axisgrid.FacetGrid at 0x7f1a12871100>"
      ]
     },
     "execution_count": 13,
     "metadata": {},
     "output_type": "execute_result"
    },
    {
     "data": {
      "image/png": "[encoded data removed]",
      "text/plain": [
       "<Figure size 1080x216 with 5 Axes>"
      ]
     },
     "metadata": {
      "needs_background": "light"
     },
     "output_type": "display_data"
    }
   ],
   "source": [
    "g = sns.FacetGrid(heart_disease_df, col='num')\n",
    "g.map(plt.hist, 'cigs', bins=20, density=True)"
   ]
  },
  {
   "cell_type": "markdown",
   "metadata": {},
   "source": [
    "Frankly, I'm skeptical of the exceptionally high number of cigarettes per day\n",
    "(80? 100?), but I truly don't know if that's incorrect.  Fortunately, the\n",
    "boxplot below shows a \"reasonable\" median:"
   ]
  },
  {
   "cell_type": "code",
   "execution_count": 14,
   "metadata": {},
   "outputs": [
    {
     "name": "stderr",
     "output_type": "stream",
     "text": [
      "2022-01-19 00:08:57 - INFO   -   MSDS-680 - Median number of cigarettes per day: 10.0\n"
     ]
    },
    {
     "data": {
      "text/plain": [
       "<AxesSubplot:>"
      ]
     },
     "execution_count": 14,
     "metadata": {},
     "output_type": "execute_result"
    },
    {
     "data": {
      "image/png": "[encoded data removed]",
      "text/plain": [
       "<Figure size 432x288 with 1 Axes>"
      ]
     },
     "metadata": {
      "needs_background": "light"
     },
     "output_type": "display_data"
    }
   ],
   "source": [
    "LOGGER.info(f'Median number of cigarettes per day: {heart_disease_df.cigs.median()}')\n",
    "heart_disease_df.cigs.plot(kind='box')"
   ]
  },
  {
   "cell_type": "code",
   "execution_count": 15,
   "metadata": {},
   "outputs": [
    {
     "data": {
      "text/html": [
       "<div>\n",
       "<style scoped>\n",
       "    .dataframe tbody tr th:only-of-type {\n",
       "        vertical-align: middle;\n",
       "    }\n",
       "\n",
       "    .dataframe tbody tr th {\n",
       "        vertical-align: top;\n",
       "    }\n",
       "\n",
       "    .dataframe thead th {\n",
       "        text-align: right;\n",
       "    }\n",
       "</style>\n",
       "<table border=\"1\" class=\"dataframe\">\n",
       "  <thead>\n",
       "    <tr style=\"text-align: right;\">\n",
       "      <th></th>\n",
       "      <th>num</th>\n",
       "      <th>cigs</th>\n",
       "    </tr>\n",
       "  </thead>\n",
       "  <tbody>\n",
       "    <tr>\n",
       "      <th>4</th>\n",
       "      <td>4</td>\n",
       "      <td>24.333333</td>\n",
       "    </tr>\n",
       "    <tr>\n",
       "      <th>3</th>\n",
       "      <td>3</td>\n",
       "      <td>14.100000</td>\n",
       "    </tr>\n",
       "    <tr>\n",
       "      <th>2</th>\n",
       "      <td>2</td>\n",
       "      <td>16.225806</td>\n",
       "    </tr>\n",
       "    <tr>\n",
       "      <th>1</th>\n",
       "      <td>1</td>\n",
       "      <td>21.740000</td>\n",
       "    </tr>\n",
       "    <tr>\n",
       "      <th>0</th>\n",
       "      <td>0</td>\n",
       "      <td>15.467532</td>\n",
       "    </tr>\n",
       "  </tbody>\n",
       "</table>\n",
       "</div>"
      ],
      "text/plain": [
       "   num       cigs\n",
       "4    4  24.333333\n",
       "3    3  14.100000\n",
       "2    2  16.225806\n",
       "1    1  21.740000\n",
       "0    0  15.467532"
      ]
     },
     "execution_count": 15,
     "metadata": {},
     "output_type": "execute_result"
    }
   ],
   "source": [
    "heart_disease_df[['num', 'cigs']].groupby(['num'], as_index=False).mean().sort_values(by='num', ascending=False)\n"
   ]
  },
  {
   "cell_type": "markdown",
   "metadata": {},
   "source": [
    "Below, we consolidate outcomes to simply be positive vs negative to try to \n",
    "clarify the relationship between cigarettes and adverse outcome.  We see that\n",
    "individuals with a negative outcome average ~3.5 more cigarettes per day."
   ]
  },
  {
   "cell_type": "code",
   "execution_count": 16,
   "metadata": {},
   "outputs": [
    {
     "data": {
      "text/html": [
       "<div>\n",
       "<style scoped>\n",
       "    .dataframe tbody tr th:only-of-type {\n",
       "        vertical-align: middle;\n",
       "    }\n",
       "\n",
       "    .dataframe tbody tr th {\n",
       "        vertical-align: top;\n",
       "    }\n",
       "\n",
       "    .dataframe thead th {\n",
       "        text-align: right;\n",
       "    }\n",
       "</style>\n",
       "<table border=\"1\" class=\"dataframe\">\n",
       "  <thead>\n",
       "    <tr style=\"text-align: right;\">\n",
       "      <th></th>\n",
       "      <th>num</th>\n",
       "      <th>cigs</th>\n",
       "    </tr>\n",
       "  </thead>\n",
       "  <tbody>\n",
       "    <tr>\n",
       "      <th>1</th>\n",
       "      <td>9</td>\n",
       "      <td>19.008130</td>\n",
       "    </tr>\n",
       "    <tr>\n",
       "      <th>0</th>\n",
       "      <td>0</td>\n",
       "      <td>15.688312</td>\n",
       "    </tr>\n",
       "  </tbody>\n",
       "</table>\n",
       "</div>"
      ],
      "text/plain": [
       "   num       cigs\n",
       "1    9  19.008130\n",
       "0    0  15.688312"
      ]
     },
     "execution_count": 16,
     "metadata": {},
     "output_type": "execute_result"
    }
   ],
   "source": [
    "# This temporary DF will simply be positive vs adverse outcome\n",
    "smoke_df = heart_disease_df[['num', 'cigs', 'years']]\n",
    "smoke_df = smoke_df.replace(to_replace=[1, 2, 3, 4], value=[9, 9, 9, 9])\n",
    "smoke_df[['num', 'cigs']].groupby(['num'], as_index=False).mean().sort_values(by='num', ascending=False)\n"
   ]
  },
  {
   "cell_type": "markdown",
   "metadata": {},
   "source": [
    "### 3.A.5 Continuous Numerical Feature: Years as Smoker vs Outcome\n",
    "\n",
    "Again, at first glance the relationship between years as a smoker and outcome\n",
    "isn't visually clear, but the averages show that adverse outcomes average greater\n",
    "number of years as a smoker\n",
    "\n",
    "**Decision**: Keep, complete `years`"
   ]
  },
  {
   "cell_type": "code",
   "execution_count": 17,
   "metadata": {},
   "outputs": [
    {
     "data": {
      "text/plain": [
       "<seaborn.axisgrid.FacetGrid at 0x7f1a11fadf70>"
      ]
     },
     "execution_count": 17,
     "metadata": {},
     "output_type": "execute_result"
    },
    {
     "data": {
      "image/png": "[encoded data removed]",
      "text/plain": [
       "<Figure size 1080x216 with 5 Axes>"
      ]
     },
     "metadata": {
      "needs_background": "light"
     },
     "output_type": "display_data"
    }
   ],
   "source": [
    "g = sns.FacetGrid(heart_disease_df, col='num')\n",
    "g.map(plt.hist, 'years', bins=20, density=True)"
   ]
  },
  {
   "cell_type": "code",
   "execution_count": 18,
   "metadata": {},
   "outputs": [
    {
     "data": {
      "text/html": [
       "<div>\n",
       "<style scoped>\n",
       "    .dataframe tbody tr th:only-of-type {\n",
       "        vertical-align: middle;\n",
       "    }\n",
       "\n",
       "    .dataframe tbody tr th {\n",
       "        vertical-align: top;\n",
       "    }\n",
       "\n",
       "    .dataframe thead th {\n",
       "        text-align: right;\n",
       "    }\n",
       "</style>\n",
       "<table border=\"1\" class=\"dataframe\">\n",
       "  <thead>\n",
       "    <tr style=\"text-align: right;\">\n",
       "      <th></th>\n",
       "      <th>num</th>\n",
       "      <th>years</th>\n",
       "    </tr>\n",
       "  </thead>\n",
       "  <tbody>\n",
       "    <tr>\n",
       "      <th>4</th>\n",
       "      <td>4</td>\n",
       "      <td>24.666667</td>\n",
       "    </tr>\n",
       "    <tr>\n",
       "      <th>3</th>\n",
       "      <td>3</td>\n",
       "      <td>11.866667</td>\n",
       "    </tr>\n",
       "    <tr>\n",
       "      <th>2</th>\n",
       "      <td>2</td>\n",
       "      <td>17.225806</td>\n",
       "    </tr>\n",
       "    <tr>\n",
       "      <th>1</th>\n",
       "      <td>1</td>\n",
       "      <td>17.920000</td>\n",
       "    </tr>\n",
       "    <tr>\n",
       "      <th>0</th>\n",
       "      <td>0</td>\n",
       "      <td>13.928571</td>\n",
       "    </tr>\n",
       "  </tbody>\n",
       "</table>\n",
       "</div>"
      ],
      "text/plain": [
       "   num      years\n",
       "4    4  24.666667\n",
       "3    3  11.866667\n",
       "2    2  17.225806\n",
       "1    1  17.920000\n",
       "0    0  13.928571"
      ]
     },
     "execution_count": 18,
     "metadata": {},
     "output_type": "execute_result"
    }
   ],
   "source": [
    "heart_disease_df[['num', 'years']].groupby(['num'], as_index=False).mean().sort_values(by='num', ascending=False)\n"
   ]
  },
  {
   "cell_type": "markdown",
   "metadata": {},
   "source": [
    "Again, we try to clarify the relationship between cigarettes and adverse\n",
    "outcome.  Here, we see that individuals with a negative outcome average ~3\n",
    "more years of smoking cigarettes."
   ]
  },
  {
   "cell_type": "code",
   "execution_count": 19,
   "metadata": {},
   "outputs": [
    {
     "data": {
      "text/html": [
       "<div>\n",
       "<style scoped>\n",
       "    .dataframe tbody tr th:only-of-type {\n",
       "        vertical-align: middle;\n",
       "    }\n",
       "\n",
       "    .dataframe tbody tr th {\n",
       "        vertical-align: top;\n",
       "    }\n",
       "\n",
       "    .dataframe thead th {\n",
       "        text-align: right;\n",
       "    }\n",
       "</style>\n",
       "<table border=\"1\" class=\"dataframe\">\n",
       "  <thead>\n",
       "    <tr style=\"text-align: right;\">\n",
       "      <th></th>\n",
       "      <th>num</th>\n",
       "      <th>years</th>\n",
       "    </tr>\n",
       "  </thead>\n",
       "  <tbody>\n",
       "    <tr>\n",
       "      <th>1</th>\n",
       "      <td>9</td>\n",
       "      <td>17.097561</td>\n",
       "    </tr>\n",
       "    <tr>\n",
       "      <th>0</th>\n",
       "      <td>0</td>\n",
       "      <td>14.045455</td>\n",
       "    </tr>\n",
       "  </tbody>\n",
       "</table>\n",
       "</div>"
      ],
      "text/plain": [
       "   num      years\n",
       "1    9  17.097561\n",
       "0    0  14.045455"
      ]
     },
     "execution_count": 19,
     "metadata": {},
     "output_type": "execute_result"
    }
   ],
   "source": [
    "smoke_df[['num', 'years']].groupby(['num'], as_index=False).mean().sort_values(by='num', ascending=False)\n"
   ]
  },
  {
   "cell_type": "markdown",
   "metadata": {},
   "source": [
    "### 3.A.6 Continuous Numerical Feature: Max Heart Rate vs Outcome\n",
    "\n",
    "The link between Max Heart Rate and Outcome is not obvious.  However, after\n",
    "researching `thalach`, this feature is addressed further in 3.D.1.\n",
    "\n",
    "**Decision**: See 3.D.1"
   ]
  },
  {
   "cell_type": "code",
   "execution_count": 20,
   "metadata": {},
   "outputs": [
    {
     "data": {
      "text/plain": [
       "<seaborn.axisgrid.FacetGrid at 0x7f1a120a4250>"
      ]
     },
     "execution_count": 20,
     "metadata": {},
     "output_type": "execute_result"
    },
    {
     "data": {
      "image/png": "[encoded data removed]",
      "text/plain": [
       "<Figure size 1080x216 with 5 Axes>"
      ]
     },
     "metadata": {
      "needs_background": "light"
     },
     "output_type": "display_data"
    }
   ],
   "source": [
    "g = sns.FacetGrid(heart_disease_df, col='num')\n",
    "g.map(plt.hist, 'thalach', bins=20, density=True)"
   ]
  },
  {
   "cell_type": "markdown",
   "metadata": {},
   "source": [
    "### 3.A.7 Combined Categorical Feature: Chest Pain vs Age vs Outcome\n",
    "\n",
    "Reminder: *cp* values:\n",
    "   * `1`: typical angina\n",
    "   * `2`: atypical angina\n",
    "   * `3`: non-anginal pain\n",
    "   * `4`: asymptomatic\n",
    "\n",
    "   Below, we see that the majority of patients across all ages either\n",
    "   1. Had chest pain but still achieved a positive outcome (first column, which\n",
    "      shows `cp` `1-3` and `num == 0`)\n",
    "   2. Had no chest pain, regardless of outcome (last row, which shows `cp == 4`\n",
    "      and `num` `0-4`)\n",
    "\n",
    "We do see some interplay between *non-anginal pain* (`cp == 3`) and a negative\n",
    "outcome.\n",
    "\n",
    "**Decision**: Keep `cp`"
   ]
  },
  {
   "cell_type": "code",
   "execution_count": 21,
   "metadata": {},
   "outputs": [
    {
     "data": {
      "text/plain": [
       "<seaborn.axisgrid.FacetGrid at 0x7f1a11a9f8b0>"
      ]
     },
     "execution_count": 21,
     "metadata": {},
     "output_type": "execute_result"
    },
    {
     "data": {
      "image/png": "[encoded data removed]",
      "text/plain": [
       "<Figure size 1275.2x633.6 with 20 Axes>"
      ]
     },
     "metadata": {
      "needs_background": "light"
     },
     "output_type": "display_data"
    }
   ],
   "source": [
    "grid = sns.FacetGrid(heart_disease_df, col=\"num\", row='cp', height=2.2, aspect=1.6)\n",
    "grid.map(plt.hist, 'age', bins=20)\n",
    "grid.add_legend()"
   ]
  },
  {
   "cell_type": "markdown",
   "metadata": {},
   "source": [
    "### 3.A.8 Combined Categorical Feature: Fasting Blood Sugar vs Age vs Outcome\n",
    "\n",
    "It appears that *very few* patients had fasting blood sugar > 120 mg/ (second\n",
    "row) and also had a positive outcome (left-most cell).\n",
    "\n",
    "**Decision**: Keep `fbs`"
   ]
  },
  {
   "cell_type": "code",
   "execution_count": 22,
   "metadata": {},
   "outputs": [
    {
     "data": {
      "text/plain": [
       "<seaborn.axisgrid.FacetGrid at 0x7f1a11e73df0>"
      ]
     },
     "execution_count": 22,
     "metadata": {},
     "output_type": "execute_result"
    },
    {
     "data": {
      "image/png": "[encoded data removed]",
      "text/plain": [
       "<Figure size 1275.2x316.8 with 10 Axes>"
      ]
     },
     "metadata": {
      "needs_background": "light"
     },
     "output_type": "display_data"
    }
   ],
   "source": [
    "grid = sns.FacetGrid(heart_disease_df, col=\"num\", row='fbs', height=2.2, aspect=1.6)\n",
    "grid.map(plt.hist, 'age', bins=20)\n",
    "grid.add_legend()"
   ]
  },
  {
   "cell_type": "markdown",
   "metadata": {},
   "source": [
    "### 3.A.9 Combined Categorical Feature: Family History vs Age vs Outcome\n",
    "\n",
    "The second row indicates that patients with a family history of coronary\n",
    "artery disease do have a higher representation in the adverse outcomes than\n",
    "those with no such history.\n",
    "\n",
    "**Decision**: Keep `famhist`"
   ]
  },
  {
   "cell_type": "code",
   "execution_count": 23,
   "metadata": {},
   "outputs": [
    {
     "data": {
      "text/plain": [
       "<seaborn.axisgrid.FacetGrid at 0x7f1a10585fd0>"
      ]
     },
     "execution_count": 23,
     "metadata": {},
     "output_type": "execute_result"
    },
    {
     "data": {
      "image/png": "[encoded data removed]",
      "text/plain": [
       "<Figure size 1275.2x316.8 with 10 Axes>"
      ]
     },
     "metadata": {
      "needs_background": "light"
     },
     "output_type": "display_data"
    }
   ],
   "source": [
    "grid = sns.FacetGrid(heart_disease_df, col=\"num\", row='famhist', height=2.2, aspect=1.6)\n",
    "grid.map(plt.hist, 'age', bins=20)\n",
    "grid.add_legend()"
   ]
  },
  {
   "cell_type": "markdown",
   "metadata": {},
   "source": [
    "### 3.A.10 Combined Categorical Feature: Resting ECG Results vs Age vs Outcome\n",
    "\n",
    "Reminder: *restecg* values\n",
    "   * `0`: normal\n",
    "   * `1`: having ST-T wave abnormality (T wave inversions and/or ST elevation or depression of > 0.05 mV)\n",
    "   * `2`: showing probable or definite left ventricular hypertrophy by Estes' criteria\n",
    "\n",
    "Again, the averages show a difference in ECG results by outcome.\n",
    "\n",
    "**Decision**: Keep `restecg`"
   ]
  },
  {
   "cell_type": "code",
   "execution_count": 24,
   "metadata": {},
   "outputs": [
    {
     "data": {
      "text/plain": [
       "<seaborn.axisgrid.FacetGrid at 0x7f1a100fb940>"
      ]
     },
     "execution_count": 24,
     "metadata": {},
     "output_type": "execute_result"
    },
    {
     "data": {
      "image/png": "[encoded data removed]",
      "text/plain": [
       "<Figure size 1275.2x475.2 with 15 Axes>"
      ]
     },
     "metadata": {
      "needs_background": "light"
     },
     "output_type": "display_data"
    }
   ],
   "source": [
    "grid = sns.FacetGrid(heart_disease_df, col=\"num\", row='restecg', height=2.2, aspect=1.6)\n",
    "grid.map(plt.hist, 'age', bins=20)\n",
    "grid.add_legend()"
   ]
  },
  {
   "cell_type": "code",
   "execution_count": 25,
   "metadata": {},
   "outputs": [
    {
     "data": {
      "text/html": [
       "<div>\n",
       "<style scoped>\n",
       "    .dataframe tbody tr th:only-of-type {\n",
       "        vertical-align: middle;\n",
       "    }\n",
       "\n",
       "    .dataframe tbody tr th {\n",
       "        vertical-align: top;\n",
       "    }\n",
       "\n",
       "    .dataframe thead th {\n",
       "        text-align: right;\n",
       "    }\n",
       "</style>\n",
       "<table border=\"1\" class=\"dataframe\">\n",
       "  <thead>\n",
       "    <tr style=\"text-align: right;\">\n",
       "      <th></th>\n",
       "      <th>num</th>\n",
       "      <th>restecg</th>\n",
       "    </tr>\n",
       "  </thead>\n",
       "  <tbody>\n",
       "    <tr>\n",
       "      <th>4</th>\n",
       "      <td>4</td>\n",
       "      <td>1.666667</td>\n",
       "    </tr>\n",
       "    <tr>\n",
       "      <th>3</th>\n",
       "      <td>3</td>\n",
       "      <td>1.312500</td>\n",
       "    </tr>\n",
       "    <tr>\n",
       "      <th>2</th>\n",
       "      <td>2</td>\n",
       "      <td>0.935484</td>\n",
       "    </tr>\n",
       "    <tr>\n",
       "      <th>1</th>\n",
       "      <td>1</td>\n",
       "      <td>1.200000</td>\n",
       "    </tr>\n",
       "    <tr>\n",
       "      <th>0</th>\n",
       "      <td>0</td>\n",
       "      <td>0.859873</td>\n",
       "    </tr>\n",
       "  </tbody>\n",
       "</table>\n",
       "</div>"
      ],
      "text/plain": [
       "   num   restecg\n",
       "4    4  1.666667\n",
       "3    3  1.312500\n",
       "2    2  0.935484\n",
       "1    1  1.200000\n",
       "0    0  0.859873"
      ]
     },
     "execution_count": 25,
     "metadata": {},
     "output_type": "execute_result"
    }
   ],
   "source": [
    "heart_disease_df[['num', 'restecg']].groupby(['num'], as_index=False).mean().sort_values(by='num', ascending=False)\n"
   ]
  },
  {
   "cell_type": "markdown",
   "metadata": {},
   "source": [
    "### 3.A.11 Combined Categorical Feature: Exercise Induced Angina vs Age vs Outcome\n",
    "\n",
    "Relatively speaking, very few patients with execise-induced angina had a postive\n",
    "outcome, as indicated by the lower-left-most cell.\n",
    "\n",
    "**Decision**: Keep `exang`"
   ]
  },
  {
   "cell_type": "code",
   "execution_count": 26,
   "metadata": {},
   "outputs": [
    {
     "data": {
      "text/plain": [
       "<seaborn.axisgrid.FacetGrid at 0x7f1a0fa11a30>"
      ]
     },
     "execution_count": 26,
     "metadata": {},
     "output_type": "execute_result"
    },
    {
     "data": {
      "image/png": "[encoded data removed]",
      "text/plain": [
       "<Figure size 1275.2x316.8 with 10 Axes>"
      ]
     },
     "metadata": {
      "needs_background": "light"
     },
     "output_type": "display_data"
    }
   ],
   "source": [
    "grid = sns.FacetGrid(heart_disease_df, col=\"num\", row='exang', height=2.2, aspect=1.6)\n",
    "grid.map(plt.hist, 'age', bins=20)\n",
    "grid.add_legend()"
   ]
  },
  {
   "cell_type": "markdown",
   "metadata": {},
   "source": [
    "### 3.A.12 Combined Categorical Feature: Thalium Stress Test vs Age vs Outcome\n",
    "\n",
    "Reminder: *thal* values\n",
    "   * `3` = normal\n",
    "   * `6` = fixed defect\n",
    "   * `7` = reversable defect\n",
    "\n",
    "Relatively speaking, very few patients that had a *normal* Thalium Stress test\n",
    "had a negative outcome.  Conversely, very few patients that *reversable defect*\n",
    "result had a postive outcome.\n",
    "\n",
    "**Decision**: Keep `thal`"
   ]
  },
  {
   "cell_type": "code",
   "execution_count": 27,
   "metadata": {},
   "outputs": [
    {
     "data": {
      "text/plain": [
       "<seaborn.axisgrid.FacetGrid at 0x7f1a0f5784f0>"
      ]
     },
     "execution_count": 27,
     "metadata": {},
     "output_type": "execute_result"
    },
    {
     "data": {
      "image/png": "[encoded data removed]",
      "text/plain": [
       "<Figure size 1275.2x475.2 with 15 Axes>"
      ]
     },
     "metadata": {
      "needs_background": "light"
     },
     "output_type": "display_data"
    }
   ],
   "source": [
    "grid = sns.FacetGrid(heart_disease_df, col=\"num\", row='thal', height=2.2, aspect=1.6)\n",
    "grid.map(plt.hist, 'age', bins=20)\n",
    "grid.add_legend()"
   ]
  },
  {
   "cell_type": "markdown",
   "metadata": {},
   "source": [
    "## 3.B Completing\n",
    "\n",
    "From 2.B.2, recall that `cigs`, `years`, `dm`, and `thal` contain NaN.  We will\n",
    "address `cigs`, `years`, and `thal` in this section and `dm` in 3.C.\n",
    "\n",
    "Before we begin completing missing values, let's collect some information\n",
    "about those missing values so that we can double-check the changes after they're\n",
    "made."
   ]
  },
  {
   "cell_type": "code",
   "execution_count": 28,
   "metadata": {},
   "outputs": [
    {
     "data": {
      "text/html": [
       "<div>\n",
       "<style scoped>\n",
       "    .dataframe tbody tr th:only-of-type {\n",
       "        vertical-align: middle;\n",
       "    }\n",
       "\n",
       "    .dataframe tbody tr th {\n",
       "        vertical-align: top;\n",
       "    }\n",
       "\n",
       "    .dataframe thead th {\n",
       "        text-align: right;\n",
       "    }\n",
       "</style>\n",
       "<table border=\"1\" class=\"dataframe\">\n",
       "  <thead>\n",
       "    <tr style=\"text-align: right;\">\n",
       "      <th></th>\n",
       "      <th>cigs</th>\n",
       "      <th>years</th>\n",
       "      <th>thal</th>\n",
       "      <th>sex</th>\n",
       "    </tr>\n",
       "  </thead>\n",
       "  <tbody>\n",
       "    <tr>\n",
       "      <th>21</th>\n",
       "      <td>NaN</td>\n",
       "      <td>NaN</td>\n",
       "      <td>3.0</td>\n",
       "      <td>0</td>\n",
       "    </tr>\n",
       "    <tr>\n",
       "      <th>23</th>\n",
       "      <td>NaN</td>\n",
       "      <td>NaN</td>\n",
       "      <td>7.0</td>\n",
       "      <td>1</td>\n",
       "    </tr>\n",
       "    <tr>\n",
       "      <th>87</th>\n",
       "      <td>0.0</td>\n",
       "      <td>0.0</td>\n",
       "      <td>NaN</td>\n",
       "      <td>0</td>\n",
       "    </tr>\n",
       "    <tr>\n",
       "      <th>159</th>\n",
       "      <td>2.0</td>\n",
       "      <td>NaN</td>\n",
       "      <td>7.0</td>\n",
       "      <td>1</td>\n",
       "    </tr>\n",
       "    <tr>\n",
       "      <th>182</th>\n",
       "      <td>NaN</td>\n",
       "      <td>1.0</td>\n",
       "      <td>3.0</td>\n",
       "      <td>1</td>\n",
       "    </tr>\n",
       "    <tr>\n",
       "      <th>195</th>\n",
       "      <td>NaN</td>\n",
       "      <td>NaN</td>\n",
       "      <td>3.0</td>\n",
       "      <td>1</td>\n",
       "    </tr>\n",
       "    <tr>\n",
       "      <th>250</th>\n",
       "      <td>NaN</td>\n",
       "      <td>NaN</td>\n",
       "      <td>6.0</td>\n",
       "      <td>1</td>\n",
       "    </tr>\n",
       "    <tr>\n",
       "      <th>266</th>\n",
       "      <td>0.0</td>\n",
       "      <td>0.0</td>\n",
       "      <td>NaN</td>\n",
       "      <td>1</td>\n",
       "    </tr>\n",
       "  </tbody>\n",
       "</table>\n",
       "</div>"
      ],
      "text/plain": [
       "     cigs  years  thal  sex\n",
       "21    NaN    NaN   3.0    0\n",
       "23    NaN    NaN   7.0    1\n",
       "87    0.0    0.0   NaN    0\n",
       "159   2.0    NaN   7.0    1\n",
       "182   NaN    1.0   3.0    1\n",
       "195   NaN    NaN   3.0    1\n",
       "250   NaN    NaN   6.0    1\n",
       "266   0.0    0.0   NaN    1"
      ]
     },
     "execution_count": 28,
     "metadata": {},
     "output_type": "execute_result"
    }
   ],
   "source": [
    "# First, we identify the indices of the missing data\n",
    "test_df = pd.DataFrame(heart_disease_df[['cigs', 'years', 'thal', 'sex']])\n",
    "test_df[test_df.isnull().any(axis=1)]"
   ]
  },
  {
   "cell_type": "markdown",
   "metadata": {},
   "source": [
    "Also, before we address missing `cigs` (3.B.1) or `years` (3.B.2), we note that\n",
    "`sex` seems to play a large role in both.\n"
   ]
  },
  {
   "cell_type": "code",
   "execution_count": 29,
   "metadata": {},
   "outputs": [
    {
     "data": {
      "text/plain": [
       "<seaborn.axisgrid.FacetGrid at 0x7f1a0edebc40>"
      ]
     },
     "execution_count": 29,
     "metadata": {},
     "output_type": "execute_result"
    },
    {
     "data": {
      "image/png": "[encoded data removed]",
      "text/plain": [
       "<Figure size 514.88x158.4 with 2 Axes>"
      ]
     },
     "metadata": {
      "needs_background": "light"
     },
     "output_type": "display_data"
    }
   ],
   "source": [
    "grid = sns.FacetGrid(heart_disease_df, col=\"sex\", height=2.2, aspect=1.6)\n",
    "grid.map(sns.boxplot, 'cigs', order=[0, 1])\n",
    "grid.add_legend()"
   ]
  },
  {
   "cell_type": "code",
   "execution_count": 30,
   "metadata": {},
   "outputs": [
    {
     "data": {
      "text/plain": [
       "<seaborn.axisgrid.FacetGrid at 0x7f1a0ee58a00>"
      ]
     },
     "execution_count": 30,
     "metadata": {},
     "output_type": "execute_result"
    },
    {
     "data": {
      "image/png": "[encoded data removed]",
      "text/plain": [
       "<Figure size 514.88x158.4 with 2 Axes>"
      ]
     },
     "metadata": {
      "needs_background": "light"
     },
     "output_type": "display_data"
    }
   ],
   "source": [
    "grid = sns.FacetGrid(heart_disease_df, col=\"sex\", height=2.2, aspect=1.6)\n",
    "grid.map(sns.boxplot, 'years', order=[0, 1])\n",
    "grid.add_legend()"
   ]
  },
  {
   "cell_type": "markdown",
   "metadata": {},
   "source": [
    "Finally, one more \"pre-requisite\" step before we replace the values.\n",
    "\n",
    "Below, we create the User Defined Function which will be used to `apply` the\n",
    "changes to the Data Frame"
   ]
  },
  {
   "cell_type": "code",
   "execution_count": 31,
   "metadata": {},
   "outputs": [],
   "source": [
    "def fill_with_median(row, column_name, filter_by_col = None):\n",
    "    ''' A user-defined function to return a new Pandas Series with the\n",
    "        median column value (depending on the passed 'column_name'),\n",
    "        if the field is NaN\n",
    "\n",
    "        column_name -   the name of the column to be updated ... obviously, this\n",
    "                        column is also used to derive the median value\n",
    "        filter_by_col - an option column name to filter by.  If specified, the\n",
    "                        column will be filtered to match the current\n",
    "                        row's value for that column prior to calculating the\n",
    "                        median.\n",
    "    '''\n",
    "    result = pd.Series(row)\n",
    "    if np.isnan(row[column_name]):\n",
    "        if filter_by_col:\n",
    "            result[column_name] = heart_disease_df[heart_disease_df[filter_by_col] == row[filter_by_col]][column_name].median()\n",
    "        else:\n",
    "            result[column_name] = heart_disease_df[column_name].median()\n",
    "    return result\n",
    "\n"
   ]
  },
  {
   "cell_type": "markdown",
   "metadata": {},
   "source": [
    "### 3.B.1 Cigarettes (Continuous Numerical Feature)\n",
    "\n",
    "Complete missing values of `cigs` using the *median* value by `sex`.\n",
    "\n",
    "Then, test the result to ensure that we replaced with the correct values\n",
    "\n",
    "**NOTE**: I considered re-doing this section in favor of banding *first*, then\n",
    "          completing the missing values... Ultimately, I have left it in the\n",
    "          order in which it occurred to me to perform, but I'm not sure if it\n",
    "          makes a difference."
   ]
  },
  {
   "cell_type": "code",
   "execution_count": 32,
   "metadata": {},
   "outputs": [],
   "source": [
    "heart_disease_df = heart_disease_df.apply(fill_with_median, axis='columns', args=('cigs',), filter_by_col='sex')\n",
    "\n",
    "# Test each index location where cig was previously NaN (captured above)\n",
    "for iloc in [21, 23, 182, 195, 250]:\n",
    "    current_sex = heart_disease_df.iloc[iloc]['sex']\n",
    "    expected_cigs = heart_disease_df[heart_disease_df.sex == current_sex]['cigs'].median()\n",
    "\n",
    "    assert heart_disease_df.iloc[iloc]['cigs'] == expected_cigs"
   ]
  },
  {
   "cell_type": "markdown",
   "metadata": {},
   "source": [
    "### 3.B.2 Years (Continuous Numerical Feature)\n",
    "\n",
    "Complete missing values of `years` using the *median* value by `sex`\n",
    "\n",
    "Then, test the result to ensure that we replaced with the correct values."
   ]
  },
  {
   "cell_type": "code",
   "execution_count": 33,
   "metadata": {},
   "outputs": [],
   "source": [
    "heart_disease_df = heart_disease_df.apply(fill_with_median, axis='columns', args=('years',), filter_by_col='sex')\n",
    "\n",
    "# Test each index location where cig was previously NaN (captured above)\n",
    "for iloc in [21, 23, 159, 195, 250]:\n",
    "    current_sex = heart_disease_df.iloc[iloc]['sex']\n",
    "    expected_years = heart_disease_df[heart_disease_df.sex == current_sex]['years'].median()\n",
    "    assert heart_disease_df.iloc[iloc]['years'] == expected_years"
   ]
  },
  {
   "cell_type": "markdown",
   "metadata": {},
   "source": [
    "### 3.B.3 Thal (Categorical Feature)\n",
    "\n",
    "Again, we will use the *median* value for `thal` to replace missing values"
   ]
  },
  {
   "cell_type": "code",
   "execution_count": 34,
   "metadata": {},
   "outputs": [],
   "source": [
    "heart_disease_df = heart_disease_df.apply(fill_with_median, axis='columns', args=('thal',))\n",
    "\n",
    "# Test each index location where cig was previously NaN (captured above)\n",
    "for iloc in [87, 266]:\n",
    "    assert heart_disease_df.iloc[iloc]['thal'] == heart_disease_df['thal'].median()"
   ]
  },
  {
   "cell_type": "markdown",
   "metadata": {},
   "source": [
    "## 3.C Correcting\n",
    "\n",
    "### 3.C.1 DM - Diabetes History (`dm`)\n",
    "\n",
    "According to the documentation, `dm` is supposed to be either `0` or `1`\n",
    "\n",
    "Some thoughts...\n",
    "1. The values that are present for `dm` do not represent a sample of the\n",
    "   population as whole (only representation of *yes* group, no representation\n",
    "   from the *no* group).\n",
    "2. In contrast, each of the other series with missing values have *some*\n",
    "   representation from each of their possible values\n",
    "3. We could guess that it's a data-entry issue and that all of the `-9`\n",
    "   (e.g., *missing* values) were intended to be `0` (MNAR??), but this is not\n",
    "   supported by justifiable evidence, it's only conjecture\n",
    "\n",
    "**Decision**: Drop column *dm* due to the inability to reliably impute the\n",
    "              missing data.\n",
    "\n",
    "**Note**: This is different from saying the *dm* column is not *necessary*"
   ]
  },
  {
   "cell_type": "code",
   "execution_count": 35,
   "metadata": {},
   "outputs": [
    {
     "name": "stderr",
     "output_type": "stream",
     "text": [
      "2022-01-19 00:09:17 - INFO   -   MSDS-680 - Number of NaN in dm column: 259\n"
     ]
    }
   ],
   "source": [
    "LOGGER.info(f'Number of NaN in dm column: {heart_disease_df.dm.isna().sum()}')\n",
    "heart_disease_df.drop(columns=['dm'], inplace=True)"
   ]
  },
  {
   "cell_type": "markdown",
   "metadata": {},
   "source": [
    "## 3.D Creating\n",
    "\n",
    "### 3.D.1 Delta Maximum Heart Rate\n",
    "\n",
    "According to Charles River Medical Associates (2018), in a cardiac stress-test,\n",
    "a patient should be able to achieve a heart rate equivalent to `220 - <age>`.\n",
    "The test ist stopped early (prior to reaching the target heart rate) if the\n",
    "patient experiences difficulty.\n",
    "\n",
    "Therefore, we create a new feature (`delta_thalach`) which calculates the\n",
    "difference between the target heart rate (`220 - age`) and the heart rate\n",
    "actually achieved by the patient (`thalach`).\n",
    "\n",
    "The new feature shows a striking difference for the outcomes!"
   ]
  },
  {
   "cell_type": "code",
   "execution_count": 36,
   "metadata": {},
   "outputs": [
    {
     "data": {
      "text/plain": [
       "<seaborn.axisgrid.FacetGrid at 0x7f1a0f53f220>"
      ]
     },
     "execution_count": 36,
     "metadata": {},
     "output_type": "execute_result"
    },
    {
     "data": {
      "image/png": "[encoded data removed]",
      "text/plain": [
       "<Figure size 1080x216 with 5 Axes>"
      ]
     },
     "metadata": {
      "needs_background": "light"
     },
     "output_type": "display_data"
    }
   ],
   "source": [
    "heart_disease_df['delta_thalach'] = heart_disease_df['thalach'] - 220 + heart_disease_df['age']\n",
    "heart_disease_df.drop(columns=['thalach'], inplace=True)\n",
    "\n",
    "g = sns.FacetGrid(heart_disease_df, col='num')\n",
    "g.map(plt.hist, 'delta_thalach', bins=20, density=True)"
   ]
  },
  {
   "cell_type": "code",
   "execution_count": 37,
   "metadata": {},
   "outputs": [
    {
     "data": {
      "text/html": [
       "<div>\n",
       "<style scoped>\n",
       "    .dataframe tbody tr th:only-of-type {\n",
       "        vertical-align: middle;\n",
       "    }\n",
       "\n",
       "    .dataframe tbody tr th {\n",
       "        vertical-align: top;\n",
       "    }\n",
       "\n",
       "    .dataframe thead th {\n",
       "        text-align: right;\n",
       "    }\n",
       "</style>\n",
       "<table border=\"1\" class=\"dataframe\">\n",
       "  <thead>\n",
       "    <tr style=\"text-align: right;\">\n",
       "      <th></th>\n",
       "      <th>num</th>\n",
       "      <th>delta_thalach</th>\n",
       "    </tr>\n",
       "  </thead>\n",
       "  <tbody>\n",
       "    <tr>\n",
       "      <th>4</th>\n",
       "      <td>4.0</td>\n",
       "      <td>-19.500000</td>\n",
       "    </tr>\n",
       "    <tr>\n",
       "      <th>3</th>\n",
       "      <td>3.0</td>\n",
       "      <td>-30.125000</td>\n",
       "    </tr>\n",
       "    <tr>\n",
       "      <th>2</th>\n",
       "      <td>2.0</td>\n",
       "      <td>-28.387097</td>\n",
       "    </tr>\n",
       "    <tr>\n",
       "      <th>1</th>\n",
       "      <td>1.0</td>\n",
       "      <td>-18.640000</td>\n",
       "    </tr>\n",
       "    <tr>\n",
       "      <th>0</th>\n",
       "      <td>0.0</td>\n",
       "      <td>-9.248408</td>\n",
       "    </tr>\n",
       "  </tbody>\n",
       "</table>\n",
       "</div>"
      ],
      "text/plain": [
       "   num  delta_thalach\n",
       "4  4.0     -19.500000\n",
       "3  3.0     -30.125000\n",
       "2  2.0     -28.387097\n",
       "1  1.0     -18.640000\n",
       "0  0.0      -9.248408"
      ]
     },
     "execution_count": 37,
     "metadata": {},
     "output_type": "execute_result"
    }
   ],
   "source": [
    "heart_disease_df[['num', 'delta_thalach']].groupby(['num'], as_index=False).mean().sort_values(by='num', ascending=False)\n"
   ]
  },
  {
   "cell_type": "markdown",
   "metadata": {},
   "source": [
    "### 3.D.2 Age Band\n",
    "\n",
    "Below, we create age bands similar to this week's lessons.  By experimentation,\n",
    "it appears that 10 bands give better granularity."
   ]
  },
  {
   "cell_type": "code",
   "execution_count": 38,
   "metadata": {},
   "outputs": [
    {
     "data": {
      "text/html": [
       "<div>\n",
       "<style scoped>\n",
       "    .dataframe tbody tr th:only-of-type {\n",
       "        vertical-align: middle;\n",
       "    }\n",
       "\n",
       "    .dataframe tbody tr th {\n",
       "        vertical-align: top;\n",
       "    }\n",
       "\n",
       "    .dataframe thead th {\n",
       "        text-align: right;\n",
       "    }\n",
       "</style>\n",
       "<table border=\"1\" class=\"dataframe\">\n",
       "  <thead>\n",
       "    <tr style=\"text-align: right;\">\n",
       "      <th></th>\n",
       "      <th>AgeBand</th>\n",
       "      <th>num</th>\n",
       "    </tr>\n",
       "  </thead>\n",
       "  <tbody>\n",
       "    <tr>\n",
       "      <th>0</th>\n",
       "      <td>(28.952, 33.8]</td>\n",
       "      <td>0.000000</td>\n",
       "    </tr>\n",
       "    <tr>\n",
       "      <th>1</th>\n",
       "      <td>(33.8, 38.6]</td>\n",
       "      <td>0.750000</td>\n",
       "    </tr>\n",
       "    <tr>\n",
       "      <th>2</th>\n",
       "      <td>(38.6, 43.4]</td>\n",
       "      <td>0.500000</td>\n",
       "    </tr>\n",
       "    <tr>\n",
       "      <th>3</th>\n",
       "      <td>(43.4, 48.2]</td>\n",
       "      <td>0.527778</td>\n",
       "    </tr>\n",
       "    <tr>\n",
       "      <th>4</th>\n",
       "      <td>(48.2, 53.0]</td>\n",
       "      <td>0.644444</td>\n",
       "    </tr>\n",
       "    <tr>\n",
       "      <th>5</th>\n",
       "      <td>(53.0, 57.8]</td>\n",
       "      <td>1.044444</td>\n",
       "    </tr>\n",
       "    <tr>\n",
       "      <th>6</th>\n",
       "      <td>(57.8, 62.6]</td>\n",
       "      <td>1.305085</td>\n",
       "    </tr>\n",
       "    <tr>\n",
       "      <th>7</th>\n",
       "      <td>(62.6, 67.4]</td>\n",
       "      <td>1.125000</td>\n",
       "    </tr>\n",
       "    <tr>\n",
       "      <th>8</th>\n",
       "      <td>(67.4, 72.2]</td>\n",
       "      <td>1.000000</td>\n",
       "    </tr>\n",
       "    <tr>\n",
       "      <th>9</th>\n",
       "      <td>(72.2, 77.0]</td>\n",
       "      <td>1.333333</td>\n",
       "    </tr>\n",
       "  </tbody>\n",
       "</table>\n",
       "</div>"
      ],
      "text/plain": [
       "          AgeBand       num\n",
       "0  (28.952, 33.8]  0.000000\n",
       "1    (33.8, 38.6]  0.750000\n",
       "2    (38.6, 43.4]  0.500000\n",
       "3    (43.4, 48.2]  0.527778\n",
       "4    (48.2, 53.0]  0.644444\n",
       "5    (53.0, 57.8]  1.044444\n",
       "6    (57.8, 62.6]  1.305085\n",
       "7    (62.6, 67.4]  1.125000\n",
       "8    (67.4, 72.2]  1.000000\n",
       "9    (72.2, 77.0]  1.333333"
      ]
     },
     "execution_count": 38,
     "metadata": {},
     "output_type": "execute_result"
    }
   ],
   "source": [
    "heart_disease_df['AgeBand'] = pd.cut(heart_disease_df['age'], 10)\n",
    "heart_disease_df[['AgeBand', 'num']].groupby(['AgeBand'], as_index=False).mean().sort_values(by='AgeBand', ascending=True)"
   ]
  },
  {
   "cell_type": "code",
   "execution_count": 39,
   "metadata": {},
   "outputs": [
    {
     "data": {
      "text/html": [
       "<div>\n",
       "<style scoped>\n",
       "    .dataframe tbody tr th:only-of-type {\n",
       "        vertical-align: middle;\n",
       "    }\n",
       "\n",
       "    .dataframe tbody tr th {\n",
       "        vertical-align: top;\n",
       "    }\n",
       "\n",
       "    .dataframe thead th {\n",
       "        text-align: right;\n",
       "    }\n",
       "</style>\n",
       "<table border=\"1\" class=\"dataframe\">\n",
       "  <thead>\n",
       "    <tr style=\"text-align: right;\">\n",
       "      <th></th>\n",
       "      <th>age</th>\n",
       "      <th>sex</th>\n",
       "      <th>cp</th>\n",
       "      <th>trestbps</th>\n",
       "      <th>chol</th>\n",
       "      <th>cigs</th>\n",
       "      <th>years</th>\n",
       "      <th>fbs</th>\n",
       "      <th>famhist</th>\n",
       "      <th>restecg</th>\n",
       "      <th>exang</th>\n",
       "      <th>thal</th>\n",
       "      <th>num</th>\n",
       "      <th>delta_thalach</th>\n",
       "    </tr>\n",
       "  </thead>\n",
       "  <tbody>\n",
       "    <tr>\n",
       "      <th>0</th>\n",
       "      <td>6.0</td>\n",
       "      <td>1.0</td>\n",
       "      <td>1.0</td>\n",
       "      <td>145.0</td>\n",
       "      <td>233.0</td>\n",
       "      <td>50.0</td>\n",
       "      <td>20.0</td>\n",
       "      <td>1.0</td>\n",
       "      <td>1.0</td>\n",
       "      <td>2.0</td>\n",
       "      <td>0.0</td>\n",
       "      <td>6.0</td>\n",
       "      <td>0.0</td>\n",
       "      <td>-7.0</td>\n",
       "    </tr>\n",
       "    <tr>\n",
       "      <th>1</th>\n",
       "      <td>7.0</td>\n",
       "      <td>1.0</td>\n",
       "      <td>4.0</td>\n",
       "      <td>160.0</td>\n",
       "      <td>286.0</td>\n",
       "      <td>40.0</td>\n",
       "      <td>40.0</td>\n",
       "      <td>0.0</td>\n",
       "      <td>1.0</td>\n",
       "      <td>2.0</td>\n",
       "      <td>1.0</td>\n",
       "      <td>3.0</td>\n",
       "      <td>2.0</td>\n",
       "      <td>-45.0</td>\n",
       "    </tr>\n",
       "    <tr>\n",
       "      <th>2</th>\n",
       "      <td>7.0</td>\n",
       "      <td>1.0</td>\n",
       "      <td>4.0</td>\n",
       "      <td>120.0</td>\n",
       "      <td>229.0</td>\n",
       "      <td>20.0</td>\n",
       "      <td>35.0</td>\n",
       "      <td>0.0</td>\n",
       "      <td>1.0</td>\n",
       "      <td>2.0</td>\n",
       "      <td>1.0</td>\n",
       "      <td>7.0</td>\n",
       "      <td>1.0</td>\n",
       "      <td>-24.0</td>\n",
       "    </tr>\n",
       "    <tr>\n",
       "      <th>3</th>\n",
       "      <td>1.0</td>\n",
       "      <td>1.0</td>\n",
       "      <td>3.0</td>\n",
       "      <td>130.0</td>\n",
       "      <td>250.0</td>\n",
       "      <td>0.0</td>\n",
       "      <td>0.0</td>\n",
       "      <td>0.0</td>\n",
       "      <td>1.0</td>\n",
       "      <td>0.0</td>\n",
       "      <td>0.0</td>\n",
       "      <td>3.0</td>\n",
       "      <td>0.0</td>\n",
       "      <td>4.0</td>\n",
       "    </tr>\n",
       "    <tr>\n",
       "      <th>4</th>\n",
       "      <td>2.0</td>\n",
       "      <td>0.0</td>\n",
       "      <td>2.0</td>\n",
       "      <td>130.0</td>\n",
       "      <td>204.0</td>\n",
       "      <td>0.0</td>\n",
       "      <td>0.0</td>\n",
       "      <td>0.0</td>\n",
       "      <td>1.0</td>\n",
       "      <td>2.0</td>\n",
       "      <td>0.0</td>\n",
       "      <td>3.0</td>\n",
       "      <td>0.0</td>\n",
       "      <td>-7.0</td>\n",
       "    </tr>\n",
       "  </tbody>\n",
       "</table>\n",
       "</div>"
      ],
      "text/plain": [
       "   age  sex   cp  trestbps   chol  cigs  years  fbs  famhist  restecg  exang  \\\n",
       "0  6.0  1.0  1.0     145.0  233.0  50.0   20.0  1.0      1.0      2.0    0.0   \n",
       "1  7.0  1.0  4.0     160.0  286.0  40.0   40.0  0.0      1.0      2.0    1.0   \n",
       "2  7.0  1.0  4.0     120.0  229.0  20.0   35.0  0.0      1.0      2.0    1.0   \n",
       "3  1.0  1.0  3.0     130.0  250.0   0.0    0.0  0.0      1.0      0.0    0.0   \n",
       "4  2.0  0.0  2.0     130.0  204.0   0.0    0.0  0.0      1.0      2.0    0.0   \n",
       "\n",
       "   thal  num  delta_thalach  \n",
       "0   6.0  0.0           -7.0  \n",
       "1   3.0  2.0          -45.0  \n",
       "2   7.0  1.0          -24.0  \n",
       "3   3.0  0.0            4.0  \n",
       "4   3.0  0.0           -7.0  "
      ]
     },
     "execution_count": 39,
     "metadata": {},
     "output_type": "execute_result"
    }
   ],
   "source": [
    "heart_disease_df.loc[ heart_disease_df['age'] <= 34, 'age'] = 0\n",
    "heart_disease_df.loc[(heart_disease_df['age'] >  34) & (heart_disease_df['age'] <= 39), 'age'] = 1\n",
    "heart_disease_df.loc[(heart_disease_df['age'] >  39) & (heart_disease_df['age'] <= 43), 'age'] = 2\n",
    "heart_disease_df.loc[(heart_disease_df['age'] >  43) & (heart_disease_df['age'] <= 48), 'age'] = 3\n",
    "heart_disease_df.loc[(heart_disease_df['age'] >  48) & (heart_disease_df['age'] <= 53), 'age'] = 4\n",
    "heart_disease_df.loc[(heart_disease_df['age'] >  53) & (heart_disease_df['age'] <= 58), 'age'] = 5\n",
    "heart_disease_df.loc[(heart_disease_df['age'] >  58) & (heart_disease_df['age'] <= 63), 'age'] = 6\n",
    "heart_disease_df.loc[(heart_disease_df['age'] >  63) & (heart_disease_df['age'] <= 67), 'age'] = 7\n",
    "heart_disease_df.loc[(heart_disease_df['age'] >  67) & (heart_disease_df['age'] <= 72), 'age'] = 8\n",
    "heart_disease_df.loc[ heart_disease_df['age'] >  72, 'age'] = 9\n",
    "heart_disease_df.drop(columns=['AgeBand'], inplace=True)\n",
    "heart_disease_df.head()"
   ]
  },
  {
   "cell_type": "markdown",
   "metadata": {},
   "source": [
    "### 3.D.3 Cigs Bands\n",
    "\n",
    "Inspired by the simplicity of creating bands for `age` and assuming that the\n",
    "general proclivity for using cigarettes is more significant than the exact\n",
    "number of years, we band the `cigs` values.\n",
    "\n",
    "*This also has the nice effect of handling outliers*."
   ]
  },
  {
   "cell_type": "code",
   "execution_count": 40,
   "metadata": {},
   "outputs": [
    {
     "data": {
      "text/html": [
       "<div>\n",
       "<style scoped>\n",
       "    .dataframe tbody tr th:only-of-type {\n",
       "        vertical-align: middle;\n",
       "    }\n",
       "\n",
       "    .dataframe tbody tr th {\n",
       "        vertical-align: top;\n",
       "    }\n",
       "\n",
       "    .dataframe thead th {\n",
       "        text-align: right;\n",
       "    }\n",
       "</style>\n",
       "<table border=\"1\" class=\"dataframe\">\n",
       "  <thead>\n",
       "    <tr style=\"text-align: right;\">\n",
       "      <th></th>\n",
       "      <th>CigsBand</th>\n",
       "      <th>num</th>\n",
       "    </tr>\n",
       "  </thead>\n",
       "  <tbody>\n",
       "    <tr>\n",
       "      <th>0</th>\n",
       "      <td>(-0.099, 14.143]</td>\n",
       "      <td>0.843972</td>\n",
       "    </tr>\n",
       "    <tr>\n",
       "      <th>1</th>\n",
       "      <td>(14.143, 28.286]</td>\n",
       "      <td>0.954545</td>\n",
       "    </tr>\n",
       "    <tr>\n",
       "      <th>2</th>\n",
       "      <td>(28.286, 42.429]</td>\n",
       "      <td>1.019231</td>\n",
       "    </tr>\n",
       "    <tr>\n",
       "      <th>3</th>\n",
       "      <td>(42.429, 56.571]</td>\n",
       "      <td>0.555556</td>\n",
       "    </tr>\n",
       "    <tr>\n",
       "      <th>4</th>\n",
       "      <td>(56.571, 70.714]</td>\n",
       "      <td>1.500000</td>\n",
       "    </tr>\n",
       "    <tr>\n",
       "      <th>5</th>\n",
       "      <td>(70.714, 84.857]</td>\n",
       "      <td>0.333333</td>\n",
       "    </tr>\n",
       "    <tr>\n",
       "      <th>6</th>\n",
       "      <td>(84.857, 99.0]</td>\n",
       "      <td>0.000000</td>\n",
       "    </tr>\n",
       "  </tbody>\n",
       "</table>\n",
       "</div>"
      ],
      "text/plain": [
       "           CigsBand       num\n",
       "0  (-0.099, 14.143]  0.843972\n",
       "1  (14.143, 28.286]  0.954545\n",
       "2  (28.286, 42.429]  1.019231\n",
       "3  (42.429, 56.571]  0.555556\n",
       "4  (56.571, 70.714]  1.500000\n",
       "5  (70.714, 84.857]  0.333333\n",
       "6    (84.857, 99.0]  0.000000"
      ]
     },
     "execution_count": 40,
     "metadata": {},
     "output_type": "execute_result"
    }
   ],
   "source": [
    "heart_disease_df['CigsBand'] = pd.cut(heart_disease_df['cigs'], 7)\n",
    "heart_disease_df[['CigsBand', 'num']].groupby(['CigsBand'], as_index=False).mean().sort_values(by='CigsBand', ascending=True)"
   ]
  },
  {
   "cell_type": "code",
   "execution_count": 41,
   "metadata": {},
   "outputs": [
    {
     "data": {
      "text/html": [
       "<div>\n",
       "<style scoped>\n",
       "    .dataframe tbody tr th:only-of-type {\n",
       "        vertical-align: middle;\n",
       "    }\n",
       "\n",
       "    .dataframe tbody tr th {\n",
       "        vertical-align: top;\n",
       "    }\n",
       "\n",
       "    .dataframe thead th {\n",
       "        text-align: right;\n",
       "    }\n",
       "</style>\n",
       "<table border=\"1\" class=\"dataframe\">\n",
       "  <thead>\n",
       "    <tr style=\"text-align: right;\">\n",
       "      <th></th>\n",
       "      <th>age</th>\n",
       "      <th>sex</th>\n",
       "      <th>cp</th>\n",
       "      <th>trestbps</th>\n",
       "      <th>chol</th>\n",
       "      <th>cigs</th>\n",
       "      <th>years</th>\n",
       "      <th>fbs</th>\n",
       "      <th>famhist</th>\n",
       "      <th>restecg</th>\n",
       "      <th>exang</th>\n",
       "      <th>thal</th>\n",
       "      <th>num</th>\n",
       "      <th>delta_thalach</th>\n",
       "    </tr>\n",
       "  </thead>\n",
       "  <tbody>\n",
       "    <tr>\n",
       "      <th>0</th>\n",
       "      <td>6.0</td>\n",
       "      <td>1.0</td>\n",
       "      <td>1.0</td>\n",
       "      <td>145.0</td>\n",
       "      <td>233.0</td>\n",
       "      <td>3.0</td>\n",
       "      <td>20.0</td>\n",
       "      <td>1.0</td>\n",
       "      <td>1.0</td>\n",
       "      <td>2.0</td>\n",
       "      <td>0.0</td>\n",
       "      <td>6.0</td>\n",
       "      <td>0.0</td>\n",
       "      <td>-7.0</td>\n",
       "    </tr>\n",
       "    <tr>\n",
       "      <th>1</th>\n",
       "      <td>7.0</td>\n",
       "      <td>1.0</td>\n",
       "      <td>4.0</td>\n",
       "      <td>160.0</td>\n",
       "      <td>286.0</td>\n",
       "      <td>3.0</td>\n",
       "      <td>40.0</td>\n",
       "      <td>0.0</td>\n",
       "      <td>1.0</td>\n",
       "      <td>2.0</td>\n",
       "      <td>1.0</td>\n",
       "      <td>3.0</td>\n",
       "      <td>2.0</td>\n",
       "      <td>-45.0</td>\n",
       "    </tr>\n",
       "    <tr>\n",
       "      <th>2</th>\n",
       "      <td>7.0</td>\n",
       "      <td>1.0</td>\n",
       "      <td>4.0</td>\n",
       "      <td>120.0</td>\n",
       "      <td>229.0</td>\n",
       "      <td>2.0</td>\n",
       "      <td>35.0</td>\n",
       "      <td>0.0</td>\n",
       "      <td>1.0</td>\n",
       "      <td>2.0</td>\n",
       "      <td>1.0</td>\n",
       "      <td>7.0</td>\n",
       "      <td>1.0</td>\n",
       "      <td>-24.0</td>\n",
       "    </tr>\n",
       "    <tr>\n",
       "      <th>3</th>\n",
       "      <td>1.0</td>\n",
       "      <td>1.0</td>\n",
       "      <td>3.0</td>\n",
       "      <td>130.0</td>\n",
       "      <td>250.0</td>\n",
       "      <td>0.0</td>\n",
       "      <td>0.0</td>\n",
       "      <td>0.0</td>\n",
       "      <td>1.0</td>\n",
       "      <td>0.0</td>\n",
       "      <td>0.0</td>\n",
       "      <td>3.0</td>\n",
       "      <td>0.0</td>\n",
       "      <td>4.0</td>\n",
       "    </tr>\n",
       "    <tr>\n",
       "      <th>4</th>\n",
       "      <td>2.0</td>\n",
       "      <td>0.0</td>\n",
       "      <td>2.0</td>\n",
       "      <td>130.0</td>\n",
       "      <td>204.0</td>\n",
       "      <td>0.0</td>\n",
       "      <td>0.0</td>\n",
       "      <td>0.0</td>\n",
       "      <td>1.0</td>\n",
       "      <td>2.0</td>\n",
       "      <td>0.0</td>\n",
       "      <td>3.0</td>\n",
       "      <td>0.0</td>\n",
       "      <td>-7.0</td>\n",
       "    </tr>\n",
       "  </tbody>\n",
       "</table>\n",
       "</div>"
      ],
      "text/plain": [
       "   age  sex   cp  trestbps   chol  cigs  years  fbs  famhist  restecg  exang  \\\n",
       "0  6.0  1.0  1.0     145.0  233.0   3.0   20.0  1.0      1.0      2.0    0.0   \n",
       "1  7.0  1.0  4.0     160.0  286.0   3.0   40.0  0.0      1.0      2.0    1.0   \n",
       "2  7.0  1.0  4.0     120.0  229.0   2.0   35.0  0.0      1.0      2.0    1.0   \n",
       "3  1.0  1.0  3.0     130.0  250.0   0.0    0.0  0.0      1.0      0.0    0.0   \n",
       "4  2.0  0.0  2.0     130.0  204.0   0.0    0.0  0.0      1.0      2.0    0.0   \n",
       "\n",
       "   thal  num  delta_thalach  \n",
       "0   6.0  0.0           -7.0  \n",
       "1   3.0  2.0          -45.0  \n",
       "2   7.0  1.0          -24.0  \n",
       "3   3.0  0.0            4.0  \n",
       "4   3.0  0.0           -7.0  "
      ]
     },
     "execution_count": 41,
     "metadata": {},
     "output_type": "execute_result"
    }
   ],
   "source": [
    "# Note that we manually ensure that 0 gets its own band\n",
    "heart_disease_df.loc[ heart_disease_df['cigs'] ==  0, 'cigs'] = 0\n",
    "heart_disease_df.loc[(heart_disease_df['cigs'] >   0) & (heart_disease_df['cigs'] <= 10), 'cigs'] = 1\n",
    "heart_disease_df.loc[(heart_disease_df['cigs'] >  10) & (heart_disease_df['cigs'] <= 20), 'cigs'] = 2\n",
    "heart_disease_df.loc[ heart_disease_df['cigs'] >  20, 'cigs'] = 3\n",
    "heart_disease_df.drop(columns=['CigsBand'], inplace=True)\n",
    "heart_disease_df.head()"
   ]
  },
  {
   "cell_type": "markdown",
   "metadata": {},
   "source": [
    "### 3.D.4 Years Bands\n",
    "\n",
    "Similar explanation as 3.D.3"
   ]
  },
  {
   "cell_type": "code",
   "execution_count": 42,
   "metadata": {},
   "outputs": [
    {
     "data": {
      "text/html": [
       "<div>\n",
       "<style scoped>\n",
       "    .dataframe tbody tr th:only-of-type {\n",
       "        vertical-align: middle;\n",
       "    }\n",
       "\n",
       "    .dataframe tbody tr th {\n",
       "        vertical-align: top;\n",
       "    }\n",
       "\n",
       "    .dataframe thead th {\n",
       "        text-align: right;\n",
       "    }\n",
       "</style>\n",
       "<table border=\"1\" class=\"dataframe\">\n",
       "  <thead>\n",
       "    <tr style=\"text-align: right;\">\n",
       "      <th></th>\n",
       "      <th>age</th>\n",
       "      <th>sex</th>\n",
       "      <th>cp</th>\n",
       "      <th>trestbps</th>\n",
       "      <th>chol</th>\n",
       "      <th>cigs</th>\n",
       "      <th>years</th>\n",
       "      <th>fbs</th>\n",
       "      <th>famhist</th>\n",
       "      <th>restecg</th>\n",
       "      <th>exang</th>\n",
       "      <th>thal</th>\n",
       "      <th>num</th>\n",
       "      <th>delta_thalach</th>\n",
       "    </tr>\n",
       "  </thead>\n",
       "  <tbody>\n",
       "    <tr>\n",
       "      <th>0</th>\n",
       "      <td>6.0</td>\n",
       "      <td>1.0</td>\n",
       "      <td>1.0</td>\n",
       "      <td>145.0</td>\n",
       "      <td>233.0</td>\n",
       "      <td>3.0</td>\n",
       "      <td>2.0</td>\n",
       "      <td>1.0</td>\n",
       "      <td>1.0</td>\n",
       "      <td>2.0</td>\n",
       "      <td>0.0</td>\n",
       "      <td>6.0</td>\n",
       "      <td>0.0</td>\n",
       "      <td>-7.0</td>\n",
       "    </tr>\n",
       "    <tr>\n",
       "      <th>1</th>\n",
       "      <td>7.0</td>\n",
       "      <td>1.0</td>\n",
       "      <td>4.0</td>\n",
       "      <td>160.0</td>\n",
       "      <td>286.0</td>\n",
       "      <td>3.0</td>\n",
       "      <td>4.0</td>\n",
       "      <td>0.0</td>\n",
       "      <td>1.0</td>\n",
       "      <td>2.0</td>\n",
       "      <td>1.0</td>\n",
       "      <td>3.0</td>\n",
       "      <td>2.0</td>\n",
       "      <td>-45.0</td>\n",
       "    </tr>\n",
       "    <tr>\n",
       "      <th>2</th>\n",
       "      <td>7.0</td>\n",
       "      <td>1.0</td>\n",
       "      <td>4.0</td>\n",
       "      <td>120.0</td>\n",
       "      <td>229.0</td>\n",
       "      <td>2.0</td>\n",
       "      <td>4.0</td>\n",
       "      <td>0.0</td>\n",
       "      <td>1.0</td>\n",
       "      <td>2.0</td>\n",
       "      <td>1.0</td>\n",
       "      <td>7.0</td>\n",
       "      <td>1.0</td>\n",
       "      <td>-24.0</td>\n",
       "    </tr>\n",
       "    <tr>\n",
       "      <th>3</th>\n",
       "      <td>1.0</td>\n",
       "      <td>1.0</td>\n",
       "      <td>3.0</td>\n",
       "      <td>130.0</td>\n",
       "      <td>250.0</td>\n",
       "      <td>0.0</td>\n",
       "      <td>0.0</td>\n",
       "      <td>0.0</td>\n",
       "      <td>1.0</td>\n",
       "      <td>0.0</td>\n",
       "      <td>0.0</td>\n",
       "      <td>3.0</td>\n",
       "      <td>0.0</td>\n",
       "      <td>4.0</td>\n",
       "    </tr>\n",
       "    <tr>\n",
       "      <th>4</th>\n",
       "      <td>2.0</td>\n",
       "      <td>0.0</td>\n",
       "      <td>2.0</td>\n",
       "      <td>130.0</td>\n",
       "      <td>204.0</td>\n",
       "      <td>0.0</td>\n",
       "      <td>0.0</td>\n",
       "      <td>0.0</td>\n",
       "      <td>1.0</td>\n",
       "      <td>2.0</td>\n",
       "      <td>0.0</td>\n",
       "      <td>3.0</td>\n",
       "      <td>0.0</td>\n",
       "      <td>-7.0</td>\n",
       "    </tr>\n",
       "  </tbody>\n",
       "</table>\n",
       "</div>"
      ],
      "text/plain": [
       "   age  sex   cp  trestbps   chol  cigs  years  fbs  famhist  restecg  exang  \\\n",
       "0  6.0  1.0  1.0     145.0  233.0   3.0    2.0  1.0      1.0      2.0    0.0   \n",
       "1  7.0  1.0  4.0     160.0  286.0   3.0    4.0  0.0      1.0      2.0    1.0   \n",
       "2  7.0  1.0  4.0     120.0  229.0   2.0    4.0  0.0      1.0      2.0    1.0   \n",
       "3  1.0  1.0  3.0     130.0  250.0   0.0    0.0  0.0      1.0      0.0    0.0   \n",
       "4  2.0  0.0  2.0     130.0  204.0   0.0    0.0  0.0      1.0      2.0    0.0   \n",
       "\n",
       "   thal  num  delta_thalach  \n",
       "0   6.0  0.0           -7.0  \n",
       "1   3.0  2.0          -45.0  \n",
       "2   7.0  1.0          -24.0  \n",
       "3   3.0  0.0            4.0  \n",
       "4   3.0  0.0           -7.0  "
      ]
     },
     "execution_count": 42,
     "metadata": {},
     "output_type": "execute_result"
    }
   ],
   "source": [
    "# Note that we manually ensure that 0 gets its own band\n",
    "heart_disease_df.loc[ heart_disease_df['years'] ==  0, 'years'] = 0\n",
    "heart_disease_df.loc[(heart_disease_df['years'] >   0) & (heart_disease_df['years'] <= 10), 'years'] = 1\n",
    "heart_disease_df.loc[(heart_disease_df['years'] >  10) & (heart_disease_df['years'] <= 20), 'years'] = 2\n",
    "heart_disease_df.loc[(heart_disease_df['years'] >  20) & (heart_disease_df['years'] <= 30), 'years'] = 3\n",
    "heart_disease_df.loc[(heart_disease_df['years'] >  30) & (heart_disease_df['years'] <= 40), 'years'] = 4\n",
    "heart_disease_df.loc[ heart_disease_df['years'] >  40, 'years'] = 5\n",
    "heart_disease_df.head()"
   ]
  },
  {
   "cell_type": "code",
   "execution_count": 45,
   "metadata": {},
   "outputs": [],
   "source": [
    "cols_at_end = ['num']\n",
    "heart_disease_df = heart_disease_df[[c for c in heart_disease_df if c not in cols_at_end] \n",
    "        + [c for c in cols_at_end if c in heart_disease_df]]\n",
    "heart_disease_df.to_csv('data/heart.disease.data-cleaned.csv')"
   ]
  },
  {
   "cell_type": "markdown",
   "metadata": {},
   "source": [
    "# 4 Summary\n",
    "\n",
    "- During the setup phase (Section 1), we first performed a sanity check of \n",
    "  the raw data set (prior to importing into Pandas).  Then we set up our Python\n",
    "  configuration and performed the import.  Finally, we verified that the\n",
    "  imported data matched the expectations based on analyzing the raw file.\n",
    "\n",
    "- After importing the data, we performed an initial exploration of the data\n",
    "  (Section 2).  We first performed some internet research to determine the\n",
    "  meaning of each column and its expected values.  Then, we used the Pandas\n",
    "  built-in functions `info()` and `describe()` to determine the contents of each\n",
    "  column (object, numeric, etc.).  For this dataset, we confirmed that the\n",
    "  special value `-9` actually indicates a missing value.\n",
    "\n",
    "- In Section 3, we performed a deeper analysis by looking for relationships\n",
    "  between two or more Features of the data set (Section 3.A, Corrlation).\n",
    "  We then (Section 3.B) completed the `cigs`, `years`, and `thal` columns by\n",
    "  calculating replacement values for this which are missing.  We removed the\n",
    "  `dm` column due to insufficient data to complete the missing values (Section\n",
    "  3.D).  Finally, we created an additional column (`delta_thalach`) based on\n",
    "  `thalach` and `age` (and subsequently removed `thalach`) and then we\n",
    "  performed banding for `age`, `cigs`, and `years`."
   ]
  },
  {
   "cell_type": "markdown",
   "metadata": {},
   "source": [
    "# References\n",
    "\n",
    "* UC Irvine Machine Learning Repository (1988).  Heart disease dataset.  Retrieved from http://archive.ics.uci.edu/ml/datasets/heart+Disease\n",
    "\n",
    "* Matplotlib.org (n.d.).  matplotlib.pyplot.hist.  Retrieved from  https://matplotlib.org/stable/api/_as_gen/matplotlib.pyplot.hist.html\n",
    "\n",
    "* Charles River Medical Associates (2018, January).  What is A Normal Heart Rate Under a Stress Test for Adults?  Retrieved from https://www.charlesrivermed.com/normal-heart-rate-stress-test/"
   ]
  }
 ],
 "metadata": {
  "kernelspec": {
   "display_name": "Python 3 (ipykernel)",
   "language": "python",
   "name": "python3"
  },
  "orig_nbformat": 4
 },
 "nbformat": 4,
 "nbformat_minor": 2
}
